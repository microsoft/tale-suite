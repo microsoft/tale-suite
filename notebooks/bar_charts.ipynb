{
 "cells": [
  {
   "cell_type": "code",
   "execution_count": 1,
   "metadata": {},
   "outputs": [],
   "source": [
    "import wandb\n",
    "import pandas as pd\n",
    "import numpy as np\n",
    "import yaml\n",
    "\n",
    "\n",
    "with open(\"wandb.cfg\", \"r\") as f:\n",
    "    WANDB_CONFIG = yaml.load(f, Loader=yaml.FullLoader)\n",
    "\n",
    "# Load informations about the games.\n",
    "GAME_INFOS = pd.read_csv(\"game_infos.csv\")\n",
    "\n",
    "def fetch_data(framework, src=\"cloud\"):\n",
    "    wandb_config = WANDB_CONFIG[src]\n",
    "    entity = wandb_config[\"entity\"]\n",
    "    project = wandb_config[\"project\"]\n",
    "    api = wandb.Api(overrides={\"base_url\": wandb_config[\"base_url\"]}, api_key=wandb_config[\"api_key\"])\n",
    "    runs = api.runs(\n",
    "        f\"{entity}/{project}\",\n",
    "        filters={\n",
    "            \"state\": \"finished\",\n",
    "            \"config.framework\": framework,\n",
    "            # \"user\": \"marc-cote-19\",\n",
    "            # \"config.agent_type\": \"zero-shot\",\n",
    "            # \"config.conversation\": True,\n",
    "        }\n",
    "    )\n",
    "\n",
    "    # Conver Wandb RUNS to a pandas dataframe\n",
    "    runs_data = []\n",
    "    for run in runs:\n",
    "        run_data = dict(run.summary)\n",
    "        run_data.update(run.config)\n",
    "        # run_data[\"agent\"] = run.config[\"agent\"]\n",
    "        # run_data[\"game\"] = run.config[\"game\"]\n",
    "        runs_data.append(run_data)\n",
    "\n",
    "    runs_df = pd.DataFrame(runs_data)\n",
    "\n",
    "    categories = [\"Stochastic\", \"Dialog\", \"Darkness\", \"Nonstandard Action\", \"Inventory\", \"Maze\", \"Maze\", \"Trivia\", \"Self-Maintenance\", \"Combat\", \"Time\", \"Mechanical Puzzle\", \"Persistence\", \"Difficulty\"]\n",
    "    ignore_categories = [\"Difficulty\"]\n",
    "\n",
    "    # Keep game, model, Max Normalized Score\n",
    "    #runs_df = runs_df[[\"game\", \"agent\", \"final/Normalized Score\"]]\n",
    "    runs_df = runs_df.sort_values(by=\"game\")\n",
    "\n",
    "    # For each game add columns with the following games infos: Stochastic, Dialog, Darkness, Nonstandard Action, Inventory, Difficulty\n",
    "    for game in runs_df[\"game\"].unique():\n",
    "        game_info = GAME_INFOS[GAME_INFOS[\"EnvName\"] == game]\n",
    "        if game_info.empty:\n",
    "            print(f\"Can't find {game} in game_infos.csv\")\n",
    "\n",
    "        for col in categories:\n",
    "            runs_df.loc[runs_df[\"game\"] == game, col] = game_info[col].values[0]\n",
    "\n",
    "    return runs_df\n"
   ]
  },
  {
   "cell_type": "code",
   "execution_count": 2,
   "metadata": {},
   "outputs": [
    {
     "name": "stdout",
     "output_type": "stream",
     "text": [
      "1671\n"
     ]
    }
   ],
   "source": [
    "framework = \"scienceworld\"\n",
    "framework = \"textworld\"\n",
    "#framework = \"textworld_express\"\n",
    "#framework = \"alfworld\"\n",
    "#framework = \"jericho\"\n",
    "data = fetch_data(framework, src=\"pearls\")\n",
    "print(len(data))\n",
    "# data"
   ]
  },
  {
   "cell_type": "code",
   "execution_count": 3,
   "metadata": {},
   "outputs": [
    {
     "data": {
      "application/vnd.plotly.v1+json": {
       "config": {
        "plotlyServerURL": "https://plot.ly"
       },
       "data": [
        {
         "alignmentgroup": "True",
         "error_y": {
          "array": [
           0
          ]
         },
         "hovertemplate": "llm=mistralai/Mixtral-8x7B-Instruct-v0.1<br>llm_short=%{x}<br>mean=%{y}<extra></extra>",
         "legendgroup": "mistralai/Mixtral-8x7B-Instruct-v0.1",
         "marker": {
          "color": "#636efa",
          "pattern": {
           "shape": ""
          }
         },
         "name": "mistralai/Mixtral-8x7B-Instruct-v0.1",
         "offsetgroup": "mistralai/Mixtral-8x7B-Instruct-v0.1",
         "orientation": "v",
         "showlegend": true,
         "textposition": "outside",
         "type": "bar",
         "width": 0.4,
         "x": [
          "mistralai/Mixtral-8x7B-v0.1"
         ],
         "xaxis": "x",
         "y": [
          0
         ],
         "yaxis": "y"
        },
        {
         "alignmentgroup": "True",
         "error_y": {
          "array": [
           0.05003980275151402
          ]
         },
         "hovertemplate": "llm=mistralai/Mixtral-8x22B-Instruct-v0.1<br>llm_short=%{x}<br>mean=%{y}<extra></extra>",
         "legendgroup": "mistralai/Mixtral-8x22B-Instruct-v0.1",
         "marker": {
          "color": "#EF553B",
          "pattern": {
           "shape": ""
          }
         },
         "name": "mistralai/Mixtral-8x22B-Instruct-v0.1",
         "offsetgroup": "mistralai/Mixtral-8x22B-Instruct-v0.1",
         "orientation": "v",
         "showlegend": true,
         "textposition": "outside",
         "type": "bar",
         "width": 0.4,
         "x": [
          "mistralai/Mixtral-8x22B-v0.1"
         ],
         "xaxis": "x",
         "y": [
          0.17066666666666666
         ],
         "yaxis": "y"
        },
        {
         "alignmentgroup": "True",
         "error_y": {
          "array": [
           0.06342319052449422
          ]
         },
         "hovertemplate": "llm=mistralai/Mistral-Small-Instruct-2409<br>llm_short=%{x}<br>mean=%{y}<extra></extra>",
         "legendgroup": "mistralai/Mistral-Small-Instruct-2409",
         "marker": {
          "color": "#00cc96",
          "pattern": {
           "shape": ""
          }
         },
         "name": "mistralai/Mistral-Small-Instruct-2409",
         "offsetgroup": "mistralai/Mistral-Small-Instruct-2409",
         "orientation": "v",
         "showlegend": true,
         "textposition": "outside",
         "type": "bar",
         "width": 0.4,
         "x": [
          "mistralai/Mistral-Small-2409"
         ],
         "xaxis": "x",
         "y": [
          0.561
         ],
         "yaxis": "y"
        },
        {
         "alignmentgroup": "True",
         "error_y": {
          "array": [
           0.046849348081276825
          ]
         },
         "hovertemplate": "llm=mistralai/Mistral-Large-Instruct-2407<br>llm_short=%{x}<br>mean=%{y}<extra></extra>",
         "legendgroup": "mistralai/Mistral-Large-Instruct-2407",
         "marker": {
          "color": "#ab63fa",
          "pattern": {
           "shape": ""
          }
         },
         "name": "mistralai/Mistral-Large-Instruct-2407",
         "offsetgroup": "mistralai/Mistral-Large-Instruct-2407",
         "orientation": "v",
         "showlegend": true,
         "textposition": "outside",
         "type": "bar",
         "width": 0.4,
         "x": [
          "mistralai/Mistral-Large-2407"
         ],
         "xaxis": "x",
         "y": [
          0.8242424242424242
         ],
         "yaxis": "y"
        },
        {
         "alignmentgroup": "True",
         "error_y": {
          "array": [
           0.04643833841102001
          ]
         },
         "hovertemplate": "llm=mistralai/Ministral-8B-Instruct-2410<br>llm_short=%{x}<br>mean=%{y}<extra></extra>",
         "legendgroup": "mistralai/Ministral-8B-Instruct-2410",
         "marker": {
          "color": "#FFA15A",
          "pattern": {
           "shape": ""
          }
         },
         "name": "mistralai/Ministral-8B-Instruct-2410",
         "offsetgroup": "mistralai/Ministral-8B-Instruct-2410",
         "orientation": "v",
         "showlegend": true,
         "textposition": "outside",
         "type": "bar",
         "width": 0.4,
         "x": [
          "mistralai/Ministral-8B-2410"
         ],
         "xaxis": "x",
         "y": [
          0.1716666666666667
         ],
         "yaxis": "y"
        },
        {
         "alignmentgroup": "True",
         "error_y": {
          "array": [
           0
          ]
         },
         "hovertemplate": "llm=microsoft/Phi-3.5-mini-instruct<br>llm_short=%{x}<br>mean=%{y}<extra></extra>",
         "legendgroup": "microsoft/Phi-3.5-mini-instruct",
         "marker": {
          "color": "#19d3f3",
          "pattern": {
           "shape": ""
          }
         },
         "name": "microsoft/Phi-3.5-mini-instruct",
         "offsetgroup": "microsoft/Phi-3.5-mini-instruct",
         "orientation": "v",
         "showlegend": true,
         "textposition": "outside",
         "type": "bar",
         "width": 0.4,
         "x": [
          "microsoft/Phi-3.5-mini-instruct"
         ],
         "xaxis": "x",
         "y": [
          0
         ],
         "yaxis": "y"
        },
        {
         "alignmentgroup": "True",
         "error_y": {
          "array": [
           0.01072035785176056
          ]
         },
         "hovertemplate": "llm=microsoft/Phi-3-mini-128k-instruct<br>llm_short=%{x}<br>mean=%{y}<extra></extra>",
         "legendgroup": "microsoft/Phi-3-mini-128k-instruct",
         "marker": {
          "color": "#FF6692",
          "pattern": {
           "shape": ""
          }
         },
         "name": "microsoft/Phi-3-mini-128k-instruct",
         "offsetgroup": "microsoft/Phi-3-mini-128k-instruct",
         "orientation": "v",
         "showlegend": true,
         "textposition": "outside",
         "type": "bar",
         "width": 0.4,
         "x": [
          "microsoft/Phi-3-mini-128k-instruct"
         ],
         "xaxis": "x",
         "y": [
          0.027551020408163266
         ],
         "yaxis": "y"
        },
        {
         "alignmentgroup": "True",
         "error_y": {
          "array": [
           0
          ]
         },
         "hovertemplate": "llm=microsoft/Phi-3-medium-128k-instruct<br>llm_short=%{x}<br>mean=%{y}<extra></extra>",
         "legendgroup": "microsoft/Phi-3-medium-128k-instruct",
         "marker": {
          "color": "#B6E880",
          "pattern": {
           "shape": ""
          }
         },
         "name": "microsoft/Phi-3-medium-128k-instruct",
         "offsetgroup": "microsoft/Phi-3-medium-128k-instruct",
         "orientation": "v",
         "showlegend": true,
         "textposition": "outside",
         "type": "bar",
         "width": 0.4,
         "x": [
          "microsoft/Phi-3-medium-128k-instruct"
         ],
         "xaxis": "x",
         "y": [
          0
         ],
         "yaxis": "y"
        },
        {
         "alignmentgroup": "True",
         "error_y": {
          "array": [
           0.06000827466788564
          ]
         },
         "hovertemplate": "llm=llama-31-70b-instruct<br>llm_short=%{x}<br>mean=%{y}<extra></extra>",
         "legendgroup": "llama-31-70b-instruct",
         "marker": {
          "color": "#FF97FF",
          "pattern": {
           "shape": ""
          }
         },
         "name": "llama-31-70b-instruct",
         "offsetgroup": "llama-31-70b-instruct",
         "orientation": "v",
         "showlegend": true,
         "textposition": "outside",
         "type": "bar",
         "width": 0.4,
         "x": [
          "llama-31-70b-instruct"
         ],
         "xaxis": "x",
         "y": [
          0.6490606060606061
         ],
         "yaxis": "y"
        },
        {
         "alignmentgroup": "True",
         "error_y": {
          "array": [
           0.04915333373125961
          ]
         },
         "hovertemplate": "llm=Qwen/Qwen2.5-72B-Instruct<br>llm_short=%{x}<br>mean=%{y}<extra></extra>",
         "legendgroup": "Qwen/Qwen2.5-72B-Instruct",
         "marker": {
          "color": "#FECB52",
          "pattern": {
           "shape": ""
          }
         },
         "name": "Qwen/Qwen2.5-72B-Instruct",
         "offsetgroup": "Qwen/Qwen2.5-72B-Instruct",
         "orientation": "v",
         "showlegend": true,
         "textposition": "outside",
         "type": "bar",
         "width": 0.4,
         "x": [
          "Qwen/Qwen2.5-72B"
         ],
         "xaxis": "x",
         "y": [
          0.8236166007905138
         ],
         "yaxis": "y"
        },
        {
         "alignmentgroup": "True",
         "error_y": {
          "array": [
           0
          ]
         },
         "hovertemplate": "llm=meta-llama/Llama-3.2-1B-Instruct<br>llm_short=%{x}<br>mean=%{y}<extra></extra>",
         "legendgroup": "meta-llama/Llama-3.2-1B-Instruct",
         "marker": {
          "color": "#636efa",
          "pattern": {
           "shape": ""
          }
         },
         "name": "meta-llama/Llama-3.2-1B-Instruct",
         "offsetgroup": "meta-llama/Llama-3.2-1B-Instruct",
         "orientation": "v",
         "showlegend": true,
         "textposition": "outside",
         "type": "bar",
         "width": 0.4,
         "x": [
          "3.2-1B"
         ],
         "xaxis": "x",
         "y": [
          0
         ],
         "yaxis": "y"
        },
        {
         "alignmentgroup": "True",
         "error_y": {
          "array": [
           0.03145078756892805
          ]
         },
         "hovertemplate": "llm=meta-llama/Llama-3.2-3B-Instruct<br>llm_short=%{x}<br>mean=%{y}<extra></extra>",
         "legendgroup": "meta-llama/Llama-3.2-3B-Instruct",
         "marker": {
          "color": "#EF553B",
          "pattern": {
           "shape": ""
          }
         },
         "name": "meta-llama/Llama-3.2-3B-Instruct",
         "offsetgroup": "meta-llama/Llama-3.2-3B-Instruct",
         "orientation": "v",
         "showlegend": true,
         "textposition": "outside",
         "type": "bar",
         "width": 0.4,
         "x": [
          "3.2-3B"
         ],
         "xaxis": "x",
         "y": [
          0.1377020202020202
         ],
         "yaxis": "y"
        },
        {
         "alignmentgroup": "True",
         "error_y": {
          "array": [
           0.05364763372040651
          ]
         },
         "hovertemplate": "llm=meta-llama/Llama-3.1-8B-Instruct<br>llm_short=%{x}<br>mean=%{y}<extra></extra>",
         "legendgroup": "meta-llama/Llama-3.1-8B-Instruct",
         "marker": {
          "color": "#00cc96",
          "pattern": {
           "shape": ""
          }
         },
         "name": "meta-llama/Llama-3.1-8B-Instruct",
         "offsetgroup": "meta-llama/Llama-3.1-8B-Instruct",
         "orientation": "v",
         "showlegend": true,
         "textposition": "outside",
         "type": "bar",
         "width": 0.4,
         "x": [
          "3.1-8B"
         ],
         "xaxis": "x",
         "y": [
          0.33700159489633175
         ],
         "yaxis": "y"
        },
        {
         "alignmentgroup": "True",
         "error_y": {
          "array": [
           0.05093958610746864
          ]
         },
         "hovertemplate": "llm=meta-llama/Llama-3.1-70B-Instruct<br>llm_short=%{x}<br>mean=%{y}<extra></extra>",
         "legendgroup": "meta-llama/Llama-3.1-70B-Instruct",
         "marker": {
          "color": "#ab63fa",
          "pattern": {
           "shape": ""
          }
         },
         "name": "meta-llama/Llama-3.1-70B-Instruct",
         "offsetgroup": "meta-llama/Llama-3.1-70B-Instruct",
         "orientation": "v",
         "showlegend": true,
         "textposition": "outside",
         "type": "bar",
         "width": 0.4,
         "x": [
          "3.1-70B"
         ],
         "xaxis": "x",
         "y": [
          0.6629220779220779
         ],
         "yaxis": "y"
        },
        {
         "alignmentgroup": "True",
         "error_y": {
          "array": [
           0.025727109312047285
          ]
         },
         "hovertemplate": "llm=meta-llama/Llama-3.1-405B-Instruct<br>llm_short=%{x}<br>mean=%{y}<extra></extra>",
         "legendgroup": "meta-llama/Llama-3.1-405B-Instruct",
         "marker": {
          "color": "#FFA15A",
          "pattern": {
           "shape": ""
          }
         },
         "name": "meta-llama/Llama-3.1-405B-Instruct",
         "offsetgroup": "meta-llama/Llama-3.1-405B-Instruct",
         "orientation": "v",
         "showlegend": true,
         "textposition": "outside",
         "type": "bar",
         "width": 0.4,
         "x": [
          "3.1-405B"
         ],
         "xaxis": "x",
         "y": [
          0.9117424242424242
         ],
         "yaxis": "y"
        },
        {
         "alignmentgroup": "True",
         "error_y": {
          "array": [
           0.06032398193442104
          ]
         },
         "hovertemplate": "llm=meta-llama/Llama-3.3-70B-Instruct<br>llm_short=%{x}<br>mean=%{y}<extra></extra>",
         "legendgroup": "meta-llama/Llama-3.3-70B-Instruct",
         "marker": {
          "color": "#19d3f3",
          "pattern": {
           "shape": ""
          }
         },
         "name": "meta-llama/Llama-3.3-70B-Instruct",
         "offsetgroup": "meta-llama/Llama-3.3-70B-Instruct",
         "orientation": "v",
         "showlegend": true,
         "textposition": "outside",
         "type": "bar",
         "width": 0.4,
         "x": [
          "3.3-70B"
         ],
         "xaxis": "x",
         "y": [
          0.6828181818181818
         ],
         "yaxis": "y"
        },
        {
         "alignmentgroup": "True",
         "error_y": {
          "array": [
           0.05823637686864869
          ]
         },
         "hovertemplate": "llm=gpt-4o-mini<br>llm_short=%{x}<br>mean=%{y}<extra></extra>",
         "legendgroup": "gpt-4o-mini",
         "marker": {
          "color": "#FF6692",
          "pattern": {
           "shape": ""
          }
         },
         "name": "gpt-4o-mini",
         "offsetgroup": "gpt-4o-mini",
         "orientation": "v",
         "showlegend": true,
         "textposition": "outside",
         "type": "bar",
         "width": 0.4,
         "x": [
          "gpt-4o-mini"
         ],
         "xaxis": "x",
         "y": [
          0.5654848484848485
         ],
         "yaxis": "y"
        },
        {
         "alignmentgroup": "True",
         "error_y": {
          "array": [
           0.04558719050273001
          ]
         },
         "hovertemplate": "llm=gpt-4o<br>llm_short=%{x}<br>mean=%{y}<extra></extra>",
         "legendgroup": "gpt-4o",
         "marker": {
          "color": "#B6E880",
          "pattern": {
           "shape": ""
          }
         },
         "name": "gpt-4o",
         "offsetgroup": "gpt-4o",
         "orientation": "v",
         "showlegend": true,
         "textposition": "outside",
         "type": "bar",
         "width": 0.4,
         "x": [
          "gpt-4o"
         ],
         "xaxis": "x",
         "y": [
          0.8360606060606061
         ],
         "yaxis": "y"
        },
        {
         "alignmentgroup": "True",
         "error_y": {
          "array": [
           0.10514758529028771
          ]
         },
         "hovertemplate": "llm=claude-3.5-haiku<br>llm_short=%{x}<br>mean=%{y}<extra></extra>",
         "legendgroup": "claude-3.5-haiku",
         "marker": {
          "color": "#FF97FF",
          "pattern": {
           "shape": ""
          }
         },
         "name": "claude-3.5-haiku",
         "offsetgroup": "claude-3.5-haiku",
         "orientation": "v",
         "showlegend": true,
         "textposition": "outside",
         "type": "bar",
         "width": 0.4,
         "x": [
          "claude-3.5-haiku"
         ],
         "xaxis": "x",
         "y": [
          0.8545454545454545
         ],
         "yaxis": "y"
        },
        {
         "alignmentgroup": "True",
         "error_y": {
          "array": [
           0.05454545454545455
          ]
         },
         "hovertemplate": "llm=claude-3.5-sonnet<br>llm_short=%{x}<br>mean=%{y}<extra></extra>",
         "legendgroup": "claude-3.5-sonnet",
         "marker": {
          "color": "#FECB52",
          "pattern": {
           "shape": ""
          }
         },
         "name": "claude-3.5-sonnet",
         "offsetgroup": "claude-3.5-sonnet",
         "orientation": "v",
         "showlegend": true,
         "textposition": "outside",
         "type": "bar",
         "width": 0.4,
         "x": [
          "claude-3.5-sonnet"
         ],
         "xaxis": "x",
         "y": [
          0.9454545454545455
         ],
         "yaxis": "y"
        },
        {
         "alignmentgroup": "True",
         "error_y": {
          "array": [
           0.04545454545454546
          ]
         },
         "hovertemplate": "llm=claude-3.5-sonnet-latest<br>llm_short=%{x}<br>mean=%{y}<extra></extra>",
         "legendgroup": "claude-3.5-sonnet-latest",
         "marker": {
          "color": "#636efa",
          "pattern": {
           "shape": ""
          }
         },
         "name": "claude-3.5-sonnet-latest",
         "offsetgroup": "claude-3.5-sonnet-latest",
         "orientation": "v",
         "showlegend": true,
         "textposition": "outside",
         "type": "bar",
         "width": 0.4,
         "x": [
          "claude-3.5-sonnet-latest"
         ],
         "xaxis": "x",
         "y": [
          0.9545454545454545
         ],
         "yaxis": "y"
        }
       ],
       "layout": {
        "barmode": "relative",
        "legend": {
         "orientation": "h",
         "title": {
          "text": ""
         },
         "tracegroupgap": 0,
         "x": 1,
         "xanchor": "right",
         "y": 1.02,
         "yanchor": "top"
        },
        "showlegend": false,
        "template": {
         "data": {
          "bar": [
           {
            "error_x": {
             "color": "#2a3f5f"
            },
            "error_y": {
             "color": "#2a3f5f"
            },
            "marker": {
             "line": {
              "color": "#E5ECF6",
              "width": 0.5
             },
             "pattern": {
              "fillmode": "overlay",
              "size": 10,
              "solidity": 0.2
             }
            },
            "type": "bar"
           }
          ],
          "barpolar": [
           {
            "marker": {
             "line": {
              "color": "#E5ECF6",
              "width": 0.5
             },
             "pattern": {
              "fillmode": "overlay",
              "size": 10,
              "solidity": 0.2
             }
            },
            "type": "barpolar"
           }
          ],
          "carpet": [
           {
            "aaxis": {
             "endlinecolor": "#2a3f5f",
             "gridcolor": "white",
             "linecolor": "white",
             "minorgridcolor": "white",
             "startlinecolor": "#2a3f5f"
            },
            "baxis": {
             "endlinecolor": "#2a3f5f",
             "gridcolor": "white",
             "linecolor": "white",
             "minorgridcolor": "white",
             "startlinecolor": "#2a3f5f"
            },
            "type": "carpet"
           }
          ],
          "choropleth": [
           {
            "colorbar": {
             "outlinewidth": 0,
             "ticks": ""
            },
            "type": "choropleth"
           }
          ],
          "contour": [
           {
            "colorbar": {
             "outlinewidth": 0,
             "ticks": ""
            },
            "colorscale": [
             [
              0,
              "#0d0887"
             ],
             [
              0.1111111111111111,
              "#46039f"
             ],
             [
              0.2222222222222222,
              "#7201a8"
             ],
             [
              0.3333333333333333,
              "#9c179e"
             ],
             [
              0.4444444444444444,
              "#bd3786"
             ],
             [
              0.5555555555555556,
              "#d8576b"
             ],
             [
              0.6666666666666666,
              "#ed7953"
             ],
             [
              0.7777777777777778,
              "#fb9f3a"
             ],
             [
              0.8888888888888888,
              "#fdca26"
             ],
             [
              1,
              "#f0f921"
             ]
            ],
            "type": "contour"
           }
          ],
          "contourcarpet": [
           {
            "colorbar": {
             "outlinewidth": 0,
             "ticks": ""
            },
            "type": "contourcarpet"
           }
          ],
          "heatmap": [
           {
            "colorbar": {
             "outlinewidth": 0,
             "ticks": ""
            },
            "colorscale": [
             [
              0,
              "#0d0887"
             ],
             [
              0.1111111111111111,
              "#46039f"
             ],
             [
              0.2222222222222222,
              "#7201a8"
             ],
             [
              0.3333333333333333,
              "#9c179e"
             ],
             [
              0.4444444444444444,
              "#bd3786"
             ],
             [
              0.5555555555555556,
              "#d8576b"
             ],
             [
              0.6666666666666666,
              "#ed7953"
             ],
             [
              0.7777777777777778,
              "#fb9f3a"
             ],
             [
              0.8888888888888888,
              "#fdca26"
             ],
             [
              1,
              "#f0f921"
             ]
            ],
            "type": "heatmap"
           }
          ],
          "heatmapgl": [
           {
            "colorbar": {
             "outlinewidth": 0,
             "ticks": ""
            },
            "colorscale": [
             [
              0,
              "#0d0887"
             ],
             [
              0.1111111111111111,
              "#46039f"
             ],
             [
              0.2222222222222222,
              "#7201a8"
             ],
             [
              0.3333333333333333,
              "#9c179e"
             ],
             [
              0.4444444444444444,
              "#bd3786"
             ],
             [
              0.5555555555555556,
              "#d8576b"
             ],
             [
              0.6666666666666666,
              "#ed7953"
             ],
             [
              0.7777777777777778,
              "#fb9f3a"
             ],
             [
              0.8888888888888888,
              "#fdca26"
             ],
             [
              1,
              "#f0f921"
             ]
            ],
            "type": "heatmapgl"
           }
          ],
          "histogram": [
           {
            "marker": {
             "pattern": {
              "fillmode": "overlay",
              "size": 10,
              "solidity": 0.2
             }
            },
            "type": "histogram"
           }
          ],
          "histogram2d": [
           {
            "colorbar": {
             "outlinewidth": 0,
             "ticks": ""
            },
            "colorscale": [
             [
              0,
              "#0d0887"
             ],
             [
              0.1111111111111111,
              "#46039f"
             ],
             [
              0.2222222222222222,
              "#7201a8"
             ],
             [
              0.3333333333333333,
              "#9c179e"
             ],
             [
              0.4444444444444444,
              "#bd3786"
             ],
             [
              0.5555555555555556,
              "#d8576b"
             ],
             [
              0.6666666666666666,
              "#ed7953"
             ],
             [
              0.7777777777777778,
              "#fb9f3a"
             ],
             [
              0.8888888888888888,
              "#fdca26"
             ],
             [
              1,
              "#f0f921"
             ]
            ],
            "type": "histogram2d"
           }
          ],
          "histogram2dcontour": [
           {
            "colorbar": {
             "outlinewidth": 0,
             "ticks": ""
            },
            "colorscale": [
             [
              0,
              "#0d0887"
             ],
             [
              0.1111111111111111,
              "#46039f"
             ],
             [
              0.2222222222222222,
              "#7201a8"
             ],
             [
              0.3333333333333333,
              "#9c179e"
             ],
             [
              0.4444444444444444,
              "#bd3786"
             ],
             [
              0.5555555555555556,
              "#d8576b"
             ],
             [
              0.6666666666666666,
              "#ed7953"
             ],
             [
              0.7777777777777778,
              "#fb9f3a"
             ],
             [
              0.8888888888888888,
              "#fdca26"
             ],
             [
              1,
              "#f0f921"
             ]
            ],
            "type": "histogram2dcontour"
           }
          ],
          "mesh3d": [
           {
            "colorbar": {
             "outlinewidth": 0,
             "ticks": ""
            },
            "type": "mesh3d"
           }
          ],
          "parcoords": [
           {
            "line": {
             "colorbar": {
              "outlinewidth": 0,
              "ticks": ""
             }
            },
            "type": "parcoords"
           }
          ],
          "pie": [
           {
            "automargin": true,
            "type": "pie"
           }
          ],
          "scatter": [
           {
            "fillpattern": {
             "fillmode": "overlay",
             "size": 10,
             "solidity": 0.2
            },
            "type": "scatter"
           }
          ],
          "scatter3d": [
           {
            "line": {
             "colorbar": {
              "outlinewidth": 0,
              "ticks": ""
             }
            },
            "marker": {
             "colorbar": {
              "outlinewidth": 0,
              "ticks": ""
             }
            },
            "type": "scatter3d"
           }
          ],
          "scattercarpet": [
           {
            "marker": {
             "colorbar": {
              "outlinewidth": 0,
              "ticks": ""
             }
            },
            "type": "scattercarpet"
           }
          ],
          "scattergeo": [
           {
            "marker": {
             "colorbar": {
              "outlinewidth": 0,
              "ticks": ""
             }
            },
            "type": "scattergeo"
           }
          ],
          "scattergl": [
           {
            "marker": {
             "colorbar": {
              "outlinewidth": 0,
              "ticks": ""
             }
            },
            "type": "scattergl"
           }
          ],
          "scattermapbox": [
           {
            "marker": {
             "colorbar": {
              "outlinewidth": 0,
              "ticks": ""
             }
            },
            "type": "scattermapbox"
           }
          ],
          "scatterpolar": [
           {
            "marker": {
             "colorbar": {
              "outlinewidth": 0,
              "ticks": ""
             }
            },
            "type": "scatterpolar"
           }
          ],
          "scatterpolargl": [
           {
            "marker": {
             "colorbar": {
              "outlinewidth": 0,
              "ticks": ""
             }
            },
            "type": "scatterpolargl"
           }
          ],
          "scatterternary": [
           {
            "marker": {
             "colorbar": {
              "outlinewidth": 0,
              "ticks": ""
             }
            },
            "type": "scatterternary"
           }
          ],
          "surface": [
           {
            "colorbar": {
             "outlinewidth": 0,
             "ticks": ""
            },
            "colorscale": [
             [
              0,
              "#0d0887"
             ],
             [
              0.1111111111111111,
              "#46039f"
             ],
             [
              0.2222222222222222,
              "#7201a8"
             ],
             [
              0.3333333333333333,
              "#9c179e"
             ],
             [
              0.4444444444444444,
              "#bd3786"
             ],
             [
              0.5555555555555556,
              "#d8576b"
             ],
             [
              0.6666666666666666,
              "#ed7953"
             ],
             [
              0.7777777777777778,
              "#fb9f3a"
             ],
             [
              0.8888888888888888,
              "#fdca26"
             ],
             [
              1,
              "#f0f921"
             ]
            ],
            "type": "surface"
           }
          ],
          "table": [
           {
            "cells": {
             "fill": {
              "color": "#EBF0F8"
             },
             "line": {
              "color": "white"
             }
            },
            "header": {
             "fill": {
              "color": "#C8D4E3"
             },
             "line": {
              "color": "white"
             }
            },
            "type": "table"
           }
          ]
         },
         "layout": {
          "annotationdefaults": {
           "arrowcolor": "#2a3f5f",
           "arrowhead": 0,
           "arrowwidth": 1
          },
          "autotypenumbers": "strict",
          "coloraxis": {
           "colorbar": {
            "outlinewidth": 0,
            "ticks": ""
           }
          },
          "colorscale": {
           "diverging": [
            [
             0,
             "#8e0152"
            ],
            [
             0.1,
             "#c51b7d"
            ],
            [
             0.2,
             "#de77ae"
            ],
            [
             0.3,
             "#f1b6da"
            ],
            [
             0.4,
             "#fde0ef"
            ],
            [
             0.5,
             "#f7f7f7"
            ],
            [
             0.6,
             "#e6f5d0"
            ],
            [
             0.7,
             "#b8e186"
            ],
            [
             0.8,
             "#7fbc41"
            ],
            [
             0.9,
             "#4d9221"
            ],
            [
             1,
             "#276419"
            ]
           ],
           "sequential": [
            [
             0,
             "#0d0887"
            ],
            [
             0.1111111111111111,
             "#46039f"
            ],
            [
             0.2222222222222222,
             "#7201a8"
            ],
            [
             0.3333333333333333,
             "#9c179e"
            ],
            [
             0.4444444444444444,
             "#bd3786"
            ],
            [
             0.5555555555555556,
             "#d8576b"
            ],
            [
             0.6666666666666666,
             "#ed7953"
            ],
            [
             0.7777777777777778,
             "#fb9f3a"
            ],
            [
             0.8888888888888888,
             "#fdca26"
            ],
            [
             1,
             "#f0f921"
            ]
           ],
           "sequentialminus": [
            [
             0,
             "#0d0887"
            ],
            [
             0.1111111111111111,
             "#46039f"
            ],
            [
             0.2222222222222222,
             "#7201a8"
            ],
            [
             0.3333333333333333,
             "#9c179e"
            ],
            [
             0.4444444444444444,
             "#bd3786"
            ],
            [
             0.5555555555555556,
             "#d8576b"
            ],
            [
             0.6666666666666666,
             "#ed7953"
            ],
            [
             0.7777777777777778,
             "#fb9f3a"
            ],
            [
             0.8888888888888888,
             "#fdca26"
            ],
            [
             1,
             "#f0f921"
            ]
           ]
          },
          "colorway": [
           "#636efa",
           "#EF553B",
           "#00cc96",
           "#ab63fa",
           "#FFA15A",
           "#19d3f3",
           "#FF6692",
           "#B6E880",
           "#FF97FF",
           "#FECB52"
          ],
          "font": {
           "color": "#2a3f5f"
          },
          "geo": {
           "bgcolor": "white",
           "lakecolor": "white",
           "landcolor": "#E5ECF6",
           "showlakes": true,
           "showland": true,
           "subunitcolor": "white"
          },
          "hoverlabel": {
           "align": "left"
          },
          "hovermode": "closest",
          "mapbox": {
           "style": "light"
          },
          "paper_bgcolor": "white",
          "plot_bgcolor": "#E5ECF6",
          "polar": {
           "angularaxis": {
            "gridcolor": "white",
            "linecolor": "white",
            "ticks": ""
           },
           "bgcolor": "#E5ECF6",
           "radialaxis": {
            "gridcolor": "white",
            "linecolor": "white",
            "ticks": ""
           }
          },
          "scene": {
           "xaxis": {
            "backgroundcolor": "#E5ECF6",
            "gridcolor": "white",
            "gridwidth": 2,
            "linecolor": "white",
            "showbackground": true,
            "ticks": "",
            "zerolinecolor": "white"
           },
           "yaxis": {
            "backgroundcolor": "#E5ECF6",
            "gridcolor": "white",
            "gridwidth": 2,
            "linecolor": "white",
            "showbackground": true,
            "ticks": "",
            "zerolinecolor": "white"
           },
           "zaxis": {
            "backgroundcolor": "#E5ECF6",
            "gridcolor": "white",
            "gridwidth": 2,
            "linecolor": "white",
            "showbackground": true,
            "ticks": "",
            "zerolinecolor": "white"
           }
          },
          "shapedefaults": {
           "line": {
            "color": "#2a3f5f"
           }
          },
          "ternary": {
           "aaxis": {
            "gridcolor": "white",
            "linecolor": "white",
            "ticks": ""
           },
           "baxis": {
            "gridcolor": "white",
            "linecolor": "white",
            "ticks": ""
           },
           "bgcolor": "#E5ECF6",
           "caxis": {
            "gridcolor": "white",
            "linecolor": "white",
            "ticks": ""
           }
          },
          "title": {
           "x": 0.05
          },
          "xaxis": {
           "automargin": true,
           "gridcolor": "white",
           "linecolor": "white",
           "ticks": "",
           "title": {
            "standoff": 15
           },
           "zerolinecolor": "white",
           "zerolinewidth": 2
          },
          "yaxis": {
           "automargin": true,
           "gridcolor": "white",
           "linecolor": "white",
           "ticks": "",
           "title": {
            "standoff": 15
           },
           "zerolinecolor": "white",
           "zerolinewidth": 2
          }
         }
        },
        "title": {
         "text": "Textworld"
        },
        "width": 1000,
        "xaxis": {
         "anchor": "y",
         "domain": [
          0,
          1
         ],
         "title": {
          "text": "Model Size"
         }
        },
        "yaxis": {
         "anchor": "x",
         "domain": [
          0,
          1
         ],
         "range": [
          0,
          1.02
         ],
         "title": {
          "text": "Avg. Score"
         }
        }
       }
      }
     },
     "metadata": {},
     "output_type": "display_data"
    }
   ],
   "source": [
    "# filter out the llama-31-70b-instruct\n",
    "#tmp = data[~data[\"llm\"].str.contains(\"llama-31-70b-instruct\")]\n",
    "tmp = data\n",
    "\n",
    "# Keep only LLM agent.\n",
    "tmp = tmp[tmp[\"agent\"].str.contains(\"LLMAgent\")]\n",
    "tmp = tmp[tmp[\"conversation\"]]\n",
    "\n",
    "tmp[\"llm_short\"] = tmp[\"llm\"].str.replace(\"meta-llama/Llama-\", \"\")\n",
    "tmp[\"llm_short\"] = tmp[\"llm_short\"].str.replace(\"-Instruct\", \"\")\n",
    "tmp.groupby([\"llm\"])[\"final/Normalized Score\"].describe().reset_index()\n",
    "\n",
    "# Sort the llm groups by name\n",
    "\n",
    "# Compute the average score for each llm group by conversation and stderror\n",
    "mean_stderror = tmp.groupby([\"llm\", \"llm_short\"])[\"final/Normalized Score\"].agg([\"mean\", \"sem\"]).reset_index()\n",
    "# Sort the llm groups by predefined order\n",
    "order = [\"claude-3.5-sonnet-latest\", \"claude-3.5-sonnet\", \"claude-3.5-haiku\", \"gpt-4o\", \"gpt-4o-mini\", \"3.3-70B\", \"3.1-405B\", \"3.1-70B\", \"3.1-8B\", \"3.2-3B\", \"3.2-1B\"]\n",
    "order += sorted(set(tmp[\"llm_short\"].unique().tolist()) - set(order))\n",
    "mean_stderror[\"llm_short\"] = pd.Categorical(mean_stderror[\"llm_short\"], categories=order, ordered=True)\n",
    "mean_stderror = mean_stderror.sort_values(\"llm_short\", ascending=False)\n",
    "\n",
    "# Display grouped bar chat for each llm group by conversation using plotly\n",
    "import plotly.express as px\n",
    "fig = px.bar(mean_stderror, x=\"llm_short\", y=\"mean\", color=\"llm\", title=framework.title(), error_y=\"sem\", width=1000)\n",
    "fig.update_traces(width=0.4)\n",
    "\n",
    "# Set y-axis title\n",
    "fig.update_yaxes(title_text=\"Avg. Score\")\n",
    "fig.update_xaxes(title_text=\"Model Size\")\n",
    "\n",
    "# Set y range to 0, 1\n",
    "fig.update_yaxes(range=[0, 1.02])\n",
    "\n",
    "# Put legent at the top\n",
    "fig.update_layout(legend=dict(\n",
    "    orientation=\"h\",\n",
    "    yanchor=\"top\",\n",
    "    y=1.02,\n",
    "    xanchor=\"right\",\n",
    "    x=1\n",
    "))\n",
    "# Remove legend\n",
    "fig.update_layout(showlegend=False)\n",
    "\n",
    "# Hide legend title\n",
    "fig.update_layout(legend_title_text='')\n",
    "\n",
    "fig.update_traces(textposition='outside')\n",
    "fig.show()\n",
    "\n",
    "# save the figure to png\n",
    "fig.write_image(f\"{framework}_llm.png\")\n"
   ]
  },
  {
   "cell_type": "code",
   "execution_count": 5,
   "metadata": {},
   "outputs": [
    {
     "data": {
      "application/vnd.plotly.v1+json": {
       "config": {
        "plotlyServerURL": "https://plot.ly"
       },
       "data": [
        {
         "alignmentgroup": "True",
         "error_y": {
          "array": [
           0.008588227031791245
          ]
         },
         "hovertemplate": "llm=mistralai/Mixtral-8x7B-Instruct-v0.1<br>agent_type=%{x}<br>mean=%{y}<br>llm_short=%{text}<extra></extra>",
         "legendgroup": "mistralai/Mixtral-8x7B-Instruct-v0.1",
         "marker": {
          "color": "#636efa",
          "pattern": {
           "shape": ""
          }
         },
         "name": "mistralai/Mixtral-8x7B-Instruct-v0.1",
         "offsetgroup": "mistralai/Mixtral-8x7B-Instruct-v0.1",
         "orientation": "v",
         "showlegend": true,
         "text": [
          "mistralai/Mixtral-8x7B-v0.1"
         ],
         "textposition": "outside",
         "type": "bar",
         "x": [
          "zero-shot"
         ],
         "xaxis": "x",
         "y": [
          0.03966666666666667
         ],
         "yaxis": "y"
        },
        {
         "alignmentgroup": "True",
         "error_y": {
          "array": [
           0.00819095188403595
          ]
         },
         "hovertemplate": "llm=mistralai/Mixtral-8x22B-Instruct-v0.1<br>agent_type=%{x}<br>mean=%{y}<br>llm_short=%{text}<extra></extra>",
         "legendgroup": "mistralai/Mixtral-8x22B-Instruct-v0.1",
         "marker": {
          "color": "#EF553B",
          "pattern": {
           "shape": ""
          }
         },
         "name": "mistralai/Mixtral-8x22B-Instruct-v0.1",
         "offsetgroup": "mistralai/Mixtral-8x22B-Instruct-v0.1",
         "orientation": "v",
         "showlegend": true,
         "text": [
          "mistralai/Mixtral-8x22B-v0.1"
         ],
         "textposition": "outside",
         "type": "bar",
         "x": [
          "zero-shot"
         ],
         "xaxis": "x",
         "y": [
          0.039933333333333335
         ],
         "yaxis": "y"
        },
        {
         "alignmentgroup": "True",
         "error_y": {
          "array": [
           0.024423106136367004
          ]
         },
         "hovertemplate": "llm=mistralai/Mistral-Small-Instruct-2409<br>agent_type=%{x}<br>mean=%{y}<br>llm_short=%{text}<extra></extra>",
         "legendgroup": "mistralai/Mistral-Small-Instruct-2409",
         "marker": {
          "color": "#00cc96",
          "pattern": {
           "shape": ""
          }
         },
         "name": "mistralai/Mistral-Small-Instruct-2409",
         "offsetgroup": "mistralai/Mistral-Small-Instruct-2409",
         "orientation": "v",
         "showlegend": true,
         "text": [
          "mistralai/Mistral-Small-2409"
         ],
         "textposition": "outside",
         "type": "bar",
         "x": [
          "zero-shot"
         ],
         "xaxis": "x",
         "y": [
          0.24373333333333336
         ],
         "yaxis": "y"
        },
        {
         "alignmentgroup": "True",
         "error_y": {
          "array": [
           0.03357376554744863
          ]
         },
         "hovertemplate": "llm=mistralai/Mistral-Large-Instruct-2407<br>agent_type=%{x}<br>mean=%{y}<br>llm_short=%{text}<extra></extra>",
         "legendgroup": "mistralai/Mistral-Large-Instruct-2407",
         "marker": {
          "color": "#ab63fa",
          "pattern": {
           "shape": ""
          }
         },
         "name": "mistralai/Mistral-Large-Instruct-2407",
         "offsetgroup": "mistralai/Mistral-Large-Instruct-2407",
         "orientation": "v",
         "showlegend": true,
         "text": [
          "mistralai/Mistral-Large-2407"
         ],
         "textposition": "outside",
         "type": "bar",
         "x": [
          "zero-shot"
         ],
         "xaxis": "x",
         "y": [
          0.46093333333333336
         ],
         "yaxis": "y"
        },
        {
         "alignmentgroup": "True",
         "error_y": {
          "array": [
           0.0036935116538413535
          ]
         },
         "hovertemplate": "llm=mistralai/Ministral-8B-Instruct-2410<br>agent_type=%{x}<br>mean=%{y}<br>llm_short=%{text}<extra></extra>",
         "legendgroup": "mistralai/Ministral-8B-Instruct-2410",
         "marker": {
          "color": "#FFA15A",
          "pattern": {
           "shape": ""
          }
         },
         "name": "mistralai/Ministral-8B-Instruct-2410",
         "offsetgroup": "mistralai/Ministral-8B-Instruct-2410",
         "orientation": "v",
         "showlegend": true,
         "text": [
          "mistralai/Ministral-8B-2410"
         ],
         "textposition": "outside",
         "type": "bar",
         "x": [
          "zero-shot"
         ],
         "xaxis": "x",
         "y": [
          0.023266666666666668
         ],
         "yaxis": "y"
        },
        {
         "alignmentgroup": "True",
         "error_y": {
          "array": [
           0.0037112039890676005
          ]
         },
         "hovertemplate": "llm=microsoft/Phi-3.5-mini-instruct<br>agent_type=%{x}<br>mean=%{y}<br>llm_short=%{text}<extra></extra>",
         "legendgroup": "microsoft/Phi-3.5-mini-instruct",
         "marker": {
          "color": "#19d3f3",
          "pattern": {
           "shape": ""
          }
         },
         "name": "microsoft/Phi-3.5-mini-instruct",
         "offsetgroup": "microsoft/Phi-3.5-mini-instruct",
         "orientation": "v",
         "showlegend": true,
         "text": [
          "microsoft/Phi-3.5-mini-instruct"
         ],
         "textposition": "outside",
         "type": "bar",
         "x": [
          "zero-shot"
         ],
         "xaxis": "x",
         "y": [
          0.023533333333333337
         ],
         "yaxis": "y"
        },
        {
         "alignmentgroup": "True",
         "error_y": {
          "array": [
           0.0039755254226679125
          ]
         },
         "hovertemplate": "llm=microsoft/Phi-3-mini-128k-instruct<br>agent_type=%{x}<br>mean=%{y}<br>llm_short=%{text}<extra></extra>",
         "legendgroup": "microsoft/Phi-3-mini-128k-instruct",
         "marker": {
          "color": "#FF6692",
          "pattern": {
           "shape": ""
          }
         },
         "name": "microsoft/Phi-3-mini-128k-instruct",
         "offsetgroup": "microsoft/Phi-3-mini-128k-instruct",
         "orientation": "v",
         "showlegend": true,
         "text": [
          "microsoft/Phi-3-mini-128k-instruct"
         ],
         "textposition": "outside",
         "type": "bar",
         "x": [
          "zero-shot"
         ],
         "xaxis": "x",
         "y": [
          0.024133333333333333
         ],
         "yaxis": "y"
        },
        {
         "alignmentgroup": "True",
         "error_y": {
          "array": [
           0.003695029613937448
          ]
         },
         "hovertemplate": "llm=microsoft/Phi-3-medium-128k-instruct<br>agent_type=%{x}<br>mean=%{y}<br>llm_short=%{text}<extra></extra>",
         "legendgroup": "microsoft/Phi-3-medium-128k-instruct",
         "marker": {
          "color": "#B6E880",
          "pattern": {
           "shape": ""
          }
         },
         "name": "microsoft/Phi-3-medium-128k-instruct",
         "offsetgroup": "microsoft/Phi-3-medium-128k-instruct",
         "orientation": "v",
         "showlegend": true,
         "text": [
          "microsoft/Phi-3-medium-128k-instruct"
         ],
         "textposition": "outside",
         "type": "bar",
         "x": [
          "zero-shot"
         ],
         "xaxis": "x",
         "y": [
          0.023
         ],
         "yaxis": "y"
        },
        {
         "alignmentgroup": "True",
         "error_y": {
          "array": [
           0.029999234889572287
          ]
         },
         "hovertemplate": "llm=gpt-4o-mini<br>agent_type=%{x}<br>mean=%{y}<br>llm_short=%{text}<extra></extra>",
         "legendgroup": "gpt-4o-mini",
         "marker": {
          "color": "#FF97FF",
          "pattern": {
           "shape": ""
          }
         },
         "name": "gpt-4o-mini",
         "offsetgroup": "gpt-4o-mini",
         "orientation": "v",
         "showlegend": true,
         "text": [
          "gpt-4o-mini"
         ],
         "textposition": "outside",
         "type": "bar",
         "x": [
          "zero-shot"
         ],
         "xaxis": "x",
         "y": [
          0.2722
         ],
         "yaxis": "y"
        },
        {
         "alignmentgroup": "True",
         "error_y": {
          "array": [
           0.03321768035015227
          ]
         },
         "hovertemplate": "llm=gpt-4o<br>agent_type=%{x}<br>mean=%{y}<br>llm_short=%{text}<extra></extra>",
         "legendgroup": "gpt-4o",
         "marker": {
          "color": "#FECB52",
          "pattern": {
           "shape": ""
          }
         },
         "name": "gpt-4o",
         "offsetgroup": "gpt-4o",
         "orientation": "v",
         "showlegend": true,
         "text": [
          "gpt-4o"
         ],
         "textposition": "outside",
         "type": "bar",
         "x": [
          "zero-shot"
         ],
         "xaxis": "x",
         "y": [
          0.6137333333333334
         ],
         "yaxis": "y"
        },
        {
         "alignmentgroup": "True",
         "error_y": {
          "array": [
           0.05786127550499673
          ]
         },
         "hovertemplate": "llm=claude-3.5-sonnet-latest<br>agent_type=%{x}<br>mean=%{y}<br>llm_short=%{text}<extra></extra>",
         "legendgroup": "claude-3.5-sonnet-latest",
         "marker": {
          "color": "#636efa",
          "pattern": {
           "shape": ""
          }
         },
         "name": "claude-3.5-sonnet-latest",
         "offsetgroup": "claude-3.5-sonnet-latest",
         "orientation": "v",
         "showlegend": true,
         "text": [
          "claude-3.5-sonnet-latest"
         ],
         "textposition": "outside",
         "type": "bar",
         "x": [
          "zero-shot"
         ],
         "xaxis": "x",
         "y": [
          0.7763333333333333
         ],
         "yaxis": "y"
        },
        {
         "alignmentgroup": "True",
         "error_y": {
          "array": [
           0.03350241190244567
          ]
         },
         "hovertemplate": "llm=Qwen/Qwen2.5-72B-Instruct<br>agent_type=%{x}<br>mean=%{y}<br>llm_short=%{text}<extra></extra>",
         "legendgroup": "Qwen/Qwen2.5-72B-Instruct",
         "marker": {
          "color": "#EF553B",
          "pattern": {
           "shape": ""
          }
         },
         "name": "Qwen/Qwen2.5-72B-Instruct",
         "offsetgroup": "Qwen/Qwen2.5-72B-Instruct",
         "orientation": "v",
         "showlegend": true,
         "text": [
          "Qwen/Qwen2.5-72B"
         ],
         "textposition": "outside",
         "type": "bar",
         "x": [
          "zero-shot"
         ],
         "xaxis": "x",
         "y": [
          0.3499333333333334
         ],
         "yaxis": "y"
        },
        {
         "alignmentgroup": "True",
         "error_y": {
          "array": [
           0.008375525373811267,
           0.004884304399110587
          ]
         },
         "hovertemplate": "llm=meta-llama/Llama-3.2-1B-Instruct<br>agent_type=%{x}<br>mean=%{y}<br>llm_short=%{text}<extra></extra>",
         "legendgroup": "meta-llama/Llama-3.2-1B-Instruct",
         "marker": {
          "color": "#00cc96",
          "pattern": {
           "shape": ""
          }
         },
         "name": "meta-llama/Llama-3.2-1B-Instruct",
         "offsetgroup": "meta-llama/Llama-3.2-1B-Instruct",
         "orientation": "v",
         "showlegend": true,
         "text": [
          "3.2-1B",
          "3.2-1B"
         ],
         "textposition": "outside",
         "type": "bar",
         "x": [
          "CoT",
          "zero-shot"
         ],
         "xaxis": "x",
         "y": [
          0.023000000000000003,
          0.023666666666666666
         ],
         "yaxis": "y"
        },
        {
         "alignmentgroup": "True",
         "error_y": {
          "array": [
           0.02571699797165932,
           0.022996560784378266
          ]
         },
         "hovertemplate": "llm=meta-llama/Llama-3.2-3B-Instruct<br>agent_type=%{x}<br>mean=%{y}<br>llm_short=%{text}<extra></extra>",
         "legendgroup": "meta-llama/Llama-3.2-3B-Instruct",
         "marker": {
          "color": "#ab63fa",
          "pattern": {
           "shape": ""
          }
         },
         "name": "meta-llama/Llama-3.2-3B-Instruct",
         "offsetgroup": "meta-llama/Llama-3.2-3B-Instruct",
         "orientation": "v",
         "showlegend": true,
         "text": [
          "3.2-3B",
          "3.2-3B"
         ],
         "textposition": "outside",
         "type": "bar",
         "x": [
          "CoT",
          "zero-shot"
         ],
         "xaxis": "x",
         "y": [
          0.09733333333333333,
          0.105
         ],
         "yaxis": "y"
        },
        {
         "alignmentgroup": "True",
         "error_y": {
          "array": [
           0.03323250286548293,
           0.024810700941852764
          ]
         },
         "hovertemplate": "llm=meta-llama/Llama-3.1-8B-Instruct<br>agent_type=%{x}<br>mean=%{y}<br>llm_short=%{text}<extra></extra>",
         "legendgroup": "meta-llama/Llama-3.1-8B-Instruct",
         "marker": {
          "color": "#FFA15A",
          "pattern": {
           "shape": ""
          }
         },
         "name": "meta-llama/Llama-3.1-8B-Instruct",
         "offsetgroup": "meta-llama/Llama-3.1-8B-Instruct",
         "orientation": "v",
         "showlegend": true,
         "text": [
          "3.1-8B",
          "3.1-8B"
         ],
         "textposition": "outside",
         "type": "bar",
         "x": [
          "zero-shot",
          "CoT"
         ],
         "xaxis": "x",
         "y": [
          0.1673333333333333,
          0.13866666666666666
         ],
         "yaxis": "y"
        },
        {
         "alignmentgroup": "True",
         "error_y": {
          "array": [
           0.06651710234379245,
           0.024998288986379576
          ]
         },
         "hovertemplate": "llm=meta-llama/Llama-3.1-70B-Instruct<br>agent_type=%{x}<br>mean=%{y}<br>llm_short=%{text}<extra></extra>",
         "legendgroup": "meta-llama/Llama-3.1-70B-Instruct",
         "marker": {
          "color": "#19d3f3",
          "pattern": {
           "shape": ""
          }
         },
         "name": "meta-llama/Llama-3.1-70B-Instruct",
         "offsetgroup": "meta-llama/Llama-3.1-70B-Instruct",
         "orientation": "v",
         "showlegend": true,
         "text": [
          "3.1-70B",
          "3.1-70B"
         ],
         "textposition": "outside",
         "type": "bar",
         "x": [
          "CoT",
          "zero-shot"
         ],
         "xaxis": "x",
         "y": [
          0.35433333333333333,
          0.5447777777777778
         ],
         "yaxis": "y"
        },
        {
         "alignmentgroup": "True",
         "error_y": {
          "array": [
           0.07443879431866732,
           0.07001261517415917
          ]
         },
         "hovertemplate": "llm=meta-llama/Llama-3.1-405B-Instruct<br>agent_type=%{x}<br>mean=%{y}<br>llm_short=%{text}<extra></extra>",
         "legendgroup": "meta-llama/Llama-3.1-405B-Instruct",
         "marker": {
          "color": "#FF6692",
          "pattern": {
           "shape": ""
          }
         },
         "name": "meta-llama/Llama-3.1-405B-Instruct",
         "offsetgroup": "meta-llama/Llama-3.1-405B-Instruct",
         "orientation": "v",
         "showlegend": true,
         "text": [
          "3.1-405B",
          "3.1-405B"
         ],
         "textposition": "outside",
         "type": "bar",
         "x": [
          "zero-shot",
          "CoT"
         ],
         "xaxis": "x",
         "y": [
          0.5593333333333333,
          0.4156666666666667
         ],
         "yaxis": "y"
        }
       ],
       "layout": {
        "barmode": "group",
        "legend": {
         "orientation": "h",
         "title": {
          "text": ""
         },
         "tracegroupgap": 0,
         "x": 1,
         "xanchor": "right",
         "y": 1.02,
         "yanchor": "top"
        },
        "template": {
         "data": {
          "bar": [
           {
            "error_x": {
             "color": "#2a3f5f"
            },
            "error_y": {
             "color": "#2a3f5f"
            },
            "marker": {
             "line": {
              "color": "#E5ECF6",
              "width": 0.5
             },
             "pattern": {
              "fillmode": "overlay",
              "size": 10,
              "solidity": 0.2
             }
            },
            "type": "bar"
           }
          ],
          "barpolar": [
           {
            "marker": {
             "line": {
              "color": "#E5ECF6",
              "width": 0.5
             },
             "pattern": {
              "fillmode": "overlay",
              "size": 10,
              "solidity": 0.2
             }
            },
            "type": "barpolar"
           }
          ],
          "carpet": [
           {
            "aaxis": {
             "endlinecolor": "#2a3f5f",
             "gridcolor": "white",
             "linecolor": "white",
             "minorgridcolor": "white",
             "startlinecolor": "#2a3f5f"
            },
            "baxis": {
             "endlinecolor": "#2a3f5f",
             "gridcolor": "white",
             "linecolor": "white",
             "minorgridcolor": "white",
             "startlinecolor": "#2a3f5f"
            },
            "type": "carpet"
           }
          ],
          "choropleth": [
           {
            "colorbar": {
             "outlinewidth": 0,
             "ticks": ""
            },
            "type": "choropleth"
           }
          ],
          "contour": [
           {
            "colorbar": {
             "outlinewidth": 0,
             "ticks": ""
            },
            "colorscale": [
             [
              0,
              "#0d0887"
             ],
             [
              0.1111111111111111,
              "#46039f"
             ],
             [
              0.2222222222222222,
              "#7201a8"
             ],
             [
              0.3333333333333333,
              "#9c179e"
             ],
             [
              0.4444444444444444,
              "#bd3786"
             ],
             [
              0.5555555555555556,
              "#d8576b"
             ],
             [
              0.6666666666666666,
              "#ed7953"
             ],
             [
              0.7777777777777778,
              "#fb9f3a"
             ],
             [
              0.8888888888888888,
              "#fdca26"
             ],
             [
              1,
              "#f0f921"
             ]
            ],
            "type": "contour"
           }
          ],
          "contourcarpet": [
           {
            "colorbar": {
             "outlinewidth": 0,
             "ticks": ""
            },
            "type": "contourcarpet"
           }
          ],
          "heatmap": [
           {
            "colorbar": {
             "outlinewidth": 0,
             "ticks": ""
            },
            "colorscale": [
             [
              0,
              "#0d0887"
             ],
             [
              0.1111111111111111,
              "#46039f"
             ],
             [
              0.2222222222222222,
              "#7201a8"
             ],
             [
              0.3333333333333333,
              "#9c179e"
             ],
             [
              0.4444444444444444,
              "#bd3786"
             ],
             [
              0.5555555555555556,
              "#d8576b"
             ],
             [
              0.6666666666666666,
              "#ed7953"
             ],
             [
              0.7777777777777778,
              "#fb9f3a"
             ],
             [
              0.8888888888888888,
              "#fdca26"
             ],
             [
              1,
              "#f0f921"
             ]
            ],
            "type": "heatmap"
           }
          ],
          "heatmapgl": [
           {
            "colorbar": {
             "outlinewidth": 0,
             "ticks": ""
            },
            "colorscale": [
             [
              0,
              "#0d0887"
             ],
             [
              0.1111111111111111,
              "#46039f"
             ],
             [
              0.2222222222222222,
              "#7201a8"
             ],
             [
              0.3333333333333333,
              "#9c179e"
             ],
             [
              0.4444444444444444,
              "#bd3786"
             ],
             [
              0.5555555555555556,
              "#d8576b"
             ],
             [
              0.6666666666666666,
              "#ed7953"
             ],
             [
              0.7777777777777778,
              "#fb9f3a"
             ],
             [
              0.8888888888888888,
              "#fdca26"
             ],
             [
              1,
              "#f0f921"
             ]
            ],
            "type": "heatmapgl"
           }
          ],
          "histogram": [
           {
            "marker": {
             "pattern": {
              "fillmode": "overlay",
              "size": 10,
              "solidity": 0.2
             }
            },
            "type": "histogram"
           }
          ],
          "histogram2d": [
           {
            "colorbar": {
             "outlinewidth": 0,
             "ticks": ""
            },
            "colorscale": [
             [
              0,
              "#0d0887"
             ],
             [
              0.1111111111111111,
              "#46039f"
             ],
             [
              0.2222222222222222,
              "#7201a8"
             ],
             [
              0.3333333333333333,
              "#9c179e"
             ],
             [
              0.4444444444444444,
              "#bd3786"
             ],
             [
              0.5555555555555556,
              "#d8576b"
             ],
             [
              0.6666666666666666,
              "#ed7953"
             ],
             [
              0.7777777777777778,
              "#fb9f3a"
             ],
             [
              0.8888888888888888,
              "#fdca26"
             ],
             [
              1,
              "#f0f921"
             ]
            ],
            "type": "histogram2d"
           }
          ],
          "histogram2dcontour": [
           {
            "colorbar": {
             "outlinewidth": 0,
             "ticks": ""
            },
            "colorscale": [
             [
              0,
              "#0d0887"
             ],
             [
              0.1111111111111111,
              "#46039f"
             ],
             [
              0.2222222222222222,
              "#7201a8"
             ],
             [
              0.3333333333333333,
              "#9c179e"
             ],
             [
              0.4444444444444444,
              "#bd3786"
             ],
             [
              0.5555555555555556,
              "#d8576b"
             ],
             [
              0.6666666666666666,
              "#ed7953"
             ],
             [
              0.7777777777777778,
              "#fb9f3a"
             ],
             [
              0.8888888888888888,
              "#fdca26"
             ],
             [
              1,
              "#f0f921"
             ]
            ],
            "type": "histogram2dcontour"
           }
          ],
          "mesh3d": [
           {
            "colorbar": {
             "outlinewidth": 0,
             "ticks": ""
            },
            "type": "mesh3d"
           }
          ],
          "parcoords": [
           {
            "line": {
             "colorbar": {
              "outlinewidth": 0,
              "ticks": ""
             }
            },
            "type": "parcoords"
           }
          ],
          "pie": [
           {
            "automargin": true,
            "type": "pie"
           }
          ],
          "scatter": [
           {
            "fillpattern": {
             "fillmode": "overlay",
             "size": 10,
             "solidity": 0.2
            },
            "type": "scatter"
           }
          ],
          "scatter3d": [
           {
            "line": {
             "colorbar": {
              "outlinewidth": 0,
              "ticks": ""
             }
            },
            "marker": {
             "colorbar": {
              "outlinewidth": 0,
              "ticks": ""
             }
            },
            "type": "scatter3d"
           }
          ],
          "scattercarpet": [
           {
            "marker": {
             "colorbar": {
              "outlinewidth": 0,
              "ticks": ""
             }
            },
            "type": "scattercarpet"
           }
          ],
          "scattergeo": [
           {
            "marker": {
             "colorbar": {
              "outlinewidth": 0,
              "ticks": ""
             }
            },
            "type": "scattergeo"
           }
          ],
          "scattergl": [
           {
            "marker": {
             "colorbar": {
              "outlinewidth": 0,
              "ticks": ""
             }
            },
            "type": "scattergl"
           }
          ],
          "scattermapbox": [
           {
            "marker": {
             "colorbar": {
              "outlinewidth": 0,
              "ticks": ""
             }
            },
            "type": "scattermapbox"
           }
          ],
          "scatterpolar": [
           {
            "marker": {
             "colorbar": {
              "outlinewidth": 0,
              "ticks": ""
             }
            },
            "type": "scatterpolar"
           }
          ],
          "scatterpolargl": [
           {
            "marker": {
             "colorbar": {
              "outlinewidth": 0,
              "ticks": ""
             }
            },
            "type": "scatterpolargl"
           }
          ],
          "scatterternary": [
           {
            "marker": {
             "colorbar": {
              "outlinewidth": 0,
              "ticks": ""
             }
            },
            "type": "scatterternary"
           }
          ],
          "surface": [
           {
            "colorbar": {
             "outlinewidth": 0,
             "ticks": ""
            },
            "colorscale": [
             [
              0,
              "#0d0887"
             ],
             [
              0.1111111111111111,
              "#46039f"
             ],
             [
              0.2222222222222222,
              "#7201a8"
             ],
             [
              0.3333333333333333,
              "#9c179e"
             ],
             [
              0.4444444444444444,
              "#bd3786"
             ],
             [
              0.5555555555555556,
              "#d8576b"
             ],
             [
              0.6666666666666666,
              "#ed7953"
             ],
             [
              0.7777777777777778,
              "#fb9f3a"
             ],
             [
              0.8888888888888888,
              "#fdca26"
             ],
             [
              1,
              "#f0f921"
             ]
            ],
            "type": "surface"
           }
          ],
          "table": [
           {
            "cells": {
             "fill": {
              "color": "#EBF0F8"
             },
             "line": {
              "color": "white"
             }
            },
            "header": {
             "fill": {
              "color": "#C8D4E3"
             },
             "line": {
              "color": "white"
             }
            },
            "type": "table"
           }
          ]
         },
         "layout": {
          "annotationdefaults": {
           "arrowcolor": "#2a3f5f",
           "arrowhead": 0,
           "arrowwidth": 1
          },
          "autotypenumbers": "strict",
          "coloraxis": {
           "colorbar": {
            "outlinewidth": 0,
            "ticks": ""
           }
          },
          "colorscale": {
           "diverging": [
            [
             0,
             "#8e0152"
            ],
            [
             0.1,
             "#c51b7d"
            ],
            [
             0.2,
             "#de77ae"
            ],
            [
             0.3,
             "#f1b6da"
            ],
            [
             0.4,
             "#fde0ef"
            ],
            [
             0.5,
             "#f7f7f7"
            ],
            [
             0.6,
             "#e6f5d0"
            ],
            [
             0.7,
             "#b8e186"
            ],
            [
             0.8,
             "#7fbc41"
            ],
            [
             0.9,
             "#4d9221"
            ],
            [
             1,
             "#276419"
            ]
           ],
           "sequential": [
            [
             0,
             "#0d0887"
            ],
            [
             0.1111111111111111,
             "#46039f"
            ],
            [
             0.2222222222222222,
             "#7201a8"
            ],
            [
             0.3333333333333333,
             "#9c179e"
            ],
            [
             0.4444444444444444,
             "#bd3786"
            ],
            [
             0.5555555555555556,
             "#d8576b"
            ],
            [
             0.6666666666666666,
             "#ed7953"
            ],
            [
             0.7777777777777778,
             "#fb9f3a"
            ],
            [
             0.8888888888888888,
             "#fdca26"
            ],
            [
             1,
             "#f0f921"
            ]
           ],
           "sequentialminus": [
            [
             0,
             "#0d0887"
            ],
            [
             0.1111111111111111,
             "#46039f"
            ],
            [
             0.2222222222222222,
             "#7201a8"
            ],
            [
             0.3333333333333333,
             "#9c179e"
            ],
            [
             0.4444444444444444,
             "#bd3786"
            ],
            [
             0.5555555555555556,
             "#d8576b"
            ],
            [
             0.6666666666666666,
             "#ed7953"
            ],
            [
             0.7777777777777778,
             "#fb9f3a"
            ],
            [
             0.8888888888888888,
             "#fdca26"
            ],
            [
             1,
             "#f0f921"
            ]
           ]
          },
          "colorway": [
           "#636efa",
           "#EF553B",
           "#00cc96",
           "#ab63fa",
           "#FFA15A",
           "#19d3f3",
           "#FF6692",
           "#B6E880",
           "#FF97FF",
           "#FECB52"
          ],
          "font": {
           "color": "#2a3f5f"
          },
          "geo": {
           "bgcolor": "white",
           "lakecolor": "white",
           "landcolor": "#E5ECF6",
           "showlakes": true,
           "showland": true,
           "subunitcolor": "white"
          },
          "hoverlabel": {
           "align": "left"
          },
          "hovermode": "closest",
          "mapbox": {
           "style": "light"
          },
          "paper_bgcolor": "white",
          "plot_bgcolor": "#E5ECF6",
          "polar": {
           "angularaxis": {
            "gridcolor": "white",
            "linecolor": "white",
            "ticks": ""
           },
           "bgcolor": "#E5ECF6",
           "radialaxis": {
            "gridcolor": "white",
            "linecolor": "white",
            "ticks": ""
           }
          },
          "scene": {
           "xaxis": {
            "backgroundcolor": "#E5ECF6",
            "gridcolor": "white",
            "gridwidth": 2,
            "linecolor": "white",
            "showbackground": true,
            "ticks": "",
            "zerolinecolor": "white"
           },
           "yaxis": {
            "backgroundcolor": "#E5ECF6",
            "gridcolor": "white",
            "gridwidth": 2,
            "linecolor": "white",
            "showbackground": true,
            "ticks": "",
            "zerolinecolor": "white"
           },
           "zaxis": {
            "backgroundcolor": "#E5ECF6",
            "gridcolor": "white",
            "gridwidth": 2,
            "linecolor": "white",
            "showbackground": true,
            "ticks": "",
            "zerolinecolor": "white"
           }
          },
          "shapedefaults": {
           "line": {
            "color": "#2a3f5f"
           }
          },
          "ternary": {
           "aaxis": {
            "gridcolor": "white",
            "linecolor": "white",
            "ticks": ""
           },
           "baxis": {
            "gridcolor": "white",
            "linecolor": "white",
            "ticks": ""
           },
           "bgcolor": "#E5ECF6",
           "caxis": {
            "gridcolor": "white",
            "linecolor": "white",
            "ticks": ""
           }
          },
          "title": {
           "x": 0.05
          },
          "xaxis": {
           "automargin": true,
           "gridcolor": "white",
           "linecolor": "white",
           "ticks": "",
           "title": {
            "standoff": 15
           },
           "zerolinecolor": "white",
           "zerolinewidth": 2
          },
          "yaxis": {
           "automargin": true,
           "gridcolor": "white",
           "linecolor": "white",
           "ticks": "",
           "title": {
            "standoff": 15
           },
           "zerolinecolor": "white",
           "zerolinewidth": 2
          }
         }
        },
        "title": {
         "text": "ScienceWorld"
        },
        "width": 1000,
        "xaxis": {
         "anchor": "y",
         "domain": [
          0,
          1
         ],
         "title": {
          "text": "Agent type"
         }
        },
        "yaxis": {
         "anchor": "x",
         "domain": [
          0,
          1
         ],
         "range": [
          0,
          1.02
         ],
         "title": {
          "text": "Avg. Score"
         }
        }
       }
      }
     },
     "metadata": {},
     "output_type": "display_data"
    }
   ],
   "source": [
    "# filter out the llama-31-70b-instruct\n",
    "tmp = data[~data[\"llm\"].str.contains(\"llama-31-70b-instruct\")]\n",
    "tmp = tmp[tmp[\"conversation\"]]\n",
    "\n",
    "# Create colun agent_type and set it to zero-shot if LLMAgent is in agent and CoT if ReactAgent is in agent\n",
    "tmp[\"agent_type\"] = np.where(tmp[\"agent\"].str.contains(\"LLMAgent\"), \"zero-shot\", \"CoT\")\n",
    "\n",
    "tmp[\"llm_short\"] = tmp[\"llm\"].str.replace(\"meta-llama/Llama-\", \"\")\n",
    "tmp[\"llm_short\"] = tmp[\"llm_short\"].str.replace(\"-Instruct\", \"\")\n",
    "#tmp.groupby([\"agent_type\", \"conversation\", \"llm\"])[\"final/Normalized Score\"].describe().reset_index()\n",
    "\n",
    "# Sort the llm groups by name\n",
    "\n",
    "# Compute the average score for each llm group by conversation and stderror\n",
    "mean_stderror = tmp.groupby([\"agent_type\", \"llm\", \"llm_short\"])[\"final/Normalized Score\"].agg([\"mean\", \"sem\"]).reset_index()\n",
    "# Sort the llm groups by predefined order\n",
    "order = [\"3.1-405B\", \"3.1-70B\", \"3.1-8B\", \"3.2-3B\", \"3.2-1B\"]\n",
    "order += sorted(set(tmp[\"llm_short\"].unique().tolist()) - set(order))\n",
    "mean_stderror[\"llm_short\"] = pd.Categorical(mean_stderror[\"llm_short\"], categories=order, ordered=True)\n",
    "mean_stderror = mean_stderror.sort_values(\"llm_short\", ascending=False)\n",
    "\n",
    "# Display grouped bar chat for each llm group by conversation using plotly\n",
    "import plotly.express as px\n",
    "fig = px.bar(mean_stderror, x=\"agent_type\", y=\"mean\", color=\"llm\", barmode=\"group\", title=\"ScienceWorld\", error_y=\"sem\", text=\"llm_short\", width=1000)\n",
    "\n",
    "# Set y-axis title\n",
    "fig.update_yaxes(title_text=\"Avg. Score\")\n",
    "fig.update_xaxes(title_text=\"Agent type\")\n",
    "\n",
    "# Fix Y range to 0, 1\n",
    "fig.update_yaxes(range=[0, 1.02])\n",
    "\n",
    "# Put legent at the top\n",
    "fig.update_layout(legend=dict(\n",
    "    orientation=\"h\",\n",
    "    yanchor=\"top\",\n",
    "    y=1.02,\n",
    "    xanchor=\"right\",\n",
    "    x=1\n",
    "))\n",
    "\n",
    "# Hide legend title\n",
    "fig.update_layout(legend_title_text='')\n",
    "\n",
    "fig.update_traces(textposition='outside')\n",
    "fig.show()\n",
    "\n",
    "# save the figure to png\n",
    "fig.write_image(\"scienceworld_llm_agent_type.png\")\n"
   ]
  },
  {
   "cell_type": "code",
   "execution_count": 30,
   "metadata": {},
   "outputs": [
    {
     "data": {
      "application/vnd.plotly.v1+json": {
       "config": {
        "plotlyServerURL": "https://plot.ly"
       },
       "data": [
        {
         "alignmentgroup": "True",
         "error_y": {
          "array": [
           0.008588227031791245
          ]
         },
         "hovertemplate": "llm=mistralai/Mixtral-8x7B-Instruct-v0.1<br>conversation=%{x}<br>mean=%{y}<br>llm_short=%{text}<extra></extra>",
         "legendgroup": "mistralai/Mixtral-8x7B-Instruct-v0.1",
         "marker": {
          "color": "#636efa",
          "pattern": {
           "shape": ""
          }
         },
         "name": "mistralai/Mixtral-8x7B-Instruct-v0.1",
         "offsetgroup": "mistralai/Mixtral-8x7B-Instruct-v0.1",
         "orientation": "v",
         "showlegend": true,
         "text": [
          "mistralai/Mixtral-8x7B-v0.1"
         ],
         "textposition": "outside",
         "type": "bar",
         "x": [
          true
         ],
         "xaxis": "x",
         "y": [
          0.03966666666666667
         ],
         "yaxis": "y"
        },
        {
         "alignmentgroup": "True",
         "error_y": {
          "array": [
           0.00819095188403595,
           0.006141993691189369
          ]
         },
         "hovertemplate": "llm=mistralai/Mixtral-8x22B-Instruct-v0.1<br>conversation=%{x}<br>mean=%{y}<br>llm_short=%{text}<extra></extra>",
         "legendgroup": "mistralai/Mixtral-8x22B-Instruct-v0.1",
         "marker": {
          "color": "#EF553B",
          "pattern": {
           "shape": ""
          }
         },
         "name": "mistralai/Mixtral-8x22B-Instruct-v0.1",
         "offsetgroup": "mistralai/Mixtral-8x22B-Instruct-v0.1",
         "orientation": "v",
         "showlegend": true,
         "text": [
          "mistralai/Mixtral-8x22B-v0.1",
          "mistralai/Mixtral-8x22B-v0.1"
         ],
         "textposition": "outside",
         "type": "bar",
         "x": [
          true,
          false
         ],
         "xaxis": "x",
         "y": [
          0.039933333333333335,
          0.03266666666666667
         ],
         "yaxis": "y"
        },
        {
         "alignmentgroup": "True",
         "error_y": {
          "array": [
           0.024423106136367008,
           0.02390071496813576
          ]
         },
         "hovertemplate": "llm=mistralai/Mistral-Small-Instruct-2409<br>conversation=%{x}<br>mean=%{y}<br>llm_short=%{text}<extra></extra>",
         "legendgroup": "mistralai/Mistral-Small-Instruct-2409",
         "marker": {
          "color": "#00cc96",
          "pattern": {
           "shape": ""
          }
         },
         "name": "mistralai/Mistral-Small-Instruct-2409",
         "offsetgroup": "mistralai/Mistral-Small-Instruct-2409",
         "orientation": "v",
         "showlegend": true,
         "text": [
          "mistralai/Mistral-Small-2409",
          "mistralai/Mistral-Small-2409"
         ],
         "textposition": "outside",
         "type": "bar",
         "x": [
          true,
          false
         ],
         "xaxis": "x",
         "y": [
          0.24373333333333336,
          0.22113333333333335
         ],
         "yaxis": "y"
        },
        {
         "alignmentgroup": "True",
         "error_y": {
          "array": [
           0.03357376554744863,
           0.03666347799842628
          ]
         },
         "hovertemplate": "llm=mistralai/Mistral-Large-Instruct-2407<br>conversation=%{x}<br>mean=%{y}<br>llm_short=%{text}<extra></extra>",
         "legendgroup": "mistralai/Mistral-Large-Instruct-2407",
         "marker": {
          "color": "#ab63fa",
          "pattern": {
           "shape": ""
          }
         },
         "name": "mistralai/Mistral-Large-Instruct-2407",
         "offsetgroup": "mistralai/Mistral-Large-Instruct-2407",
         "orientation": "v",
         "showlegend": true,
         "text": [
          "mistralai/Mistral-Large-2407",
          "mistralai/Mistral-Large-2407"
         ],
         "textposition": "outside",
         "type": "bar",
         "x": [
          true,
          false
         ],
         "xaxis": "x",
         "y": [
          0.46093333333333336,
          0.5144666666666666
         ],
         "yaxis": "y"
        },
        {
         "alignmentgroup": "True",
         "error_y": {
          "array": [
           0.0036935116538413535,
           0.003695029613937448
          ]
         },
         "hovertemplate": "llm=mistralai/Ministral-8B-Instruct-2410<br>conversation=%{x}<br>mean=%{y}<br>llm_short=%{text}<extra></extra>",
         "legendgroup": "mistralai/Ministral-8B-Instruct-2410",
         "marker": {
          "color": "#FFA15A",
          "pattern": {
           "shape": ""
          }
         },
         "name": "mistralai/Ministral-8B-Instruct-2410",
         "offsetgroup": "mistralai/Ministral-8B-Instruct-2410",
         "orientation": "v",
         "showlegend": true,
         "text": [
          "mistralai/Ministral-8B-2410",
          "mistralai/Ministral-8B-2410"
         ],
         "textposition": "outside",
         "type": "bar",
         "x": [
          true,
          false
         ],
         "xaxis": "x",
         "y": [
          0.023266666666666668,
          0.023
         ],
         "yaxis": "y"
        },
        {
         "alignmentgroup": "True",
         "error_y": {
          "array": [
           0.007720642599398773,
           0.0039755254226679125
          ]
         },
         "hovertemplate": "llm=microsoft/Phi-3-mini-128k-instruct<br>conversation=%{x}<br>mean=%{y}<br>llm_short=%{text}<extra></extra>",
         "legendgroup": "microsoft/Phi-3-mini-128k-instruct",
         "marker": {
          "color": "#19d3f3",
          "pattern": {
           "shape": ""
          }
         },
         "name": "microsoft/Phi-3-mini-128k-instruct",
         "offsetgroup": "microsoft/Phi-3-mini-128k-instruct",
         "orientation": "v",
         "showlegend": true,
         "text": [
          "microsoft/Phi-3-mini-128k-instruct",
          "microsoft/Phi-3-mini-128k-instruct"
         ],
         "textposition": "outside",
         "type": "bar",
         "x": [
          false,
          true
         ],
         "xaxis": "x",
         "y": [
          0.0394,
          0.024133333333333333
         ],
         "yaxis": "y"
        },
        {
         "alignmentgroup": "True",
         "error_y": {
          "array": [
           0.003875236724073134,
           0.0039472495541456026
          ]
         },
         "hovertemplate": "llm=microsoft/Phi-3-medium-128k-instruct<br>conversation=%{x}<br>mean=%{y}<br>llm_short=%{text}<extra></extra>",
         "legendgroup": "microsoft/Phi-3-medium-128k-instruct",
         "marker": {
          "color": "#FF6692",
          "pattern": {
           "shape": ""
          }
         },
         "name": "microsoft/Phi-3-medium-128k-instruct",
         "offsetgroup": "microsoft/Phi-3-medium-128k-instruct",
         "orientation": "v",
         "showlegend": true,
         "text": [
          "microsoft/Phi-3-medium-128k-instruct",
          "microsoft/Phi-3-medium-128k-instruct"
         ],
         "textposition": "outside",
         "type": "bar",
         "x": [
          false,
          true
         ],
         "xaxis": "x",
         "y": [
          0.024295774647887326,
          0.024820143884892086
         ],
         "yaxis": "y"
        },
        {
         "alignmentgroup": "True",
         "error_y": {
          "array": [
           0.029999234889572287
          ]
         },
         "hovertemplate": "llm=gpt-4o-mini<br>conversation=%{x}<br>mean=%{y}<br>llm_short=%{text}<extra></extra>",
         "legendgroup": "gpt-4o-mini",
         "marker": {
          "color": "#B6E880",
          "pattern": {
           "shape": ""
          }
         },
         "name": "gpt-4o-mini",
         "offsetgroup": "gpt-4o-mini",
         "orientation": "v",
         "showlegend": true,
         "text": [
          "gpt-4o-mini"
         ],
         "textposition": "outside",
         "type": "bar",
         "x": [
          true
         ],
         "xaxis": "x",
         "y": [
          0.2722
         ],
         "yaxis": "y"
        },
        {
         "alignmentgroup": "True",
         "error_y": {
          "array": [
           0.03321768035015226
          ]
         },
         "hovertemplate": "llm=gpt-4o<br>conversation=%{x}<br>mean=%{y}<br>llm_short=%{text}<extra></extra>",
         "legendgroup": "gpt-4o",
         "marker": {
          "color": "#FF97FF",
          "pattern": {
           "shape": ""
          }
         },
         "name": "gpt-4o",
         "offsetgroup": "gpt-4o",
         "orientation": "v",
         "showlegend": true,
         "text": [
          "gpt-4o"
         ],
         "textposition": "outside",
         "type": "bar",
         "x": [
          true
         ],
         "xaxis": "x",
         "y": [
          0.6137333333333334
         ],
         "yaxis": "y"
        },
        {
         "alignmentgroup": "True",
         "error_y": {
          "array": [
           0.03350241190244567,
           0.02982165481989334
          ]
         },
         "hovertemplate": "llm=Qwen/Qwen2.5-72B-Instruct<br>conversation=%{x}<br>mean=%{y}<br>llm_short=%{text}<extra></extra>",
         "legendgroup": "Qwen/Qwen2.5-72B-Instruct",
         "marker": {
          "color": "#FECB52",
          "pattern": {
           "shape": ""
          }
         },
         "name": "Qwen/Qwen2.5-72B-Instruct",
         "offsetgroup": "Qwen/Qwen2.5-72B-Instruct",
         "orientation": "v",
         "showlegend": true,
         "text": [
          "Qwen/Qwen2.5-72B",
          "Qwen/Qwen2.5-72B"
         ],
         "textposition": "outside",
         "type": "bar",
         "x": [
          true,
          false
         ],
         "xaxis": "x",
         "y": [
          0.3499333333333334,
          0.333
         ],
         "yaxis": "y"
        },
        {
         "alignmentgroup": "True",
         "error_y": {
          "array": [
           0.004884304399110587,
           0.0047809703934056855
          ]
         },
         "hovertemplate": "llm=meta-llama/Llama-3.2-1B-Instruct<br>conversation=%{x}<br>mean=%{y}<br>llm_short=%{text}<extra></extra>",
         "legendgroup": "meta-llama/Llama-3.2-1B-Instruct",
         "marker": {
          "color": "#636efa",
          "pattern": {
           "shape": ""
          }
         },
         "name": "meta-llama/Llama-3.2-1B-Instruct",
         "offsetgroup": "meta-llama/Llama-3.2-1B-Instruct",
         "orientation": "v",
         "showlegend": true,
         "text": [
          "3.2-1B",
          "3.2-1B"
         ],
         "textposition": "outside",
         "type": "bar",
         "x": [
          true,
          false
         ],
         "xaxis": "x",
         "y": [
          0.023666666666666666,
          0.023000000000000003
         ],
         "yaxis": "y"
        },
        {
         "alignmentgroup": "True",
         "error_y": {
          "array": [
           0.022996560784378266,
           0.009240050382624886
          ]
         },
         "hovertemplate": "llm=meta-llama/Llama-3.2-3B-Instruct<br>conversation=%{x}<br>mean=%{y}<br>llm_short=%{text}<extra></extra>",
         "legendgroup": "meta-llama/Llama-3.2-3B-Instruct",
         "marker": {
          "color": "#EF553B",
          "pattern": {
           "shape": ""
          }
         },
         "name": "meta-llama/Llama-3.2-3B-Instruct",
         "offsetgroup": "meta-llama/Llama-3.2-3B-Instruct",
         "orientation": "v",
         "showlegend": true,
         "text": [
          "3.2-3B",
          "3.2-3B"
         ],
         "textposition": "outside",
         "type": "bar",
         "x": [
          true,
          false
         ],
         "xaxis": "x",
         "y": [
          0.105,
          0.034
         ],
         "yaxis": "y"
        },
        {
         "alignmentgroup": "True",
         "error_y": {
          "array": [
           0.03323250286548293,
           0.018003399971842523
          ]
         },
         "hovertemplate": "llm=meta-llama/Llama-3.1-8B-Instruct<br>conversation=%{x}<br>mean=%{y}<br>llm_short=%{text}<extra></extra>",
         "legendgroup": "meta-llama/Llama-3.1-8B-Instruct",
         "marker": {
          "color": "#00cc96",
          "pattern": {
           "shape": ""
          }
         },
         "name": "meta-llama/Llama-3.1-8B-Instruct",
         "offsetgroup": "meta-llama/Llama-3.1-8B-Instruct",
         "orientation": "v",
         "showlegend": true,
         "text": [
          "3.1-8B",
          "3.1-8B"
         ],
         "textposition": "outside",
         "type": "bar",
         "x": [
          true,
          false
         ],
         "xaxis": "x",
         "y": [
          0.1673333333333333,
          0.07633333333333334
         ],
         "yaxis": "y"
        },
        {
         "alignmentgroup": "True",
         "error_y": {
          "array": [
           0.02499828898637958,
           0.0686326218471158
          ]
         },
         "hovertemplate": "llm=meta-llama/Llama-3.1-70B-Instruct<br>conversation=%{x}<br>mean=%{y}<br>llm_short=%{text}<extra></extra>",
         "legendgroup": "meta-llama/Llama-3.1-70B-Instruct",
         "marker": {
          "color": "#ab63fa",
          "pattern": {
           "shape": ""
          }
         },
         "name": "meta-llama/Llama-3.1-70B-Instruct",
         "offsetgroup": "meta-llama/Llama-3.1-70B-Instruct",
         "orientation": "v",
         "showlegend": true,
         "text": [
          "3.1-70B",
          "3.1-70B"
         ],
         "textposition": "outside",
         "type": "bar",
         "x": [
          true,
          false
         ],
         "xaxis": "x",
         "y": [
          0.5447777777777778,
          0.348
         ],
         "yaxis": "y"
        },
        {
         "alignmentgroup": "True",
         "error_y": {
          "array": [
           0.07443879431866732,
           0.05445127748350527
          ]
         },
         "hovertemplate": "llm=meta-llama/Llama-3.1-405B-Instruct<br>conversation=%{x}<br>mean=%{y}<br>llm_short=%{text}<extra></extra>",
         "legendgroup": "meta-llama/Llama-3.1-405B-Instruct",
         "marker": {
          "color": "#FFA15A",
          "pattern": {
           "shape": ""
          }
         },
         "name": "meta-llama/Llama-3.1-405B-Instruct",
         "offsetgroup": "meta-llama/Llama-3.1-405B-Instruct",
         "orientation": "v",
         "showlegend": true,
         "text": [
          "3.1-405B",
          "3.1-405B"
         ],
         "textposition": "outside",
         "type": "bar",
         "x": [
          true,
          false
         ],
         "xaxis": "x",
         "y": [
          0.5593333333333333,
          0.42866666666666664
         ],
         "yaxis": "y"
        }
       ],
       "layout": {
        "barmode": "group",
        "legend": {
         "orientation": "h",
         "title": {
          "text": ""
         },
         "tracegroupgap": 0,
         "x": 1,
         "xanchor": "right",
         "y": 1.02,
         "yanchor": "top"
        },
        "template": {
         "data": {
          "bar": [
           {
            "error_x": {
             "color": "#2a3f5f"
            },
            "error_y": {
             "color": "#2a3f5f"
            },
            "marker": {
             "line": {
              "color": "#E5ECF6",
              "width": 0.5
             },
             "pattern": {
              "fillmode": "overlay",
              "size": 10,
              "solidity": 0.2
             }
            },
            "type": "bar"
           }
          ],
          "barpolar": [
           {
            "marker": {
             "line": {
              "color": "#E5ECF6",
              "width": 0.5
             },
             "pattern": {
              "fillmode": "overlay",
              "size": 10,
              "solidity": 0.2
             }
            },
            "type": "barpolar"
           }
          ],
          "carpet": [
           {
            "aaxis": {
             "endlinecolor": "#2a3f5f",
             "gridcolor": "white",
             "linecolor": "white",
             "minorgridcolor": "white",
             "startlinecolor": "#2a3f5f"
            },
            "baxis": {
             "endlinecolor": "#2a3f5f",
             "gridcolor": "white",
             "linecolor": "white",
             "minorgridcolor": "white",
             "startlinecolor": "#2a3f5f"
            },
            "type": "carpet"
           }
          ],
          "choropleth": [
           {
            "colorbar": {
             "outlinewidth": 0,
             "ticks": ""
            },
            "type": "choropleth"
           }
          ],
          "contour": [
           {
            "colorbar": {
             "outlinewidth": 0,
             "ticks": ""
            },
            "colorscale": [
             [
              0,
              "#0d0887"
             ],
             [
              0.1111111111111111,
              "#46039f"
             ],
             [
              0.2222222222222222,
              "#7201a8"
             ],
             [
              0.3333333333333333,
              "#9c179e"
             ],
             [
              0.4444444444444444,
              "#bd3786"
             ],
             [
              0.5555555555555556,
              "#d8576b"
             ],
             [
              0.6666666666666666,
              "#ed7953"
             ],
             [
              0.7777777777777778,
              "#fb9f3a"
             ],
             [
              0.8888888888888888,
              "#fdca26"
             ],
             [
              1,
              "#f0f921"
             ]
            ],
            "type": "contour"
           }
          ],
          "contourcarpet": [
           {
            "colorbar": {
             "outlinewidth": 0,
             "ticks": ""
            },
            "type": "contourcarpet"
           }
          ],
          "heatmap": [
           {
            "colorbar": {
             "outlinewidth": 0,
             "ticks": ""
            },
            "colorscale": [
             [
              0,
              "#0d0887"
             ],
             [
              0.1111111111111111,
              "#46039f"
             ],
             [
              0.2222222222222222,
              "#7201a8"
             ],
             [
              0.3333333333333333,
              "#9c179e"
             ],
             [
              0.4444444444444444,
              "#bd3786"
             ],
             [
              0.5555555555555556,
              "#d8576b"
             ],
             [
              0.6666666666666666,
              "#ed7953"
             ],
             [
              0.7777777777777778,
              "#fb9f3a"
             ],
             [
              0.8888888888888888,
              "#fdca26"
             ],
             [
              1,
              "#f0f921"
             ]
            ],
            "type": "heatmap"
           }
          ],
          "heatmapgl": [
           {
            "colorbar": {
             "outlinewidth": 0,
             "ticks": ""
            },
            "colorscale": [
             [
              0,
              "#0d0887"
             ],
             [
              0.1111111111111111,
              "#46039f"
             ],
             [
              0.2222222222222222,
              "#7201a8"
             ],
             [
              0.3333333333333333,
              "#9c179e"
             ],
             [
              0.4444444444444444,
              "#bd3786"
             ],
             [
              0.5555555555555556,
              "#d8576b"
             ],
             [
              0.6666666666666666,
              "#ed7953"
             ],
             [
              0.7777777777777778,
              "#fb9f3a"
             ],
             [
              0.8888888888888888,
              "#fdca26"
             ],
             [
              1,
              "#f0f921"
             ]
            ],
            "type": "heatmapgl"
           }
          ],
          "histogram": [
           {
            "marker": {
             "pattern": {
              "fillmode": "overlay",
              "size": 10,
              "solidity": 0.2
             }
            },
            "type": "histogram"
           }
          ],
          "histogram2d": [
           {
            "colorbar": {
             "outlinewidth": 0,
             "ticks": ""
            },
            "colorscale": [
             [
              0,
              "#0d0887"
             ],
             [
              0.1111111111111111,
              "#46039f"
             ],
             [
              0.2222222222222222,
              "#7201a8"
             ],
             [
              0.3333333333333333,
              "#9c179e"
             ],
             [
              0.4444444444444444,
              "#bd3786"
             ],
             [
              0.5555555555555556,
              "#d8576b"
             ],
             [
              0.6666666666666666,
              "#ed7953"
             ],
             [
              0.7777777777777778,
              "#fb9f3a"
             ],
             [
              0.8888888888888888,
              "#fdca26"
             ],
             [
              1,
              "#f0f921"
             ]
            ],
            "type": "histogram2d"
           }
          ],
          "histogram2dcontour": [
           {
            "colorbar": {
             "outlinewidth": 0,
             "ticks": ""
            },
            "colorscale": [
             [
              0,
              "#0d0887"
             ],
             [
              0.1111111111111111,
              "#46039f"
             ],
             [
              0.2222222222222222,
              "#7201a8"
             ],
             [
              0.3333333333333333,
              "#9c179e"
             ],
             [
              0.4444444444444444,
              "#bd3786"
             ],
             [
              0.5555555555555556,
              "#d8576b"
             ],
             [
              0.6666666666666666,
              "#ed7953"
             ],
             [
              0.7777777777777778,
              "#fb9f3a"
             ],
             [
              0.8888888888888888,
              "#fdca26"
             ],
             [
              1,
              "#f0f921"
             ]
            ],
            "type": "histogram2dcontour"
           }
          ],
          "mesh3d": [
           {
            "colorbar": {
             "outlinewidth": 0,
             "ticks": ""
            },
            "type": "mesh3d"
           }
          ],
          "parcoords": [
           {
            "line": {
             "colorbar": {
              "outlinewidth": 0,
              "ticks": ""
             }
            },
            "type": "parcoords"
           }
          ],
          "pie": [
           {
            "automargin": true,
            "type": "pie"
           }
          ],
          "scatter": [
           {
            "fillpattern": {
             "fillmode": "overlay",
             "size": 10,
             "solidity": 0.2
            },
            "type": "scatter"
           }
          ],
          "scatter3d": [
           {
            "line": {
             "colorbar": {
              "outlinewidth": 0,
              "ticks": ""
             }
            },
            "marker": {
             "colorbar": {
              "outlinewidth": 0,
              "ticks": ""
             }
            },
            "type": "scatter3d"
           }
          ],
          "scattercarpet": [
           {
            "marker": {
             "colorbar": {
              "outlinewidth": 0,
              "ticks": ""
             }
            },
            "type": "scattercarpet"
           }
          ],
          "scattergeo": [
           {
            "marker": {
             "colorbar": {
              "outlinewidth": 0,
              "ticks": ""
             }
            },
            "type": "scattergeo"
           }
          ],
          "scattergl": [
           {
            "marker": {
             "colorbar": {
              "outlinewidth": 0,
              "ticks": ""
             }
            },
            "type": "scattergl"
           }
          ],
          "scattermapbox": [
           {
            "marker": {
             "colorbar": {
              "outlinewidth": 0,
              "ticks": ""
             }
            },
            "type": "scattermapbox"
           }
          ],
          "scatterpolar": [
           {
            "marker": {
             "colorbar": {
              "outlinewidth": 0,
              "ticks": ""
             }
            },
            "type": "scatterpolar"
           }
          ],
          "scatterpolargl": [
           {
            "marker": {
             "colorbar": {
              "outlinewidth": 0,
              "ticks": ""
             }
            },
            "type": "scatterpolargl"
           }
          ],
          "scatterternary": [
           {
            "marker": {
             "colorbar": {
              "outlinewidth": 0,
              "ticks": ""
             }
            },
            "type": "scatterternary"
           }
          ],
          "surface": [
           {
            "colorbar": {
             "outlinewidth": 0,
             "ticks": ""
            },
            "colorscale": [
             [
              0,
              "#0d0887"
             ],
             [
              0.1111111111111111,
              "#46039f"
             ],
             [
              0.2222222222222222,
              "#7201a8"
             ],
             [
              0.3333333333333333,
              "#9c179e"
             ],
             [
              0.4444444444444444,
              "#bd3786"
             ],
             [
              0.5555555555555556,
              "#d8576b"
             ],
             [
              0.6666666666666666,
              "#ed7953"
             ],
             [
              0.7777777777777778,
              "#fb9f3a"
             ],
             [
              0.8888888888888888,
              "#fdca26"
             ],
             [
              1,
              "#f0f921"
             ]
            ],
            "type": "surface"
           }
          ],
          "table": [
           {
            "cells": {
             "fill": {
              "color": "#EBF0F8"
             },
             "line": {
              "color": "white"
             }
            },
            "header": {
             "fill": {
              "color": "#C8D4E3"
             },
             "line": {
              "color": "white"
             }
            },
            "type": "table"
           }
          ]
         },
         "layout": {
          "annotationdefaults": {
           "arrowcolor": "#2a3f5f",
           "arrowhead": 0,
           "arrowwidth": 1
          },
          "autotypenumbers": "strict",
          "coloraxis": {
           "colorbar": {
            "outlinewidth": 0,
            "ticks": ""
           }
          },
          "colorscale": {
           "diverging": [
            [
             0,
             "#8e0152"
            ],
            [
             0.1,
             "#c51b7d"
            ],
            [
             0.2,
             "#de77ae"
            ],
            [
             0.3,
             "#f1b6da"
            ],
            [
             0.4,
             "#fde0ef"
            ],
            [
             0.5,
             "#f7f7f7"
            ],
            [
             0.6,
             "#e6f5d0"
            ],
            [
             0.7,
             "#b8e186"
            ],
            [
             0.8,
             "#7fbc41"
            ],
            [
             0.9,
             "#4d9221"
            ],
            [
             1,
             "#276419"
            ]
           ],
           "sequential": [
            [
             0,
             "#0d0887"
            ],
            [
             0.1111111111111111,
             "#46039f"
            ],
            [
             0.2222222222222222,
             "#7201a8"
            ],
            [
             0.3333333333333333,
             "#9c179e"
            ],
            [
             0.4444444444444444,
             "#bd3786"
            ],
            [
             0.5555555555555556,
             "#d8576b"
            ],
            [
             0.6666666666666666,
             "#ed7953"
            ],
            [
             0.7777777777777778,
             "#fb9f3a"
            ],
            [
             0.8888888888888888,
             "#fdca26"
            ],
            [
             1,
             "#f0f921"
            ]
           ],
           "sequentialminus": [
            [
             0,
             "#0d0887"
            ],
            [
             0.1111111111111111,
             "#46039f"
            ],
            [
             0.2222222222222222,
             "#7201a8"
            ],
            [
             0.3333333333333333,
             "#9c179e"
            ],
            [
             0.4444444444444444,
             "#bd3786"
            ],
            [
             0.5555555555555556,
             "#d8576b"
            ],
            [
             0.6666666666666666,
             "#ed7953"
            ],
            [
             0.7777777777777778,
             "#fb9f3a"
            ],
            [
             0.8888888888888888,
             "#fdca26"
            ],
            [
             1,
             "#f0f921"
            ]
           ]
          },
          "colorway": [
           "#636efa",
           "#EF553B",
           "#00cc96",
           "#ab63fa",
           "#FFA15A",
           "#19d3f3",
           "#FF6692",
           "#B6E880",
           "#FF97FF",
           "#FECB52"
          ],
          "font": {
           "color": "#2a3f5f"
          },
          "geo": {
           "bgcolor": "white",
           "lakecolor": "white",
           "landcolor": "#E5ECF6",
           "showlakes": true,
           "showland": true,
           "subunitcolor": "white"
          },
          "hoverlabel": {
           "align": "left"
          },
          "hovermode": "closest",
          "mapbox": {
           "style": "light"
          },
          "paper_bgcolor": "white",
          "plot_bgcolor": "#E5ECF6",
          "polar": {
           "angularaxis": {
            "gridcolor": "white",
            "linecolor": "white",
            "ticks": ""
           },
           "bgcolor": "#E5ECF6",
           "radialaxis": {
            "gridcolor": "white",
            "linecolor": "white",
            "ticks": ""
           }
          },
          "scene": {
           "xaxis": {
            "backgroundcolor": "#E5ECF6",
            "gridcolor": "white",
            "gridwidth": 2,
            "linecolor": "white",
            "showbackground": true,
            "ticks": "",
            "zerolinecolor": "white"
           },
           "yaxis": {
            "backgroundcolor": "#E5ECF6",
            "gridcolor": "white",
            "gridwidth": 2,
            "linecolor": "white",
            "showbackground": true,
            "ticks": "",
            "zerolinecolor": "white"
           },
           "zaxis": {
            "backgroundcolor": "#E5ECF6",
            "gridcolor": "white",
            "gridwidth": 2,
            "linecolor": "white",
            "showbackground": true,
            "ticks": "",
            "zerolinecolor": "white"
           }
          },
          "shapedefaults": {
           "line": {
            "color": "#2a3f5f"
           }
          },
          "ternary": {
           "aaxis": {
            "gridcolor": "white",
            "linecolor": "white",
            "ticks": ""
           },
           "baxis": {
            "gridcolor": "white",
            "linecolor": "white",
            "ticks": ""
           },
           "bgcolor": "#E5ECF6",
           "caxis": {
            "gridcolor": "white",
            "linecolor": "white",
            "ticks": ""
           }
          },
          "title": {
           "x": 0.05
          },
          "xaxis": {
           "automargin": true,
           "gridcolor": "white",
           "linecolor": "white",
           "ticks": "",
           "title": {
            "standoff": 15
           },
           "zerolinecolor": "white",
           "zerolinewidth": 2
          },
          "yaxis": {
           "automargin": true,
           "gridcolor": "white",
           "linecolor": "white",
           "ticks": "",
           "title": {
            "standoff": 15
           },
           "zerolinecolor": "white",
           "zerolinewidth": 2
          }
         }
        },
        "title": {
         "text": "ScienceWorld"
        },
        "width": 1000,
        "xaxis": {
         "anchor": "y",
         "domain": [
          0,
          1
         ],
         "title": {
          "text": "Conversation Mode?"
         }
        },
        "yaxis": {
         "anchor": "x",
         "domain": [
          0,
          1
         ],
         "range": [
          0,
          1.02
         ],
         "title": {
          "text": "Avg. Score"
         }
        }
       }
      }
     },
     "metadata": {},
     "output_type": "display_data"
    }
   ],
   "source": [
    "# filter out the llama-31-70b-instruct\n",
    "tmp = data[~data[\"llm\"].str.contains(\"llama-31-70b-instruct\")]\n",
    "\n",
    "# Keep only LLM agent.\n",
    "tmp = tmp[tmp[\"agent\"].str.contains(\"LLMAgent\")]\n",
    "\n",
    "tmp[\"llm_short\"] = tmp[\"llm\"].str.replace(\"meta-llama/Llama-\", \"\")\n",
    "tmp[\"llm_short\"] = tmp[\"llm_short\"].str.replace(\"-Instruct\", \"\")\n",
    "tmp.groupby([\"conversation\", \"llm\"])[\"final/Normalized Score\"].describe().reset_index()\n",
    "\n",
    "# Compute the average score for each llm group by conversation and stderror\n",
    "mean_stderror = tmp.groupby([\"conversation\", \"llm\", \"llm_short\"])[\"final/Normalized Score\"].agg([\"mean\", \"sem\"]).reset_index()\n",
    "# Sort the llm groups by predefined order\n",
    "order = [\"3.1-405B\", \"3.1-70B\", \"3.1-8B\", \"3.2-3B\", \"3.2-1B\"]\n",
    "order += sorted(set(tmp[\"llm_short\"].unique().tolist()) - set(order))\n",
    "mean_stderror[\"llm_short\"] = pd.Categorical(mean_stderror[\"llm_short\"], categories=order, ordered=True)\n",
    "mean_stderror = mean_stderror.sort_values(\"llm_short\", ascending=False)\n",
    "\n",
    "# Display grouped bar chat for each llm group by conversation using plotly\n",
    "import plotly.express as px\n",
    "fig = px.bar(mean_stderror, x=\"conversation\", y=\"mean\", color=\"llm\", barmode=\"group\", title=\"ScienceWorld\", error_y=\"sem\", text=\"llm_short\", width=1000)\n",
    "\n",
    "# Set y-axis title\n",
    "fig.update_yaxes(title_text=\"Avg. Score\")\n",
    "fig.update_xaxes(title_text=\"Conversation Mode?\")\n",
    "\n",
    "# Set y range to 0, 1\n",
    "fig.update_yaxes(range=[0, 1.02])\n",
    "\n",
    "# Put legent at the top\n",
    "fig.update_layout(legend=dict(\n",
    "    orientation=\"h\",\n",
    "    yanchor=\"top\",\n",
    "    y=1.02,\n",
    "    xanchor=\"right\",\n",
    "    x=1\n",
    "))\n",
    "\n",
    "# Hide legend title\n",
    "fig.update_layout(legend_title_text='')\n",
    "\n",
    "fig.update_traces(textposition='outside')\n",
    "fig.show()\n",
    "# save the figure to png\n",
    "fig.write_image(\"scienceworld_llm_conversation.png\")\n",
    "\n",
    "\n"
   ]
  },
  {
   "cell_type": "code",
   "execution_count": 31,
   "metadata": {},
   "outputs": [],
   "source": [
    "# Create a group bar chart with the average score per game for each model\n",
    "import os\n",
    "import plotly.express as px\n",
    "import plotly.graph_objects as go\n",
    "\n",
    "\n",
    "def make_grouped_bar_chart(df, groupby=\"agent\"):\n",
    "    df = df.copy()\n",
    "\n",
    "    # sort by max score for gpt-4o\n",
    "    #df = df.sort_values(by=[\"model\", \"Max Normalized Score\"], ascending=True)\n",
    "\n",
    "    # Strip common prefix from game name\n",
    "    game_names = list(df[\"game\"].unique())\n",
    "    commond_prefix = os.path.commonprefix(game_names)\n",
    "    df[\"game\"] = df[\"game\"].str.replace(commond_prefix, \"\")\n",
    "\n",
    "    # Filterout game lurking and hollywood\n",
    "    #df = df[~df[\"game\"].isin([\"lurking\", \"hollywood\"])]\n",
    "\n",
    "    # Add new column to order difficulty\n",
    "    df[\"order\"] = df[\"Difficulty\"].map({\"Possible\": 2, \"Difficult\": 1, \"Extreme\": 0})\n",
    "\n",
    "    df = df.sort_values(by=[\"order\", groupby, \"final/Normalized Score\"], ascending=True)\n",
    "    df = df.groupby([\"game\", \"Difficulty\", \"llm\", \"llm_short\"])[\"final/Normalized Score\"].agg([\"mean\", \"sem\"]).reset_index()\n",
    "\n",
    "    # Add new column color for each game based on the game difficulty\n",
    "    def color(game, diff):\n",
    "        if diff == \"Possible\":\n",
    "            return f\"<span style='color:green'>{game}</span>\"\n",
    "        elif diff == \"Difficult\":\n",
    "            return f\"<span style='color:orange'>{game}</span>\"\n",
    "        elif diff == \"Extreme\":\n",
    "            return f\"<span style='color:red'>{game}</span>\"\n",
    "        else:\n",
    "            raise ValueError(\"Unknown difficulty\")\n",
    "\n",
    "    df[\"color\"] = df.apply(lambda x: color(x[\"game\"], x[\"Difficulty\"]), axis=1)\n",
    "\n",
    "    fig = px.bar(df, x=\"mean\", y=\"game\", color=groupby, barmode=\"group\", title=\"ScienceWorld - Normalized Score\", error_x=\"sem\", height=2000)\n",
    "\n",
    "    # Sort the y axis by game difficulty and then by max score for gpt-4o\n",
    "    #fig.update_yaxes(categoryorder=\"array\", categoryarray=df.sort_values(by=[\"order\", groupby, \"final/Normalized Score\"], ascending=True))\n",
    "    fig.update_yaxes(tickvals=df[\"game\"], tickmode=\"array\", ticktext=df[\"color\"])\n",
    "\n",
    "    # Make x axis range from 0 to 1\n",
    "    fig.update_xaxes(range=[0, 1.02])\n",
    "\n",
    "    # sort game title by max score for gpt-4o\n",
    "    #fig.update_yaxes(categoryorder=\"total ascending\")\n",
    "    return fig\n"
   ]
  },
  {
   "cell_type": "markdown",
   "metadata": {},
   "source": [
    "# Work-in-progress"
   ]
  },
  {
   "cell_type": "code",
   "execution_count": 15,
   "metadata": {},
   "outputs": [
    {
     "data": {
      "application/vnd.plotly.v1+json": {
       "config": {
        "plotlyServerURL": "https://plot.ly"
       },
       "data": [
        {
         "alignmentgroup": "True",
         "hovertemplate": "agent=ReactAgent_llama-31-70b-instruct_s20241001_cNone_t0.0_cotT0.0_cotN1024_convTrue<br>final/Normalized Score=%{x}<br>game=%{y}<extra></extra>",
         "legendgroup": "ReactAgent_llama-31-70b-instruct_s20241001_cNone_t0.0_cotT0.0_cotN1024_convTrue",
         "marker": {
          "color": "#636efa",
          "pattern": {
           "shape": ""
          }
         },
         "name": "ReactAgent_llama-31-70b-instruct_s20241001_cNone_t0.0_cotT0.0_cotN1024_convTrue",
         "offsetgroup": "ReactAgent_llama-31-70b-instruct_s20241001_cNone_t0.0_cotT0.0_cotN1024_convTrue",
         "orientation": "h",
         "showlegend": true,
         "textposition": "auto",
         "type": "bar",
         "x": [
          0,
          0,
          0,
          0,
          0,
          0.006666666666666667,
          0.032,
          0.04,
          0.05,
          0.07142857142857142,
          0.075,
          0.1,
          0.14285714285714285,
          0,
          0,
          0,
          0,
          0,
          0,
          0,
          0,
          0,
          0,
          0,
          0,
          0,
          0,
          0,
          0,
          0,
          0,
          0,
          0.03,
          0.056666666666666664,
          0.09803921568627452,
          0.1,
          0.10285714285714286,
          0.3055555555555556,
          0.04,
          0.09
         ],
         "xaxis": "x",
         "y": [
          "Moonlit",
          "Night",
          "Partyfoul",
          "Plundered",
          "Reverb",
          "Ludicorp",
          "Murdac",
          "Loose",
          "Lurking",
          "Pentari",
          "Planetfall",
          "Omniquest",
          "Lostpig",
          "905",
          "Acorncourt",
          "Adventureland",
          "Afflicted",
          "Anchor",
          "Awaken",
          "Ballyhoo",
          "Curses",
          "Cutthroat",
          "Dragon",
          "Enchanter",
          "Hhgg",
          "Hollywood",
          "Huntdark",
          "Infidel",
          "Inhumane",
          "Jewel",
          "Karn",
          "Library",
          "Gold",
          "Deephome",
          "Balances",
          "Enter",
          "Advent",
          "Detective",
          "Seastalker",
          "Sherlock"
         ],
         "yaxis": "y"
        }
       ],
       "layout": {
        "barmode": "group",
        "height": 1000,
        "legend": {
         "title": {
          "text": "agent"
         },
         "tracegroupgap": 0
        },
        "template": {
         "data": {
          "bar": [
           {
            "error_x": {
             "color": "#2a3f5f"
            },
            "error_y": {
             "color": "#2a3f5f"
            },
            "marker": {
             "line": {
              "color": "#E5ECF6",
              "width": 0.5
             },
             "pattern": {
              "fillmode": "overlay",
              "size": 10,
              "solidity": 0.2
             }
            },
            "type": "bar"
           }
          ],
          "barpolar": [
           {
            "marker": {
             "line": {
              "color": "#E5ECF6",
              "width": 0.5
             },
             "pattern": {
              "fillmode": "overlay",
              "size": 10,
              "solidity": 0.2
             }
            },
            "type": "barpolar"
           }
          ],
          "carpet": [
           {
            "aaxis": {
             "endlinecolor": "#2a3f5f",
             "gridcolor": "white",
             "linecolor": "white",
             "minorgridcolor": "white",
             "startlinecolor": "#2a3f5f"
            },
            "baxis": {
             "endlinecolor": "#2a3f5f",
             "gridcolor": "white",
             "linecolor": "white",
             "minorgridcolor": "white",
             "startlinecolor": "#2a3f5f"
            },
            "type": "carpet"
           }
          ],
          "choropleth": [
           {
            "colorbar": {
             "outlinewidth": 0,
             "ticks": ""
            },
            "type": "choropleth"
           }
          ],
          "contour": [
           {
            "colorbar": {
             "outlinewidth": 0,
             "ticks": ""
            },
            "colorscale": [
             [
              0,
              "#0d0887"
             ],
             [
              0.1111111111111111,
              "#46039f"
             ],
             [
              0.2222222222222222,
              "#7201a8"
             ],
             [
              0.3333333333333333,
              "#9c179e"
             ],
             [
              0.4444444444444444,
              "#bd3786"
             ],
             [
              0.5555555555555556,
              "#d8576b"
             ],
             [
              0.6666666666666666,
              "#ed7953"
             ],
             [
              0.7777777777777778,
              "#fb9f3a"
             ],
             [
              0.8888888888888888,
              "#fdca26"
             ],
             [
              1,
              "#f0f921"
             ]
            ],
            "type": "contour"
           }
          ],
          "contourcarpet": [
           {
            "colorbar": {
             "outlinewidth": 0,
             "ticks": ""
            },
            "type": "contourcarpet"
           }
          ],
          "heatmap": [
           {
            "colorbar": {
             "outlinewidth": 0,
             "ticks": ""
            },
            "colorscale": [
             [
              0,
              "#0d0887"
             ],
             [
              0.1111111111111111,
              "#46039f"
             ],
             [
              0.2222222222222222,
              "#7201a8"
             ],
             [
              0.3333333333333333,
              "#9c179e"
             ],
             [
              0.4444444444444444,
              "#bd3786"
             ],
             [
              0.5555555555555556,
              "#d8576b"
             ],
             [
              0.6666666666666666,
              "#ed7953"
             ],
             [
              0.7777777777777778,
              "#fb9f3a"
             ],
             [
              0.8888888888888888,
              "#fdca26"
             ],
             [
              1,
              "#f0f921"
             ]
            ],
            "type": "heatmap"
           }
          ],
          "heatmapgl": [
           {
            "colorbar": {
             "outlinewidth": 0,
             "ticks": ""
            },
            "colorscale": [
             [
              0,
              "#0d0887"
             ],
             [
              0.1111111111111111,
              "#46039f"
             ],
             [
              0.2222222222222222,
              "#7201a8"
             ],
             [
              0.3333333333333333,
              "#9c179e"
             ],
             [
              0.4444444444444444,
              "#bd3786"
             ],
             [
              0.5555555555555556,
              "#d8576b"
             ],
             [
              0.6666666666666666,
              "#ed7953"
             ],
             [
              0.7777777777777778,
              "#fb9f3a"
             ],
             [
              0.8888888888888888,
              "#fdca26"
             ],
             [
              1,
              "#f0f921"
             ]
            ],
            "type": "heatmapgl"
           }
          ],
          "histogram": [
           {
            "marker": {
             "pattern": {
              "fillmode": "overlay",
              "size": 10,
              "solidity": 0.2
             }
            },
            "type": "histogram"
           }
          ],
          "histogram2d": [
           {
            "colorbar": {
             "outlinewidth": 0,
             "ticks": ""
            },
            "colorscale": [
             [
              0,
              "#0d0887"
             ],
             [
              0.1111111111111111,
              "#46039f"
             ],
             [
              0.2222222222222222,
              "#7201a8"
             ],
             [
              0.3333333333333333,
              "#9c179e"
             ],
             [
              0.4444444444444444,
              "#bd3786"
             ],
             [
              0.5555555555555556,
              "#d8576b"
             ],
             [
              0.6666666666666666,
              "#ed7953"
             ],
             [
              0.7777777777777778,
              "#fb9f3a"
             ],
             [
              0.8888888888888888,
              "#fdca26"
             ],
             [
              1,
              "#f0f921"
             ]
            ],
            "type": "histogram2d"
           }
          ],
          "histogram2dcontour": [
           {
            "colorbar": {
             "outlinewidth": 0,
             "ticks": ""
            },
            "colorscale": [
             [
              0,
              "#0d0887"
             ],
             [
              0.1111111111111111,
              "#46039f"
             ],
             [
              0.2222222222222222,
              "#7201a8"
             ],
             [
              0.3333333333333333,
              "#9c179e"
             ],
             [
              0.4444444444444444,
              "#bd3786"
             ],
             [
              0.5555555555555556,
              "#d8576b"
             ],
             [
              0.6666666666666666,
              "#ed7953"
             ],
             [
              0.7777777777777778,
              "#fb9f3a"
             ],
             [
              0.8888888888888888,
              "#fdca26"
             ],
             [
              1,
              "#f0f921"
             ]
            ],
            "type": "histogram2dcontour"
           }
          ],
          "mesh3d": [
           {
            "colorbar": {
             "outlinewidth": 0,
             "ticks": ""
            },
            "type": "mesh3d"
           }
          ],
          "parcoords": [
           {
            "line": {
             "colorbar": {
              "outlinewidth": 0,
              "ticks": ""
             }
            },
            "type": "parcoords"
           }
          ],
          "pie": [
           {
            "automargin": true,
            "type": "pie"
           }
          ],
          "scatter": [
           {
            "fillpattern": {
             "fillmode": "overlay",
             "size": 10,
             "solidity": 0.2
            },
            "type": "scatter"
           }
          ],
          "scatter3d": [
           {
            "line": {
             "colorbar": {
              "outlinewidth": 0,
              "ticks": ""
             }
            },
            "marker": {
             "colorbar": {
              "outlinewidth": 0,
              "ticks": ""
             }
            },
            "type": "scatter3d"
           }
          ],
          "scattercarpet": [
           {
            "marker": {
             "colorbar": {
              "outlinewidth": 0,
              "ticks": ""
             }
            },
            "type": "scattercarpet"
           }
          ],
          "scattergeo": [
           {
            "marker": {
             "colorbar": {
              "outlinewidth": 0,
              "ticks": ""
             }
            },
            "type": "scattergeo"
           }
          ],
          "scattergl": [
           {
            "marker": {
             "colorbar": {
              "outlinewidth": 0,
              "ticks": ""
             }
            },
            "type": "scattergl"
           }
          ],
          "scattermapbox": [
           {
            "marker": {
             "colorbar": {
              "outlinewidth": 0,
              "ticks": ""
             }
            },
            "type": "scattermapbox"
           }
          ],
          "scatterpolar": [
           {
            "marker": {
             "colorbar": {
              "outlinewidth": 0,
              "ticks": ""
             }
            },
            "type": "scatterpolar"
           }
          ],
          "scatterpolargl": [
           {
            "marker": {
             "colorbar": {
              "outlinewidth": 0,
              "ticks": ""
             }
            },
            "type": "scatterpolargl"
           }
          ],
          "scatterternary": [
           {
            "marker": {
             "colorbar": {
              "outlinewidth": 0,
              "ticks": ""
             }
            },
            "type": "scatterternary"
           }
          ],
          "surface": [
           {
            "colorbar": {
             "outlinewidth": 0,
             "ticks": ""
            },
            "colorscale": [
             [
              0,
              "#0d0887"
             ],
             [
              0.1111111111111111,
              "#46039f"
             ],
             [
              0.2222222222222222,
              "#7201a8"
             ],
             [
              0.3333333333333333,
              "#9c179e"
             ],
             [
              0.4444444444444444,
              "#bd3786"
             ],
             [
              0.5555555555555556,
              "#d8576b"
             ],
             [
              0.6666666666666666,
              "#ed7953"
             ],
             [
              0.7777777777777778,
              "#fb9f3a"
             ],
             [
              0.8888888888888888,
              "#fdca26"
             ],
             [
              1,
              "#f0f921"
             ]
            ],
            "type": "surface"
           }
          ],
          "table": [
           {
            "cells": {
             "fill": {
              "color": "#EBF0F8"
             },
             "line": {
              "color": "white"
             }
            },
            "header": {
             "fill": {
              "color": "#C8D4E3"
             },
             "line": {
              "color": "white"
             }
            },
            "type": "table"
           }
          ]
         },
         "layout": {
          "annotationdefaults": {
           "arrowcolor": "#2a3f5f",
           "arrowhead": 0,
           "arrowwidth": 1
          },
          "autotypenumbers": "strict",
          "coloraxis": {
           "colorbar": {
            "outlinewidth": 0,
            "ticks": ""
           }
          },
          "colorscale": {
           "diverging": [
            [
             0,
             "#8e0152"
            ],
            [
             0.1,
             "#c51b7d"
            ],
            [
             0.2,
             "#de77ae"
            ],
            [
             0.3,
             "#f1b6da"
            ],
            [
             0.4,
             "#fde0ef"
            ],
            [
             0.5,
             "#f7f7f7"
            ],
            [
             0.6,
             "#e6f5d0"
            ],
            [
             0.7,
             "#b8e186"
            ],
            [
             0.8,
             "#7fbc41"
            ],
            [
             0.9,
             "#4d9221"
            ],
            [
             1,
             "#276419"
            ]
           ],
           "sequential": [
            [
             0,
             "#0d0887"
            ],
            [
             0.1111111111111111,
             "#46039f"
            ],
            [
             0.2222222222222222,
             "#7201a8"
            ],
            [
             0.3333333333333333,
             "#9c179e"
            ],
            [
             0.4444444444444444,
             "#bd3786"
            ],
            [
             0.5555555555555556,
             "#d8576b"
            ],
            [
             0.6666666666666666,
             "#ed7953"
            ],
            [
             0.7777777777777778,
             "#fb9f3a"
            ],
            [
             0.8888888888888888,
             "#fdca26"
            ],
            [
             1,
             "#f0f921"
            ]
           ],
           "sequentialminus": [
            [
             0,
             "#0d0887"
            ],
            [
             0.1111111111111111,
             "#46039f"
            ],
            [
             0.2222222222222222,
             "#7201a8"
            ],
            [
             0.3333333333333333,
             "#9c179e"
            ],
            [
             0.4444444444444444,
             "#bd3786"
            ],
            [
             0.5555555555555556,
             "#d8576b"
            ],
            [
             0.6666666666666666,
             "#ed7953"
            ],
            [
             0.7777777777777778,
             "#fb9f3a"
            ],
            [
             0.8888888888888888,
             "#fdca26"
            ],
            [
             1,
             "#f0f921"
            ]
           ]
          },
          "colorway": [
           "#636efa",
           "#EF553B",
           "#00cc96",
           "#ab63fa",
           "#FFA15A",
           "#19d3f3",
           "#FF6692",
           "#B6E880",
           "#FF97FF",
           "#FECB52"
          ],
          "font": {
           "color": "#2a3f5f"
          },
          "geo": {
           "bgcolor": "white",
           "lakecolor": "white",
           "landcolor": "#E5ECF6",
           "showlakes": true,
           "showland": true,
           "subunitcolor": "white"
          },
          "hoverlabel": {
           "align": "left"
          },
          "hovermode": "closest",
          "mapbox": {
           "style": "light"
          },
          "paper_bgcolor": "white",
          "plot_bgcolor": "#E5ECF6",
          "polar": {
           "angularaxis": {
            "gridcolor": "white",
            "linecolor": "white",
            "ticks": ""
           },
           "bgcolor": "#E5ECF6",
           "radialaxis": {
            "gridcolor": "white",
            "linecolor": "white",
            "ticks": ""
           }
          },
          "scene": {
           "xaxis": {
            "backgroundcolor": "#E5ECF6",
            "gridcolor": "white",
            "gridwidth": 2,
            "linecolor": "white",
            "showbackground": true,
            "ticks": "",
            "zerolinecolor": "white"
           },
           "yaxis": {
            "backgroundcolor": "#E5ECF6",
            "gridcolor": "white",
            "gridwidth": 2,
            "linecolor": "white",
            "showbackground": true,
            "ticks": "",
            "zerolinecolor": "white"
           },
           "zaxis": {
            "backgroundcolor": "#E5ECF6",
            "gridcolor": "white",
            "gridwidth": 2,
            "linecolor": "white",
            "showbackground": true,
            "ticks": "",
            "zerolinecolor": "white"
           }
          },
          "shapedefaults": {
           "line": {
            "color": "#2a3f5f"
           }
          },
          "ternary": {
           "aaxis": {
            "gridcolor": "white",
            "linecolor": "white",
            "ticks": ""
           },
           "baxis": {
            "gridcolor": "white",
            "linecolor": "white",
            "ticks": ""
           },
           "bgcolor": "#E5ECF6",
           "caxis": {
            "gridcolor": "white",
            "linecolor": "white",
            "ticks": ""
           }
          },
          "title": {
           "x": 0.05
          },
          "xaxis": {
           "automargin": true,
           "gridcolor": "white",
           "linecolor": "white",
           "ticks": "",
           "title": {
            "standoff": 15
           },
           "zerolinecolor": "white",
           "zerolinewidth": 2
          },
          "yaxis": {
           "automargin": true,
           "gridcolor": "white",
           "linecolor": "white",
           "ticks": "",
           "title": {
            "standoff": 15
           },
           "zerolinecolor": "white",
           "zerolinewidth": 2
          }
         }
        },
        "title": {
         "text": "ScienceWorld - Normalized Score"
        },
        "xaxis": {
         "anchor": "y",
         "domain": [
          0,
          1
         ],
         "range": [
          0,
          1.02
         ],
         "title": {
          "text": "final/Normalized Score"
         }
        },
        "yaxis": {
         "anchor": "x",
         "domain": [
          0,
          1
         ],
         "tickmode": "array",
         "ticktext": [
          "<span style='color:red'>Moonlit</span>",
          "<span style='color:red'>Night</span>",
          "<span style='color:red'>Partyfoul</span>",
          "<span style='color:red'>Plundered</span>",
          "<span style='color:red'>Reverb</span>",
          "<span style='color:red'>Ludicorp</span>",
          "<span style='color:red'>Murdac</span>",
          "<span style='color:red'>Loose</span>",
          "<span style='color:red'>Lurking</span>",
          "<span style='color:red'>Pentari</span>",
          "<span style='color:red'>Planetfall</span>",
          "<span style='color:red'>Omniquest</span>",
          "<span style='color:red'>Lostpig</span>",
          "<span style='color:orange'>905</span>",
          "<span style='color:orange'>Acorncourt</span>",
          "<span style='color:orange'>Adventureland</span>",
          "<span style='color:orange'>Afflicted</span>",
          "<span style='color:orange'>Anchor</span>",
          "<span style='color:orange'>Awaken</span>",
          "<span style='color:orange'>Ballyhoo</span>",
          "<span style='color:orange'>Curses</span>",
          "<span style='color:orange'>Cutthroat</span>",
          "<span style='color:orange'>Dragon</span>",
          "<span style='color:orange'>Enchanter</span>",
          "<span style='color:orange'>Hhgg</span>",
          "<span style='color:orange'>Hollywood</span>",
          "<span style='color:orange'>Huntdark</span>",
          "<span style='color:orange'>Infidel</span>",
          "<span style='color:orange'>Inhumane</span>",
          "<span style='color:orange'>Jewel</span>",
          "<span style='color:orange'>Karn</span>",
          "<span style='color:orange'>Library</span>",
          "<span style='color:orange'>Gold</span>",
          "<span style='color:orange'>Deephome</span>",
          "<span style='color:orange'>Balances</span>",
          "<span style='color:orange'>Enter</span>",
          "<span style='color:orange'>Advent</span>",
          "<span style='color:orange'>Detective</span>",
          "<span style='color:green'>Seastalker</span>",
          "<span style='color:green'>Sherlock</span>"
         ],
         "tickvals": [
          "Moonlit",
          "Night",
          "Partyfoul",
          "Plundered",
          "Reverb",
          "Ludicorp",
          "Murdac",
          "Loose",
          "Lurking",
          "Pentari",
          "Planetfall",
          "Omniquest",
          "Lostpig",
          "905",
          "Acorncourt",
          "Adventureland",
          "Afflicted",
          "Anchor",
          "Awaken",
          "Ballyhoo",
          "Curses",
          "Cutthroat",
          "Dragon",
          "Enchanter",
          "Hhgg",
          "Hollywood",
          "Huntdark",
          "Infidel",
          "Inhumane",
          "Jewel",
          "Karn",
          "Library",
          "Gold",
          "Deephome",
          "Balances",
          "Enter",
          "Advent",
          "Detective",
          "Seastalker",
          "Sherlock"
         ],
         "title": {
          "text": "game"
         }
        }
       }
      }
     },
     "metadata": {},
     "output_type": "display_data"
    }
   ],
   "source": [
    "df = fetch_data(\"jericho\")\n",
    "fig = make_grouped_bar_chart(df)\n",
    "fig.show()"
   ]
  },
  {
   "cell_type": "code",
   "execution_count": 16,
   "metadata": {},
   "outputs": [
    {
     "data": {
      "application/vnd.plotly.v1+json": {
       "config": {
        "plotlyServerURL": "https://plot.ly"
       },
       "data": [
        {
         "alignmentgroup": "True",
         "hovertemplate": "agent=ReactAgent_llama-31-70b-instruct_s20241001_cNone_t0.0_cotT0.0_cotN1024_convTrue<br>final/Normalized Score=%{x}<br>game=%{y}<extra></extra>",
         "legendgroup": "ReactAgent_llama-31-70b-instruct_s20241001_cNone_t0.0_cotT0.0_cotN1024_convTrue",
         "marker": {
          "color": "#636efa",
          "pattern": {
           "shape": ""
          }
         },
         "name": "ReactAgent_llama-31-70b-instruct_s20241001_cNone_t0.0_cotT0.0_cotN1024_convTrue",
         "offsetgroup": "ReactAgent_llama-31-70b-instruct_s20241001_cNone_t0.0_cotT0.0_cotN1024_convTrue",
         "orientation": "h",
         "showlegend": true,
         "textposition": "auto",
         "type": "bar",
         "x": [
          0,
          0,
          0.18181818181818185,
          0.25,
          0.3333333333333333,
          0.4,
          0.6,
          1,
          1,
          1
         ],
         "xaxis": "x",
         "y": [
          "10",
          "5",
          "9",
          "2",
          "6",
          "7",
          "8",
          "1",
          "3",
          "4"
         ],
         "yaxis": "y"
        }
       ],
       "layout": {
        "barmode": "group",
        "height": 1000,
        "legend": {
         "title": {
          "text": "agent"
         },
         "tracegroupgap": 0
        },
        "template": {
         "data": {
          "bar": [
           {
            "error_x": {
             "color": "#2a3f5f"
            },
            "error_y": {
             "color": "#2a3f5f"
            },
            "marker": {
             "line": {
              "color": "#E5ECF6",
              "width": 0.5
             },
             "pattern": {
              "fillmode": "overlay",
              "size": 10,
              "solidity": 0.2
             }
            },
            "type": "bar"
           }
          ],
          "barpolar": [
           {
            "marker": {
             "line": {
              "color": "#E5ECF6",
              "width": 0.5
             },
             "pattern": {
              "fillmode": "overlay",
              "size": 10,
              "solidity": 0.2
             }
            },
            "type": "barpolar"
           }
          ],
          "carpet": [
           {
            "aaxis": {
             "endlinecolor": "#2a3f5f",
             "gridcolor": "white",
             "linecolor": "white",
             "minorgridcolor": "white",
             "startlinecolor": "#2a3f5f"
            },
            "baxis": {
             "endlinecolor": "#2a3f5f",
             "gridcolor": "white",
             "linecolor": "white",
             "minorgridcolor": "white",
             "startlinecolor": "#2a3f5f"
            },
            "type": "carpet"
           }
          ],
          "choropleth": [
           {
            "colorbar": {
             "outlinewidth": 0,
             "ticks": ""
            },
            "type": "choropleth"
           }
          ],
          "contour": [
           {
            "colorbar": {
             "outlinewidth": 0,
             "ticks": ""
            },
            "colorscale": [
             [
              0,
              "#0d0887"
             ],
             [
              0.1111111111111111,
              "#46039f"
             ],
             [
              0.2222222222222222,
              "#7201a8"
             ],
             [
              0.3333333333333333,
              "#9c179e"
             ],
             [
              0.4444444444444444,
              "#bd3786"
             ],
             [
              0.5555555555555556,
              "#d8576b"
             ],
             [
              0.6666666666666666,
              "#ed7953"
             ],
             [
              0.7777777777777778,
              "#fb9f3a"
             ],
             [
              0.8888888888888888,
              "#fdca26"
             ],
             [
              1,
              "#f0f921"
             ]
            ],
            "type": "contour"
           }
          ],
          "contourcarpet": [
           {
            "colorbar": {
             "outlinewidth": 0,
             "ticks": ""
            },
            "type": "contourcarpet"
           }
          ],
          "heatmap": [
           {
            "colorbar": {
             "outlinewidth": 0,
             "ticks": ""
            },
            "colorscale": [
             [
              0,
              "#0d0887"
             ],
             [
              0.1111111111111111,
              "#46039f"
             ],
             [
              0.2222222222222222,
              "#7201a8"
             ],
             [
              0.3333333333333333,
              "#9c179e"
             ],
             [
              0.4444444444444444,
              "#bd3786"
             ],
             [
              0.5555555555555556,
              "#d8576b"
             ],
             [
              0.6666666666666666,
              "#ed7953"
             ],
             [
              0.7777777777777778,
              "#fb9f3a"
             ],
             [
              0.8888888888888888,
              "#fdca26"
             ],
             [
              1,
              "#f0f921"
             ]
            ],
            "type": "heatmap"
           }
          ],
          "heatmapgl": [
           {
            "colorbar": {
             "outlinewidth": 0,
             "ticks": ""
            },
            "colorscale": [
             [
              0,
              "#0d0887"
             ],
             [
              0.1111111111111111,
              "#46039f"
             ],
             [
              0.2222222222222222,
              "#7201a8"
             ],
             [
              0.3333333333333333,
              "#9c179e"
             ],
             [
              0.4444444444444444,
              "#bd3786"
             ],
             [
              0.5555555555555556,
              "#d8576b"
             ],
             [
              0.6666666666666666,
              "#ed7953"
             ],
             [
              0.7777777777777778,
              "#fb9f3a"
             ],
             [
              0.8888888888888888,
              "#fdca26"
             ],
             [
              1,
              "#f0f921"
             ]
            ],
            "type": "heatmapgl"
           }
          ],
          "histogram": [
           {
            "marker": {
             "pattern": {
              "fillmode": "overlay",
              "size": 10,
              "solidity": 0.2
             }
            },
            "type": "histogram"
           }
          ],
          "histogram2d": [
           {
            "colorbar": {
             "outlinewidth": 0,
             "ticks": ""
            },
            "colorscale": [
             [
              0,
              "#0d0887"
             ],
             [
              0.1111111111111111,
              "#46039f"
             ],
             [
              0.2222222222222222,
              "#7201a8"
             ],
             [
              0.3333333333333333,
              "#9c179e"
             ],
             [
              0.4444444444444444,
              "#bd3786"
             ],
             [
              0.5555555555555556,
              "#d8576b"
             ],
             [
              0.6666666666666666,
              "#ed7953"
             ],
             [
              0.7777777777777778,
              "#fb9f3a"
             ],
             [
              0.8888888888888888,
              "#fdca26"
             ],
             [
              1,
              "#f0f921"
             ]
            ],
            "type": "histogram2d"
           }
          ],
          "histogram2dcontour": [
           {
            "colorbar": {
             "outlinewidth": 0,
             "ticks": ""
            },
            "colorscale": [
             [
              0,
              "#0d0887"
             ],
             [
              0.1111111111111111,
              "#46039f"
             ],
             [
              0.2222222222222222,
              "#7201a8"
             ],
             [
              0.3333333333333333,
              "#9c179e"
             ],
             [
              0.4444444444444444,
              "#bd3786"
             ],
             [
              0.5555555555555556,
              "#d8576b"
             ],
             [
              0.6666666666666666,
              "#ed7953"
             ],
             [
              0.7777777777777778,
              "#fb9f3a"
             ],
             [
              0.8888888888888888,
              "#fdca26"
             ],
             [
              1,
              "#f0f921"
             ]
            ],
            "type": "histogram2dcontour"
           }
          ],
          "mesh3d": [
           {
            "colorbar": {
             "outlinewidth": 0,
             "ticks": ""
            },
            "type": "mesh3d"
           }
          ],
          "parcoords": [
           {
            "line": {
             "colorbar": {
              "outlinewidth": 0,
              "ticks": ""
             }
            },
            "type": "parcoords"
           }
          ],
          "pie": [
           {
            "automargin": true,
            "type": "pie"
           }
          ],
          "scatter": [
           {
            "fillpattern": {
             "fillmode": "overlay",
             "size": 10,
             "solidity": 0.2
            },
            "type": "scatter"
           }
          ],
          "scatter3d": [
           {
            "line": {
             "colorbar": {
              "outlinewidth": 0,
              "ticks": ""
             }
            },
            "marker": {
             "colorbar": {
              "outlinewidth": 0,
              "ticks": ""
             }
            },
            "type": "scatter3d"
           }
          ],
          "scattercarpet": [
           {
            "marker": {
             "colorbar": {
              "outlinewidth": 0,
              "ticks": ""
             }
            },
            "type": "scattercarpet"
           }
          ],
          "scattergeo": [
           {
            "marker": {
             "colorbar": {
              "outlinewidth": 0,
              "ticks": ""
             }
            },
            "type": "scattergeo"
           }
          ],
          "scattergl": [
           {
            "marker": {
             "colorbar": {
              "outlinewidth": 0,
              "ticks": ""
             }
            },
            "type": "scattergl"
           }
          ],
          "scattermapbox": [
           {
            "marker": {
             "colorbar": {
              "outlinewidth": 0,
              "ticks": ""
             }
            },
            "type": "scattermapbox"
           }
          ],
          "scatterpolar": [
           {
            "marker": {
             "colorbar": {
              "outlinewidth": 0,
              "ticks": ""
             }
            },
            "type": "scatterpolar"
           }
          ],
          "scatterpolargl": [
           {
            "marker": {
             "colorbar": {
              "outlinewidth": 0,
              "ticks": ""
             }
            },
            "type": "scatterpolargl"
           }
          ],
          "scatterternary": [
           {
            "marker": {
             "colorbar": {
              "outlinewidth": 0,
              "ticks": ""
             }
            },
            "type": "scatterternary"
           }
          ],
          "surface": [
           {
            "colorbar": {
             "outlinewidth": 0,
             "ticks": ""
            },
            "colorscale": [
             [
              0,
              "#0d0887"
             ],
             [
              0.1111111111111111,
              "#46039f"
             ],
             [
              0.2222222222222222,
              "#7201a8"
             ],
             [
              0.3333333333333333,
              "#9c179e"
             ],
             [
              0.4444444444444444,
              "#bd3786"
             ],
             [
              0.5555555555555556,
              "#d8576b"
             ],
             [
              0.6666666666666666,
              "#ed7953"
             ],
             [
              0.7777777777777778,
              "#fb9f3a"
             ],
             [
              0.8888888888888888,
              "#fdca26"
             ],
             [
              1,
              "#f0f921"
             ]
            ],
            "type": "surface"
           }
          ],
          "table": [
           {
            "cells": {
             "fill": {
              "color": "#EBF0F8"
             },
             "line": {
              "color": "white"
             }
            },
            "header": {
             "fill": {
              "color": "#C8D4E3"
             },
             "line": {
              "color": "white"
             }
            },
            "type": "table"
           }
          ]
         },
         "layout": {
          "annotationdefaults": {
           "arrowcolor": "#2a3f5f",
           "arrowhead": 0,
           "arrowwidth": 1
          },
          "autotypenumbers": "strict",
          "coloraxis": {
           "colorbar": {
            "outlinewidth": 0,
            "ticks": ""
           }
          },
          "colorscale": {
           "diverging": [
            [
             0,
             "#8e0152"
            ],
            [
             0.1,
             "#c51b7d"
            ],
            [
             0.2,
             "#de77ae"
            ],
            [
             0.3,
             "#f1b6da"
            ],
            [
             0.4,
             "#fde0ef"
            ],
            [
             0.5,
             "#f7f7f7"
            ],
            [
             0.6,
             "#e6f5d0"
            ],
            [
             0.7,
             "#b8e186"
            ],
            [
             0.8,
             "#7fbc41"
            ],
            [
             0.9,
             "#4d9221"
            ],
            [
             1,
             "#276419"
            ]
           ],
           "sequential": [
            [
             0,
             "#0d0887"
            ],
            [
             0.1111111111111111,
             "#46039f"
            ],
            [
             0.2222222222222222,
             "#7201a8"
            ],
            [
             0.3333333333333333,
             "#9c179e"
            ],
            [
             0.4444444444444444,
             "#bd3786"
            ],
            [
             0.5555555555555556,
             "#d8576b"
            ],
            [
             0.6666666666666666,
             "#ed7953"
            ],
            [
             0.7777777777777778,
             "#fb9f3a"
            ],
            [
             0.8888888888888888,
             "#fdca26"
            ],
            [
             1,
             "#f0f921"
            ]
           ],
           "sequentialminus": [
            [
             0,
             "#0d0887"
            ],
            [
             0.1111111111111111,
             "#46039f"
            ],
            [
             0.2222222222222222,
             "#7201a8"
            ],
            [
             0.3333333333333333,
             "#9c179e"
            ],
            [
             0.4444444444444444,
             "#bd3786"
            ],
            [
             0.5555555555555556,
             "#d8576b"
            ],
            [
             0.6666666666666666,
             "#ed7953"
            ],
            [
             0.7777777777777778,
             "#fb9f3a"
            ],
            [
             0.8888888888888888,
             "#fdca26"
            ],
            [
             1,
             "#f0f921"
            ]
           ]
          },
          "colorway": [
           "#636efa",
           "#EF553B",
           "#00cc96",
           "#ab63fa",
           "#FFA15A",
           "#19d3f3",
           "#FF6692",
           "#B6E880",
           "#FF97FF",
           "#FECB52"
          ],
          "font": {
           "color": "#2a3f5f"
          },
          "geo": {
           "bgcolor": "white",
           "lakecolor": "white",
           "landcolor": "#E5ECF6",
           "showlakes": true,
           "showland": true,
           "subunitcolor": "white"
          },
          "hoverlabel": {
           "align": "left"
          },
          "hovermode": "closest",
          "mapbox": {
           "style": "light"
          },
          "paper_bgcolor": "white",
          "plot_bgcolor": "#E5ECF6",
          "polar": {
           "angularaxis": {
            "gridcolor": "white",
            "linecolor": "white",
            "ticks": ""
           },
           "bgcolor": "#E5ECF6",
           "radialaxis": {
            "gridcolor": "white",
            "linecolor": "white",
            "ticks": ""
           }
          },
          "scene": {
           "xaxis": {
            "backgroundcolor": "#E5ECF6",
            "gridcolor": "white",
            "gridwidth": 2,
            "linecolor": "white",
            "showbackground": true,
            "ticks": "",
            "zerolinecolor": "white"
           },
           "yaxis": {
            "backgroundcolor": "#E5ECF6",
            "gridcolor": "white",
            "gridwidth": 2,
            "linecolor": "white",
            "showbackground": true,
            "ticks": "",
            "zerolinecolor": "white"
           },
           "zaxis": {
            "backgroundcolor": "#E5ECF6",
            "gridcolor": "white",
            "gridwidth": 2,
            "linecolor": "white",
            "showbackground": true,
            "ticks": "",
            "zerolinecolor": "white"
           }
          },
          "shapedefaults": {
           "line": {
            "color": "#2a3f5f"
           }
          },
          "ternary": {
           "aaxis": {
            "gridcolor": "white",
            "linecolor": "white",
            "ticks": ""
           },
           "baxis": {
            "gridcolor": "white",
            "linecolor": "white",
            "ticks": ""
           },
           "bgcolor": "#E5ECF6",
           "caxis": {
            "gridcolor": "white",
            "linecolor": "white",
            "ticks": ""
           }
          },
          "title": {
           "x": 0.05
          },
          "xaxis": {
           "automargin": true,
           "gridcolor": "white",
           "linecolor": "white",
           "ticks": "",
           "title": {
            "standoff": 15
           },
           "zerolinecolor": "white",
           "zerolinewidth": 2
          },
          "yaxis": {
           "automargin": true,
           "gridcolor": "white",
           "linecolor": "white",
           "ticks": "",
           "title": {
            "standoff": 15
           },
           "zerolinecolor": "white",
           "zerolinewidth": 2
          }
         }
        },
        "title": {
         "text": "ScienceWorld - Normalized Score"
        },
        "xaxis": {
         "anchor": "y",
         "domain": [
          0,
          1
         ],
         "range": [
          0,
          1.02
         ],
         "title": {
          "text": "final/Normalized Score"
         }
        },
        "yaxis": {
         "anchor": "x",
         "domain": [
          0,
          1
         ],
         "tickmode": "array",
         "ticktext": [
          "<span style='color:green'>10</span>",
          "<span style='color:green'>5</span>",
          "<span style='color:green'>9</span>",
          "<span style='color:green'>2</span>",
          "<span style='color:green'>6</span>",
          "<span style='color:green'>7</span>",
          "<span style='color:green'>8</span>",
          "<span style='color:green'>1</span>",
          "<span style='color:green'>3</span>",
          "<span style='color:green'>4</span>"
         ],
         "tickvals": [
          "10",
          "5",
          "9",
          "2",
          "6",
          "7",
          "8",
          "1",
          "3",
          "4"
         ],
         "title": {
          "text": "game"
         }
        }
       }
      }
     },
     "metadata": {},
     "output_type": "display_data"
    }
   ],
   "source": [
    "df = fetch_data(\"textworld\")\n",
    "fig = make_grouped_bar_chart(df)\n",
    "fig.show()"
   ]
  },
  {
   "cell_type": "code",
   "execution_count": 16,
   "metadata": {},
   "outputs": [
    {
     "data": {
      "application/vnd.plotly.v1+json": {
       "config": {
        "plotlyServerURL": "https://plot.ly"
       },
       "data": [
        {
         "alignmentgroup": "True",
         "error_x": {
          "array": [
           0,
           0,
           0,
           0,
           0,
           0.11599999999999999,
           0.05,
           0,
           0.18371173070873836,
           0,
           0.004898979485566359,
           0,
           0,
           0,
           0.2449489742783178,
           0.2,
           0.012247448713915891,
           0,
           0,
           0,
           0,
           0.002449489742783186,
           0,
           0,
           0,
           0,
           0,
           0,
           0.220454076850486,
           0.19415457759218555
          ]
         },
         "hovertemplate": "llm_short=Qwen2.5-72B<br>mean=%{x}<br>game=%{y}<extra></extra>",
         "legendgroup": "Qwen2.5-72B",
         "marker": {
          "color": "#636efa",
          "pattern": {
           "shape": ""
          }
         },
         "name": "Qwen2.5-72B",
         "offsetgroup": "Qwen2.5-72B",
         "orientation": "h",
         "showlegend": true,
         "textposition": "auto",
         "type": "bar",
         "x": [
          0,
          0,
          0.08,
          1,
          0.1,
          0.366,
          0.05,
          1,
          0.7,
          0,
          0.132,
          0.06,
          0.2,
          0.2,
          0.6,
          0.8,
          0.02,
          0,
          0,
          0,
          0,
          0.726,
          0,
          1,
          0.11000000000000001,
          0.57,
          0.38,
          1,
          0.64,
          0.764
         ],
         "xaxis": "x",
         "y": [
          "Boil",
          "ChangeTheStateOfMatterOf",
          "ChemistryMix",
          "ChemistryMixPaintSecondaryColor",
          "ChemistryMixPaintTertiaryColor",
          "FindAnimal",
          "FindLivingThing",
          "FindNonLivingThing",
          "FindPlant",
          "Freeze",
          "GrowFruit",
          "GrowPlant",
          "IdentifyLifeStages1",
          "IdentifyLifeStages2",
          "InclinedPlaneDetermineAngle",
          "InclinedPlaneFrictionNamedSurfaces",
          "InclinedPlaneFrictionUnnamedSurfaces",
          "LifespanLongestLived",
          "LifespanLongestLivedThenShortestLived",
          "LifespanShortestLived",
          "MeasureMeltingPointKnownSubstance",
          "MeasureMeltingPointUnknownSubstance",
          "Melt",
          "MendelianGeneticsKnownPlant",
          "MendelianGeneticsUnknownPlant",
          "PowerComponent",
          "PowerComponentRenewableVsNonrenewableEnergy",
          "TestConductivity",
          "TestConductivityOfUnknownSubstances",
          "UseThermometer"
         ],
         "yaxis": "y"
        },
        {
         "alignmentgroup": "True",
         "error_x": {
          "array": [
           0.001999999999999999,
           0.004,
           0.15375304875026055,
           0.01999999999999999,
           0.12,
           0,
           0.06123724356957944,
           0,
           0.18371173070873836,
           0,
           0.01264911064067351,
           0.004,
           0,
           0.21555509736491965,
           0.18,
           0,
           0.14352700094407325,
           0,
           0,
           0,
           0,
           0.09183681179135086,
           0,
           0,
           0.178,
           0.01200000000000001,
           0,
           0.09,
           0.17110230857589265,
           0.156
          ]
         },
         "hovertemplate": "llm_short=gpt-4o<br>mean=%{x}<br>game=%{y}<extra></extra>",
         "legendgroup": "gpt-4o",
         "marker": {
          "color": "#EF553B",
          "pattern": {
           "shape": ""
          }
         },
         "name": "gpt-4o",
         "offsetgroup": "gpt-4o",
         "orientation": "h",
         "showlegend": true,
         "textposition": "auto",
         "type": "bar",
         "x": [
          0.027999999999999997,
          0.026000000000000002,
          0.75,
          0.27999999999999997,
          0.22000000000000003,
          1,
          0.9,
          1,
          0.7,
          0,
          0.27,
          0.11400000000000002,
          0.2,
          0.648,
          0.82,
          1,
          0.6599999999999999,
          1,
          1,
          1,
          1,
          0.722,
          0.03,
          1,
          0.8220000000000001,
          0.582,
          0.38,
          0.9099999999999999,
          0.506,
          0.844
         ],
         "xaxis": "x",
         "y": [
          "Boil",
          "ChangeTheStateOfMatterOf",
          "ChemistryMix",
          "ChemistryMixPaintSecondaryColor",
          "ChemistryMixPaintTertiaryColor",
          "FindAnimal",
          "FindLivingThing",
          "FindNonLivingThing",
          "FindPlant",
          "Freeze",
          "GrowFruit",
          "GrowPlant",
          "IdentifyLifeStages1",
          "IdentifyLifeStages2",
          "InclinedPlaneDetermineAngle",
          "InclinedPlaneFrictionNamedSurfaces",
          "InclinedPlaneFrictionUnnamedSurfaces",
          "LifespanLongestLived",
          "LifespanLongestLivedThenShortestLived",
          "LifespanShortestLived",
          "MeasureMeltingPointKnownSubstance",
          "MeasureMeltingPointUnknownSubstance",
          "Melt",
          "MendelianGeneticsKnownPlant",
          "MendelianGeneticsUnknownPlant",
          "PowerComponent",
          "PowerComponentRenewableVsNonrenewableEnergy",
          "TestConductivity",
          "TestConductivityOfUnknownSubstances",
          "UseThermometer"
         ],
         "yaxis": "y"
        },
        {
         "alignmentgroup": "True",
         "error_x": {
          "array": [
           0.006666666666666667,
           0.008819171036881969,
           0,
           0,
           0,
           0.125,
           0,
           0.41500000000000004,
           0,
           0,
           0.055000000000000014,
           0.0050000000000000044,
           0,
           0.125,
           0,
           0,
           0.025,
           0,
           0,
           0,
           0,
           0.24333333333333332,
           0.008819171036881969,
           0,
           0,
           0,
           0,
           0,
           0,
           0.10999999999999997
          ]
         },
         "hovertemplate": "llm_short=gpt-4o-mini<br>mean=%{x}<br>game=%{y}<extra></extra>",
         "legendgroup": "gpt-4o-mini",
         "marker": {
          "color": "#00cc96",
          "pattern": {
           "shape": ""
          }
         },
         "name": "gpt-4o-mini",
         "offsetgroup": "gpt-4o-mini",
         "orientation": "h",
         "showlegend": true,
         "textposition": "auto",
         "type": "bar",
         "x": [
          0.013333333333333334,
          0.013333333333333334,
          0.25,
          0.3,
          0.1,
          0.125,
          0,
          0.585,
          0,
          0,
          0.175,
          0.065,
          0.04,
          0.325,
          0.05,
          0,
          0.025,
          1,
          1,
          1,
          0.73,
          0.24333333333333332,
          0.016666666666666666,
          0.01,
          0.01,
          0.07,
          0.05,
          0.05,
          1,
          0.71
         ],
         "xaxis": "x",
         "y": [
          "Boil",
          "ChangeTheStateOfMatterOf",
          "ChemistryMix",
          "ChemistryMixPaintSecondaryColor",
          "ChemistryMixPaintTertiaryColor",
          "FindAnimal",
          "FindLivingThing",
          "FindNonLivingThing",
          "FindPlant",
          "Freeze",
          "GrowFruit",
          "GrowPlant",
          "IdentifyLifeStages1",
          "IdentifyLifeStages2",
          "InclinedPlaneDetermineAngle",
          "InclinedPlaneFrictionNamedSurfaces",
          "InclinedPlaneFrictionUnnamedSurfaces",
          "LifespanLongestLived",
          "LifespanLongestLivedThenShortestLived",
          "LifespanShortestLived",
          "MeasureMeltingPointKnownSubstance",
          "MeasureMeltingPointUnknownSubstance",
          "Melt",
          "MendelianGeneticsKnownPlant",
          "MendelianGeneticsUnknownPlant",
          "PowerComponent",
          "PowerComponentRenewableVsNonrenewableEnergy",
          "TestConductivity",
          "TestConductivityOfUnknownSubstances",
          "UseThermometer"
         ],
         "yaxis": "y"
        },
        {
         "alignmentgroup": "True",
         "error_x": {
          "array": [
           null,
           null,
           null,
           null,
           null,
           null,
           null,
           null,
           null,
           null,
           null,
           null,
           null,
           null,
           null,
           null,
           null,
           null,
           null,
           null,
           null,
           null,
           null,
           null,
           null,
           null,
           null,
           null,
           null,
           null
          ]
         },
         "hovertemplate": "llm_short=Llama-3.1-405B<br>mean=%{x}<br>game=%{y}<extra></extra>",
         "legendgroup": "Llama-3.1-405B",
         "marker": {
          "color": "#ab63fa",
          "pattern": {
           "shape": ""
          }
         },
         "name": "Llama-3.1-405B",
         "offsetgroup": "Llama-3.1-405B",
         "orientation": "h",
         "showlegend": true,
         "textposition": "auto",
         "type": "bar",
         "x": [
          0.03,
          0.01,
          0.42,
          1,
          0.27,
          0.75,
          0.25,
          1,
          1,
          0.1,
          0.36,
          0.11,
          1,
          0.2,
          1,
          1,
          1,
          1,
          1,
          1,
          0.74,
          0.09,
          0.02,
          0.16,
          1,
          0.07,
          0.38,
          1,
          0.6,
          0.22
         ],
         "xaxis": "x",
         "y": [
          "Boil",
          "ChangeTheStateOfMatterOf",
          "ChemistryMix",
          "ChemistryMixPaintSecondaryColor",
          "ChemistryMixPaintTertiaryColor",
          "FindAnimal",
          "FindLivingThing",
          "FindNonLivingThing",
          "FindPlant",
          "Freeze",
          "GrowFruit",
          "GrowPlant",
          "IdentifyLifeStages1",
          "IdentifyLifeStages2",
          "InclinedPlaneDetermineAngle",
          "InclinedPlaneFrictionNamedSurfaces",
          "InclinedPlaneFrictionUnnamedSurfaces",
          "LifespanLongestLived",
          "LifespanLongestLivedThenShortestLived",
          "LifespanShortestLived",
          "MeasureMeltingPointKnownSubstance",
          "MeasureMeltingPointUnknownSubstance",
          "Melt",
          "MendelianGeneticsKnownPlant",
          "MendelianGeneticsUnknownPlant",
          "PowerComponent",
          "PowerComponentRenewableVsNonrenewableEnergy",
          "TestConductivity",
          "TestConductivityOfUnknownSubstances",
          "UseThermometer"
         ],
         "yaxis": "y"
        },
        {
         "alignmentgroup": "True",
         "error_x": {
          "array": [
           0.0035136418446315328,
           0.005270462766947299,
           0,
           0.10599324460188286,
           0.12070139667996317,
           0,
           0.08333333333333333,
           0,
           0,
           0,
           0.009638528651609704,
           0.03601697130829052,
           0.07349309197401639,
           0.06999999999999999,
           0,
           0.1111111111111111,
           0.08624541497922236,
           0,
           0,
           0,
           0.060000000000000005,
           0.0785065067681544,
           0.0033333333333333335,
           0,
           0.12788884062167252,
           0.05555555555555555,
           0,
           0.013228756555322956,
           0.015555555555555553,
           0.08666666666666667
          ]
         },
         "hovertemplate": "llm_short=Llama-3.1-70B<br>mean=%{x}<br>game=%{y}<extra></extra>",
         "legendgroup": "Llama-3.1-70B",
         "marker": {
          "color": "#FFA15A",
          "pattern": {
           "shape": ""
          }
         },
         "name": "Llama-3.1-70B",
         "offsetgroup": "Llama-3.1-70B",
         "orientation": "h",
         "showlegend": true,
         "textposition": "auto",
         "type": "bar",
         "x": [
          0.011111111111111112,
          0.02333333333333333,
          0.33,
          0.7888888888888889,
          0.7377777777777779,
          0.25,
          0.9166666666666666,
          1,
          1,
          0,
          0.2188888888888889,
          0.15000000000000002,
          0.5888888888888889,
          0.34,
          1,
          0.8888888888888888,
          0.5777777777777778,
          1,
          1,
          1,
          0.5299999999999999,
          0.4977777777777778,
          0.023333333333333334,
          1,
          0.8066666666666666,
          0.5144444444444445,
          0.05,
          0.07,
          0.11555555555555556,
          0.9133333333333334
         ],
         "xaxis": "x",
         "y": [
          "Boil",
          "ChangeTheStateOfMatterOf",
          "ChemistryMix",
          "ChemistryMixPaintSecondaryColor",
          "ChemistryMixPaintTertiaryColor",
          "FindAnimal",
          "FindLivingThing",
          "FindNonLivingThing",
          "FindPlant",
          "Freeze",
          "GrowFruit",
          "GrowPlant",
          "IdentifyLifeStages1",
          "IdentifyLifeStages2",
          "InclinedPlaneDetermineAngle",
          "InclinedPlaneFrictionNamedSurfaces",
          "InclinedPlaneFrictionUnnamedSurfaces",
          "LifespanLongestLived",
          "LifespanLongestLivedThenShortestLived",
          "LifespanShortestLived",
          "MeasureMeltingPointKnownSubstance",
          "MeasureMeltingPointUnknownSubstance",
          "Melt",
          "MendelianGeneticsKnownPlant",
          "MendelianGeneticsUnknownPlant",
          "PowerComponent",
          "PowerComponentRenewableVsNonrenewableEnergy",
          "TestConductivity",
          "TestConductivityOfUnknownSubstances",
          "UseThermometer"
         ],
         "yaxis": "y"
        },
        {
         "alignmentgroup": "True",
         "error_x": {
          "array": [
           0,
           0,
           0,
           0.04999999999999999,
           0.31499999999999995,
           0,
           0.125,
           0.16499999999999998,
           0,
           0,
           0,
           0,
           0.205,
           0,
           0,
           0,
           0,
           0,
           0,
           0,
           0.025,
           0,
           0,
           0.44499999999999995,
           0,
           0,
           0,
           0,
           0,
           0
          ]
         },
         "hovertemplate": "llm_short=Llama-3.1-8B<br>mean=%{x}<br>game=%{y}<extra></extra>",
         "legendgroup": "Llama-3.1-8B",
         "marker": {
          "color": "#19d3f3",
          "pattern": {
           "shape": ""
          }
         },
         "name": "Llama-3.1-8B",
         "offsetgroup": "Llama-3.1-8B",
         "orientation": "h",
         "showlegend": true,
         "textposition": "auto",
         "type": "bar",
         "x": [
          0,
          0,
          0.08,
          0.25,
          0.385,
          0,
          0.125,
          0.415,
          0.25,
          0,
          0.11,
          0.07,
          0.245,
          0.2,
          0.05,
          0,
          0.05,
          0.5,
          0,
          0.5,
          0.034999999999999996,
          0,
          0,
          0.555,
          1,
          0.07,
          0.05,
          0.05,
          0,
          0.03
         ],
         "xaxis": "x",
         "y": [
          "Boil",
          "ChangeTheStateOfMatterOf",
          "ChemistryMix",
          "ChemistryMixPaintSecondaryColor",
          "ChemistryMixPaintTertiaryColor",
          "FindAnimal",
          "FindLivingThing",
          "FindNonLivingThing",
          "FindPlant",
          "Freeze",
          "GrowFruit",
          "GrowPlant",
          "IdentifyLifeStages1",
          "IdentifyLifeStages2",
          "InclinedPlaneDetermineAngle",
          "InclinedPlaneFrictionNamedSurfaces",
          "InclinedPlaneFrictionUnnamedSurfaces",
          "LifespanLongestLived",
          "LifespanLongestLivedThenShortestLived",
          "LifespanShortestLived",
          "MeasureMeltingPointKnownSubstance",
          "MeasureMeltingPointUnknownSubstance",
          "Melt",
          "MendelianGeneticsKnownPlant",
          "MendelianGeneticsUnknownPlant",
          "PowerComponent",
          "PowerComponentRenewableVsNonrenewableEnergy",
          "TestConductivity",
          "TestConductivityOfUnknownSubstances",
          "UseThermometer"
         ],
         "yaxis": "y"
        },
        {
         "alignmentgroup": "True",
         "error_x": {
          "array": [
           0,
           0,
           0,
           0,
           0,
           0,
           0,
           0,
           0,
           0,
           0,
           0,
           0,
           0,
           0,
           0,
           0,
           0,
           0,
           0,
           0,
           0,
           0,
           0,
           0,
           0,
           0,
           0,
           0,
           0
          ]
         },
         "hovertemplate": "llm_short=Llama-3.2-1B<br>mean=%{x}<br>game=%{y}<extra></extra>",
         "legendgroup": "Llama-3.2-1B",
         "marker": {
          "color": "#FF6692",
          "pattern": {
           "shape": ""
          }
         },
         "name": "Llama-3.2-1B",
         "offsetgroup": "Llama-3.2-1B",
         "orientation": "h",
         "showlegend": true,
         "textposition": "auto",
         "type": "bar",
         "x": [
          0,
          0,
          0.08,
          0.20000000000000004,
          0.07,
          0,
          0,
          0,
          0,
          0,
          0.12,
          0.07,
          0,
          0,
          0,
          0,
          0,
          0,
          0,
          0,
          0,
          0,
          0,
          0,
          0,
          0.07,
          0.05000000000000001,
          0.05000000000000001,
          0,
          0
         ],
         "xaxis": "x",
         "y": [
          "Boil",
          "ChangeTheStateOfMatterOf",
          "ChemistryMix",
          "ChemistryMixPaintSecondaryColor",
          "ChemistryMixPaintTertiaryColor",
          "FindAnimal",
          "FindLivingThing",
          "FindNonLivingThing",
          "FindPlant",
          "Freeze",
          "GrowFruit",
          "GrowPlant",
          "IdentifyLifeStages1",
          "IdentifyLifeStages2",
          "InclinedPlaneDetermineAngle",
          "InclinedPlaneFrictionNamedSurfaces",
          "InclinedPlaneFrictionUnnamedSurfaces",
          "LifespanLongestLived",
          "LifespanLongestLivedThenShortestLived",
          "LifespanShortestLived",
          "MeasureMeltingPointKnownSubstance",
          "MeasureMeltingPointUnknownSubstance",
          "Melt",
          "MendelianGeneticsKnownPlant",
          "MendelianGeneticsUnknownPlant",
          "PowerComponent",
          "PowerComponentRenewableVsNonrenewableEnergy",
          "TestConductivity",
          "TestConductivityOfUnknownSubstances",
          "UseThermometer"
         ],
         "yaxis": "y"
        },
        {
         "alignmentgroup": "True",
         "error_x": {
          "array": [
           0,
           0,
           0,
           0,
           0,
           0,
           0,
           0.25,
           0.125,
           0,
           0.43999999999999995,
           0,
           0,
           0,
           0,
           0,
           0,
           0.25,
           0,
           0.25,
           0,
           0,
           0,
           0.005,
           0,
           0,
           0,
           0,
           0,
           0
          ]
         },
         "hovertemplate": "llm_short=Llama-3.2-3B<br>mean=%{x}<br>game=%{y}<extra></extra>",
         "legendgroup": "Llama-3.2-3B",
         "marker": {
          "color": "#B6E880",
          "pattern": {
           "shape": ""
          }
         },
         "name": "Llama-3.2-3B",
         "offsetgroup": "Llama-3.2-3B",
         "orientation": "h",
         "showlegend": true,
         "textposition": "auto",
         "type": "bar",
         "x": [
          0,
          0,
          0.25,
          0.3,
          0.1,
          0,
          0,
          0.25,
          0.125,
          0,
          0.56,
          0.07,
          0.04,
          0.2,
          0,
          0,
          0.05,
          0.25,
          0.33,
          0.25,
          0,
          0,
          0,
          0.005,
          0.01,
          0.13,
          0.05,
          0.05,
          0.1,
          0.03
         ],
         "xaxis": "x",
         "y": [
          "Boil",
          "ChangeTheStateOfMatterOf",
          "ChemistryMix",
          "ChemistryMixPaintSecondaryColor",
          "ChemistryMixPaintTertiaryColor",
          "FindAnimal",
          "FindLivingThing",
          "FindNonLivingThing",
          "FindPlant",
          "Freeze",
          "GrowFruit",
          "GrowPlant",
          "IdentifyLifeStages1",
          "IdentifyLifeStages2",
          "InclinedPlaneDetermineAngle",
          "InclinedPlaneFrictionNamedSurfaces",
          "InclinedPlaneFrictionUnnamedSurfaces",
          "LifespanLongestLived",
          "LifespanLongestLivedThenShortestLived",
          "LifespanShortestLived",
          "MeasureMeltingPointKnownSubstance",
          "MeasureMeltingPointUnknownSubstance",
          "Melt",
          "MendelianGeneticsKnownPlant",
          "MendelianGeneticsUnknownPlant",
          "PowerComponent",
          "PowerComponentRenewableVsNonrenewableEnergy",
          "TestConductivity",
          "TestConductivityOfUnknownSubstances",
          "UseThermometer"
         ],
         "yaxis": "y"
        },
        {
         "alignmentgroup": "True",
         "error_x": {
          "array": [
           0,
           0,
           0,
           0,
           0,
           0,
           0,
           0,
           0,
           0,
           0,
           0,
           0.008,
           0,
           0,
           0,
           0,
           0,
           0,
           0,
           0,
           0,
           0,
           0,
           0,
           0,
           0,
           0,
           0,
           0
          ]
         },
         "hovertemplate": "llm_short=Ministral-8B-2410<br>mean=%{x}<br>game=%{y}<extra></extra>",
         "legendgroup": "Ministral-8B-2410",
         "marker": {
          "color": "#FF97FF",
          "pattern": {
           "shape": ""
          }
         },
         "name": "Ministral-8B-2410",
         "offsetgroup": "Ministral-8B-2410",
         "orientation": "h",
         "showlegend": true,
         "textposition": "auto",
         "type": "bar",
         "x": [
          0,
          0,
          0.08,
          0.2,
          0.07,
          0,
          0,
          0,
          0,
          0,
          0.11000000000000001,
          0.06,
          0.008,
          0,
          0,
          0,
          0,
          0,
          0,
          0,
          0,
          0,
          0,
          0,
          0,
          0.07,
          0.05,
          0.05,
          0,
          0
         ],
         "xaxis": "x",
         "y": [
          "Boil",
          "ChangeTheStateOfMatterOf",
          "ChemistryMix",
          "ChemistryMixPaintSecondaryColor",
          "ChemistryMixPaintTertiaryColor",
          "FindAnimal",
          "FindLivingThing",
          "FindNonLivingThing",
          "FindPlant",
          "Freeze",
          "GrowFruit",
          "GrowPlant",
          "IdentifyLifeStages1",
          "IdentifyLifeStages2",
          "InclinedPlaneDetermineAngle",
          "InclinedPlaneFrictionNamedSurfaces",
          "InclinedPlaneFrictionUnnamedSurfaces",
          "LifespanLongestLived",
          "LifespanLongestLivedThenShortestLived",
          "LifespanShortestLived",
          "MeasureMeltingPointKnownSubstance",
          "MeasureMeltingPointUnknownSubstance",
          "Melt",
          "MendelianGeneticsKnownPlant",
          "MendelianGeneticsUnknownPlant",
          "PowerComponent",
          "PowerComponentRenewableVsNonrenewableEnergy",
          "TestConductivity",
          "TestConductivityOfUnknownSubstances",
          "UseThermometer"
         ],
         "yaxis": "y"
        },
        {
         "alignmentgroup": "True",
         "error_x": {
          "array": [
           0.005999999999999999,
           0.13611024943037903,
           0.1641158127664729,
           0.1,
           0.14770240350109404,
           0.15,
           0.18371173070873836,
           0.15,
           0.18371173070873836,
           0,
           0.004898979485566362,
           0.006324555320336757,
           0.016,
           0,
           0.1932614809008769,
           0.024494897427831782,
           0.12247448713915891,
           0,
           0.033999999999999996,
           0,
           0,
           0,
           0.006,
           0.21312906887611555,
           0.1725688268488837,
           0.13999999999999999,
           0,
           0.21157504578754086,
           0.025612496949731396,
           0.066
          ]
         },
         "hovertemplate": "llm_short=Mistral-Large-2407<br>mean=%{x}<br>game=%{y}<extra></extra>",
         "legendgroup": "Mistral-Large-2407",
         "marker": {
          "color": "#FECB52",
          "pattern": {
           "shape": ""
          }
         },
         "name": "Mistral-Large-2407",
         "offsetgroup": "Mistral-Large-2407",
         "orientation": "h",
         "showlegend": true,
         "textposition": "auto",
         "type": "bar",
         "x": [
          0.024,
          0.16599999999999998,
          0.732,
          0.9,
          0.646,
          0.4,
          0.7,
          0.85,
          0.55,
          0,
          0.302,
          0.1,
          0.05600000000000001,
          0.2,
          0.5599999999999999,
          0.04,
          0.7,
          1,
          0.966,
          1,
          1,
          0.1,
          0.026000000000000002,
          0.6519999999999999,
          0.31,
          0.21000000000000002,
          0.05,
          0.658,
          0.6439999999999999,
          0.28600000000000003
         ],
         "xaxis": "x",
         "y": [
          "Boil",
          "ChangeTheStateOfMatterOf",
          "ChemistryMix",
          "ChemistryMixPaintSecondaryColor",
          "ChemistryMixPaintTertiaryColor",
          "FindAnimal",
          "FindLivingThing",
          "FindNonLivingThing",
          "FindPlant",
          "Freeze",
          "GrowFruit",
          "GrowPlant",
          "IdentifyLifeStages1",
          "IdentifyLifeStages2",
          "InclinedPlaneDetermineAngle",
          "InclinedPlaneFrictionNamedSurfaces",
          "InclinedPlaneFrictionUnnamedSurfaces",
          "LifespanLongestLived",
          "LifespanLongestLivedThenShortestLived",
          "LifespanShortestLived",
          "MeasureMeltingPointKnownSubstance",
          "MeasureMeltingPointUnknownSubstance",
          "Melt",
          "MendelianGeneticsKnownPlant",
          "MendelianGeneticsUnknownPlant",
          "PowerComponent",
          "PowerComponentRenewableVsNonrenewableEnergy",
          "TestConductivity",
          "TestConductivityOfUnknownSubstances",
          "UseThermometer"
         ],
         "yaxis": "y"
        },
        {
         "alignmentgroup": "True",
         "error_x": {
          "array": [
           0,
           0.002449489742783178,
           0.14312232530251873,
           0.17146428199482247,
           0.007348469228349534,
           0,
           0,
           0.05,
           0.11599999999999999,
           0,
           0.017492855684535902,
           0.003999999999999997,
           0,
           0.009797958971132711,
           0,
           0,
           0,
           0,
           0,
           0,
           0.04915282290977802,
           0.0020000000000000018,
           0,
           0,
           0,
           0,
           0,
           0,
           0,
           0
          ]
         },
         "hovertemplate": "llm_short=Mistral-Small-2409<br>mean=%{x}<br>game=%{y}<extra></extra>",
         "legendgroup": "Mistral-Small-2409",
         "marker": {
          "color": "#636efa",
          "pattern": {
           "shape": ""
          }
         },
         "name": "Mistral-Small-2409",
         "offsetgroup": "Mistral-Small-2409",
         "orientation": "h",
         "showlegend": true,
         "textposition": "auto",
         "type": "bar",
         "x": [
          0,
          0.004,
          0.43200000000000005,
          0.72,
          0.08800000000000001,
          0.25,
          0.25,
          0.95,
          0.366,
          0,
          0.134,
          0.076,
          0,
          0.096,
          0,
          0.05,
          0,
          0.5,
          0.33,
          0.5,
          0.8039999999999999,
          0.732,
          0,
          0,
          0,
          0.57,
          0.38,
          0.05,
          0,
          0.03
         ],
         "xaxis": "x",
         "y": [
          "Boil",
          "ChangeTheStateOfMatterOf",
          "ChemistryMix",
          "ChemistryMixPaintSecondaryColor",
          "ChemistryMixPaintTertiaryColor",
          "FindAnimal",
          "FindLivingThing",
          "FindNonLivingThing",
          "FindPlant",
          "Freeze",
          "GrowFruit",
          "GrowPlant",
          "IdentifyLifeStages1",
          "IdentifyLifeStages2",
          "InclinedPlaneDetermineAngle",
          "InclinedPlaneFrictionNamedSurfaces",
          "InclinedPlaneFrictionUnnamedSurfaces",
          "LifespanLongestLived",
          "LifespanLongestLivedThenShortestLived",
          "LifespanShortestLived",
          "MeasureMeltingPointKnownSubstance",
          "MeasureMeltingPointUnknownSubstance",
          "Melt",
          "MendelianGeneticsKnownPlant",
          "MendelianGeneticsUnknownPlant",
          "PowerComponent",
          "PowerComponentRenewableVsNonrenewableEnergy",
          "TestConductivity",
          "TestConductivityOfUnknownSubstances",
          "UseThermometer"
         ],
         "yaxis": "y"
        },
        {
         "alignmentgroup": "True",
         "error_x": {
          "array": [
           0,
           0,
           0.033999999999999996,
           0.16,
           0,
           0.06123724356957945,
           0,
           0,
           0.06123724356957945,
           0,
           0,
           0,
           0,
           0.016,
           0,
           0,
           0,
           0,
           0,
           0,
           0,
           0,
           0,
           0,
           0,
           0,
           0,
           0,
           0,
           0
          ]
         },
         "hovertemplate": "llm_short=Mixtral-8x22B-v0.1<br>mean=%{x}<br>game=%{y}<extra></extra>",
         "legendgroup": "Mixtral-8x22B-v0.1",
         "marker": {
          "color": "#EF553B",
          "pattern": {
           "shape": ""
          }
         },
         "name": "Mixtral-8x22B-v0.1",
         "offsetgroup": "Mixtral-8x22B-v0.1",
         "orientation": "h",
         "showlegend": true,
         "textposition": "auto",
         "type": "bar",
         "x": [
          0,
          0,
          0.11400000000000002,
          0.36,
          0.07,
          0.1,
          0,
          0,
          0.15,
          0,
          0.11000000000000001,
          0.06,
          0,
          0.064,
          0,
          0,
          0,
          0,
          0,
          0,
          0,
          0,
          0,
          0,
          0,
          0.07,
          0.05,
          0.05,
          0,
          0
         ],
         "xaxis": "x",
         "y": [
          "Boil",
          "ChangeTheStateOfMatterOf",
          "ChemistryMix",
          "ChemistryMixPaintSecondaryColor",
          "ChemistryMixPaintTertiaryColor",
          "FindAnimal",
          "FindLivingThing",
          "FindNonLivingThing",
          "FindPlant",
          "Freeze",
          "GrowFruit",
          "GrowPlant",
          "IdentifyLifeStages1",
          "IdentifyLifeStages2",
          "InclinedPlaneDetermineAngle",
          "InclinedPlaneFrictionNamedSurfaces",
          "InclinedPlaneFrictionUnnamedSurfaces",
          "LifespanLongestLived",
          "LifespanLongestLivedThenShortestLived",
          "LifespanShortestLived",
          "MeasureMeltingPointKnownSubstance",
          "MeasureMeltingPointUnknownSubstance",
          "Melt",
          "MendelianGeneticsKnownPlant",
          "MendelianGeneticsUnknownPlant",
          "PowerComponent",
          "PowerComponentRenewableVsNonrenewableEnergy",
          "TestConductivity",
          "TestConductivityOfUnknownSubstances",
          "UseThermometer"
         ],
         "yaxis": "y"
        },
        {
         "alignmentgroup": "True",
         "error_x": {
          "array": [
           0,
           0,
           0,
           0,
           0,
           0,
           0,
           0,
           0,
           0,
           0,
           0,
           0,
           0,
           0,
           0,
           0,
           0,
           0,
           0,
           0,
           0,
           0,
           0,
           0,
           0,
           0,
           0,
           0,
           0
          ]
         },
         "hovertemplate": "llm_short=Mixtral-8x7B-v0.1<br>mean=%{x}<br>game=%{y}<extra></extra>",
         "legendgroup": "Mixtral-8x7B-v0.1",
         "marker": {
          "color": "#00cc96",
          "pattern": {
           "shape": ""
          }
         },
         "name": "Mixtral-8x7B-v0.1",
         "offsetgroup": "Mixtral-8x7B-v0.1",
         "orientation": "h",
         "showlegend": true,
         "textposition": "auto",
         "type": "bar",
         "x": [
          0,
          0,
          0.08,
          0.2,
          0.07,
          0,
          0,
          0,
          0,
          0,
          0.11000000000000001,
          0.06,
          0,
          0,
          0,
          0,
          0,
          0,
          0,
          0,
          0,
          0,
          0,
          0,
          0,
          0.07,
          0.05,
          0.55,
          0,
          0
         ],
         "xaxis": "x",
         "y": [
          "Boil",
          "ChangeTheStateOfMatterOf",
          "ChemistryMix",
          "ChemistryMixPaintSecondaryColor",
          "ChemistryMixPaintTertiaryColor",
          "FindAnimal",
          "FindLivingThing",
          "FindNonLivingThing",
          "FindPlant",
          "Freeze",
          "GrowFruit",
          "GrowPlant",
          "IdentifyLifeStages1",
          "IdentifyLifeStages2",
          "InclinedPlaneDetermineAngle",
          "InclinedPlaneFrictionNamedSurfaces",
          "InclinedPlaneFrictionUnnamedSurfaces",
          "LifespanLongestLived",
          "LifespanLongestLivedThenShortestLived",
          "LifespanShortestLived",
          "MeasureMeltingPointKnownSubstance",
          "MeasureMeltingPointUnknownSubstance",
          "Melt",
          "MendelianGeneticsKnownPlant",
          "MendelianGeneticsUnknownPlant",
          "PowerComponent",
          "PowerComponentRenewableVsNonrenewableEnergy",
          "TestConductivity",
          "TestConductivityOfUnknownSubstances",
          "UseThermometer"
         ],
         "yaxis": "y"
        }
       ],
       "layout": {
        "barmode": "group",
        "height": 2000,
        "legend": {
         "title": {
          "text": "llm_short"
         },
         "tracegroupgap": 0
        },
        "template": {
         "data": {
          "bar": [
           {
            "error_x": {
             "color": "#2a3f5f"
            },
            "error_y": {
             "color": "#2a3f5f"
            },
            "marker": {
             "line": {
              "color": "#E5ECF6",
              "width": 0.5
             },
             "pattern": {
              "fillmode": "overlay",
              "size": 10,
              "solidity": 0.2
             }
            },
            "type": "bar"
           }
          ],
          "barpolar": [
           {
            "marker": {
             "line": {
              "color": "#E5ECF6",
              "width": 0.5
             },
             "pattern": {
              "fillmode": "overlay",
              "size": 10,
              "solidity": 0.2
             }
            },
            "type": "barpolar"
           }
          ],
          "carpet": [
           {
            "aaxis": {
             "endlinecolor": "#2a3f5f",
             "gridcolor": "white",
             "linecolor": "white",
             "minorgridcolor": "white",
             "startlinecolor": "#2a3f5f"
            },
            "baxis": {
             "endlinecolor": "#2a3f5f",
             "gridcolor": "white",
             "linecolor": "white",
             "minorgridcolor": "white",
             "startlinecolor": "#2a3f5f"
            },
            "type": "carpet"
           }
          ],
          "choropleth": [
           {
            "colorbar": {
             "outlinewidth": 0,
             "ticks": ""
            },
            "type": "choropleth"
           }
          ],
          "contour": [
           {
            "colorbar": {
             "outlinewidth": 0,
             "ticks": ""
            },
            "colorscale": [
             [
              0,
              "#0d0887"
             ],
             [
              0.1111111111111111,
              "#46039f"
             ],
             [
              0.2222222222222222,
              "#7201a8"
             ],
             [
              0.3333333333333333,
              "#9c179e"
             ],
             [
              0.4444444444444444,
              "#bd3786"
             ],
             [
              0.5555555555555556,
              "#d8576b"
             ],
             [
              0.6666666666666666,
              "#ed7953"
             ],
             [
              0.7777777777777778,
              "#fb9f3a"
             ],
             [
              0.8888888888888888,
              "#fdca26"
             ],
             [
              1,
              "#f0f921"
             ]
            ],
            "type": "contour"
           }
          ],
          "contourcarpet": [
           {
            "colorbar": {
             "outlinewidth": 0,
             "ticks": ""
            },
            "type": "contourcarpet"
           }
          ],
          "heatmap": [
           {
            "colorbar": {
             "outlinewidth": 0,
             "ticks": ""
            },
            "colorscale": [
             [
              0,
              "#0d0887"
             ],
             [
              0.1111111111111111,
              "#46039f"
             ],
             [
              0.2222222222222222,
              "#7201a8"
             ],
             [
              0.3333333333333333,
              "#9c179e"
             ],
             [
              0.4444444444444444,
              "#bd3786"
             ],
             [
              0.5555555555555556,
              "#d8576b"
             ],
             [
              0.6666666666666666,
              "#ed7953"
             ],
             [
              0.7777777777777778,
              "#fb9f3a"
             ],
             [
              0.8888888888888888,
              "#fdca26"
             ],
             [
              1,
              "#f0f921"
             ]
            ],
            "type": "heatmap"
           }
          ],
          "heatmapgl": [
           {
            "colorbar": {
             "outlinewidth": 0,
             "ticks": ""
            },
            "colorscale": [
             [
              0,
              "#0d0887"
             ],
             [
              0.1111111111111111,
              "#46039f"
             ],
             [
              0.2222222222222222,
              "#7201a8"
             ],
             [
              0.3333333333333333,
              "#9c179e"
             ],
             [
              0.4444444444444444,
              "#bd3786"
             ],
             [
              0.5555555555555556,
              "#d8576b"
             ],
             [
              0.6666666666666666,
              "#ed7953"
             ],
             [
              0.7777777777777778,
              "#fb9f3a"
             ],
             [
              0.8888888888888888,
              "#fdca26"
             ],
             [
              1,
              "#f0f921"
             ]
            ],
            "type": "heatmapgl"
           }
          ],
          "histogram": [
           {
            "marker": {
             "pattern": {
              "fillmode": "overlay",
              "size": 10,
              "solidity": 0.2
             }
            },
            "type": "histogram"
           }
          ],
          "histogram2d": [
           {
            "colorbar": {
             "outlinewidth": 0,
             "ticks": ""
            },
            "colorscale": [
             [
              0,
              "#0d0887"
             ],
             [
              0.1111111111111111,
              "#46039f"
             ],
             [
              0.2222222222222222,
              "#7201a8"
             ],
             [
              0.3333333333333333,
              "#9c179e"
             ],
             [
              0.4444444444444444,
              "#bd3786"
             ],
             [
              0.5555555555555556,
              "#d8576b"
             ],
             [
              0.6666666666666666,
              "#ed7953"
             ],
             [
              0.7777777777777778,
              "#fb9f3a"
             ],
             [
              0.8888888888888888,
              "#fdca26"
             ],
             [
              1,
              "#f0f921"
             ]
            ],
            "type": "histogram2d"
           }
          ],
          "histogram2dcontour": [
           {
            "colorbar": {
             "outlinewidth": 0,
             "ticks": ""
            },
            "colorscale": [
             [
              0,
              "#0d0887"
             ],
             [
              0.1111111111111111,
              "#46039f"
             ],
             [
              0.2222222222222222,
              "#7201a8"
             ],
             [
              0.3333333333333333,
              "#9c179e"
             ],
             [
              0.4444444444444444,
              "#bd3786"
             ],
             [
              0.5555555555555556,
              "#d8576b"
             ],
             [
              0.6666666666666666,
              "#ed7953"
             ],
             [
              0.7777777777777778,
              "#fb9f3a"
             ],
             [
              0.8888888888888888,
              "#fdca26"
             ],
             [
              1,
              "#f0f921"
             ]
            ],
            "type": "histogram2dcontour"
           }
          ],
          "mesh3d": [
           {
            "colorbar": {
             "outlinewidth": 0,
             "ticks": ""
            },
            "type": "mesh3d"
           }
          ],
          "parcoords": [
           {
            "line": {
             "colorbar": {
              "outlinewidth": 0,
              "ticks": ""
             }
            },
            "type": "parcoords"
           }
          ],
          "pie": [
           {
            "automargin": true,
            "type": "pie"
           }
          ],
          "scatter": [
           {
            "fillpattern": {
             "fillmode": "overlay",
             "size": 10,
             "solidity": 0.2
            },
            "type": "scatter"
           }
          ],
          "scatter3d": [
           {
            "line": {
             "colorbar": {
              "outlinewidth": 0,
              "ticks": ""
             }
            },
            "marker": {
             "colorbar": {
              "outlinewidth": 0,
              "ticks": ""
             }
            },
            "type": "scatter3d"
           }
          ],
          "scattercarpet": [
           {
            "marker": {
             "colorbar": {
              "outlinewidth": 0,
              "ticks": ""
             }
            },
            "type": "scattercarpet"
           }
          ],
          "scattergeo": [
           {
            "marker": {
             "colorbar": {
              "outlinewidth": 0,
              "ticks": ""
             }
            },
            "type": "scattergeo"
           }
          ],
          "scattergl": [
           {
            "marker": {
             "colorbar": {
              "outlinewidth": 0,
              "ticks": ""
             }
            },
            "type": "scattergl"
           }
          ],
          "scattermapbox": [
           {
            "marker": {
             "colorbar": {
              "outlinewidth": 0,
              "ticks": ""
             }
            },
            "type": "scattermapbox"
           }
          ],
          "scatterpolar": [
           {
            "marker": {
             "colorbar": {
              "outlinewidth": 0,
              "ticks": ""
             }
            },
            "type": "scatterpolar"
           }
          ],
          "scatterpolargl": [
           {
            "marker": {
             "colorbar": {
              "outlinewidth": 0,
              "ticks": ""
             }
            },
            "type": "scatterpolargl"
           }
          ],
          "scatterternary": [
           {
            "marker": {
             "colorbar": {
              "outlinewidth": 0,
              "ticks": ""
             }
            },
            "type": "scatterternary"
           }
          ],
          "surface": [
           {
            "colorbar": {
             "outlinewidth": 0,
             "ticks": ""
            },
            "colorscale": [
             [
              0,
              "#0d0887"
             ],
             [
              0.1111111111111111,
              "#46039f"
             ],
             [
              0.2222222222222222,
              "#7201a8"
             ],
             [
              0.3333333333333333,
              "#9c179e"
             ],
             [
              0.4444444444444444,
              "#bd3786"
             ],
             [
              0.5555555555555556,
              "#d8576b"
             ],
             [
              0.6666666666666666,
              "#ed7953"
             ],
             [
              0.7777777777777778,
              "#fb9f3a"
             ],
             [
              0.8888888888888888,
              "#fdca26"
             ],
             [
              1,
              "#f0f921"
             ]
            ],
            "type": "surface"
           }
          ],
          "table": [
           {
            "cells": {
             "fill": {
              "color": "#EBF0F8"
             },
             "line": {
              "color": "white"
             }
            },
            "header": {
             "fill": {
              "color": "#C8D4E3"
             },
             "line": {
              "color": "white"
             }
            },
            "type": "table"
           }
          ]
         },
         "layout": {
          "annotationdefaults": {
           "arrowcolor": "#2a3f5f",
           "arrowhead": 0,
           "arrowwidth": 1
          },
          "autotypenumbers": "strict",
          "coloraxis": {
           "colorbar": {
            "outlinewidth": 0,
            "ticks": ""
           }
          },
          "colorscale": {
           "diverging": [
            [
             0,
             "#8e0152"
            ],
            [
             0.1,
             "#c51b7d"
            ],
            [
             0.2,
             "#de77ae"
            ],
            [
             0.3,
             "#f1b6da"
            ],
            [
             0.4,
             "#fde0ef"
            ],
            [
             0.5,
             "#f7f7f7"
            ],
            [
             0.6,
             "#e6f5d0"
            ],
            [
             0.7,
             "#b8e186"
            ],
            [
             0.8,
             "#7fbc41"
            ],
            [
             0.9,
             "#4d9221"
            ],
            [
             1,
             "#276419"
            ]
           ],
           "sequential": [
            [
             0,
             "#0d0887"
            ],
            [
             0.1111111111111111,
             "#46039f"
            ],
            [
             0.2222222222222222,
             "#7201a8"
            ],
            [
             0.3333333333333333,
             "#9c179e"
            ],
            [
             0.4444444444444444,
             "#bd3786"
            ],
            [
             0.5555555555555556,
             "#d8576b"
            ],
            [
             0.6666666666666666,
             "#ed7953"
            ],
            [
             0.7777777777777778,
             "#fb9f3a"
            ],
            [
             0.8888888888888888,
             "#fdca26"
            ],
            [
             1,
             "#f0f921"
            ]
           ],
           "sequentialminus": [
            [
             0,
             "#0d0887"
            ],
            [
             0.1111111111111111,
             "#46039f"
            ],
            [
             0.2222222222222222,
             "#7201a8"
            ],
            [
             0.3333333333333333,
             "#9c179e"
            ],
            [
             0.4444444444444444,
             "#bd3786"
            ],
            [
             0.5555555555555556,
             "#d8576b"
            ],
            [
             0.6666666666666666,
             "#ed7953"
            ],
            [
             0.7777777777777778,
             "#fb9f3a"
            ],
            [
             0.8888888888888888,
             "#fdca26"
            ],
            [
             1,
             "#f0f921"
            ]
           ]
          },
          "colorway": [
           "#636efa",
           "#EF553B",
           "#00cc96",
           "#ab63fa",
           "#FFA15A",
           "#19d3f3",
           "#FF6692",
           "#B6E880",
           "#FF97FF",
           "#FECB52"
          ],
          "font": {
           "color": "#2a3f5f"
          },
          "geo": {
           "bgcolor": "white",
           "lakecolor": "white",
           "landcolor": "#E5ECF6",
           "showlakes": true,
           "showland": true,
           "subunitcolor": "white"
          },
          "hoverlabel": {
           "align": "left"
          },
          "hovermode": "closest",
          "mapbox": {
           "style": "light"
          },
          "paper_bgcolor": "white",
          "plot_bgcolor": "#E5ECF6",
          "polar": {
           "angularaxis": {
            "gridcolor": "white",
            "linecolor": "white",
            "ticks": ""
           },
           "bgcolor": "#E5ECF6",
           "radialaxis": {
            "gridcolor": "white",
            "linecolor": "white",
            "ticks": ""
           }
          },
          "scene": {
           "xaxis": {
            "backgroundcolor": "#E5ECF6",
            "gridcolor": "white",
            "gridwidth": 2,
            "linecolor": "white",
            "showbackground": true,
            "ticks": "",
            "zerolinecolor": "white"
           },
           "yaxis": {
            "backgroundcolor": "#E5ECF6",
            "gridcolor": "white",
            "gridwidth": 2,
            "linecolor": "white",
            "showbackground": true,
            "ticks": "",
            "zerolinecolor": "white"
           },
           "zaxis": {
            "backgroundcolor": "#E5ECF6",
            "gridcolor": "white",
            "gridwidth": 2,
            "linecolor": "white",
            "showbackground": true,
            "ticks": "",
            "zerolinecolor": "white"
           }
          },
          "shapedefaults": {
           "line": {
            "color": "#2a3f5f"
           }
          },
          "ternary": {
           "aaxis": {
            "gridcolor": "white",
            "linecolor": "white",
            "ticks": ""
           },
           "baxis": {
            "gridcolor": "white",
            "linecolor": "white",
            "ticks": ""
           },
           "bgcolor": "#E5ECF6",
           "caxis": {
            "gridcolor": "white",
            "linecolor": "white",
            "ticks": ""
           }
          },
          "title": {
           "x": 0.05
          },
          "xaxis": {
           "automargin": true,
           "gridcolor": "white",
           "linecolor": "white",
           "ticks": "",
           "title": {
            "standoff": 15
           },
           "zerolinecolor": "white",
           "zerolinewidth": 2
          },
          "yaxis": {
           "automargin": true,
           "gridcolor": "white",
           "linecolor": "white",
           "ticks": "",
           "title": {
            "standoff": 15
           },
           "zerolinecolor": "white",
           "zerolinewidth": 2
          }
         }
        },
        "title": {
         "text": "ScienceWorld - Normalized Score"
        },
        "xaxis": {
         "anchor": "y",
         "domain": [
          0,
          1
         ],
         "range": [
          0,
          1.02
         ],
         "title": {
          "text": "mean"
         }
        },
        "yaxis": {
         "anchor": "x",
         "domain": [
          0,
          1
         ],
         "tickmode": "array",
         "ticktext": [
          "<span style='color:orange'>Boil</span>",
          "<span style='color:orange'>Boil</span>",
          "<span style='color:orange'>Boil</span>",
          "<span style='color:orange'>Boil</span>",
          "<span style='color:orange'>Boil</span>",
          "<span style='color:orange'>Boil</span>",
          "<span style='color:orange'>Boil</span>",
          "<span style='color:orange'>Boil</span>",
          "<span style='color:orange'>Boil</span>",
          "<span style='color:orange'>Boil</span>",
          "<span style='color:orange'>Boil</span>",
          "<span style='color:orange'>Boil</span>",
          "<span style='color:orange'>Boil</span>",
          "<span style='color:orange'>ChangeTheStateOfMatterOf</span>",
          "<span style='color:orange'>ChangeTheStateOfMatterOf</span>",
          "<span style='color:orange'>ChangeTheStateOfMatterOf</span>",
          "<span style='color:orange'>ChangeTheStateOfMatterOf</span>",
          "<span style='color:orange'>ChangeTheStateOfMatterOf</span>",
          "<span style='color:orange'>ChangeTheStateOfMatterOf</span>",
          "<span style='color:orange'>ChangeTheStateOfMatterOf</span>",
          "<span style='color:orange'>ChangeTheStateOfMatterOf</span>",
          "<span style='color:orange'>ChangeTheStateOfMatterOf</span>",
          "<span style='color:orange'>ChangeTheStateOfMatterOf</span>",
          "<span style='color:orange'>ChangeTheStateOfMatterOf</span>",
          "<span style='color:orange'>ChangeTheStateOfMatterOf</span>",
          "<span style='color:orange'>ChangeTheStateOfMatterOf</span>",
          "<span style='color:orange'>ChemistryMix</span>",
          "<span style='color:orange'>ChemistryMix</span>",
          "<span style='color:orange'>ChemistryMix</span>",
          "<span style='color:orange'>ChemistryMix</span>",
          "<span style='color:orange'>ChemistryMix</span>",
          "<span style='color:orange'>ChemistryMix</span>",
          "<span style='color:orange'>ChemistryMix</span>",
          "<span style='color:orange'>ChemistryMix</span>",
          "<span style='color:orange'>ChemistryMix</span>",
          "<span style='color:orange'>ChemistryMix</span>",
          "<span style='color:orange'>ChemistryMix</span>",
          "<span style='color:orange'>ChemistryMix</span>",
          "<span style='color:orange'>ChemistryMix</span>",
          "<span style='color:orange'>ChemistryMixPaintSecondaryColor</span>",
          "<span style='color:orange'>ChemistryMixPaintSecondaryColor</span>",
          "<span style='color:orange'>ChemistryMixPaintSecondaryColor</span>",
          "<span style='color:orange'>ChemistryMixPaintSecondaryColor</span>",
          "<span style='color:orange'>ChemistryMixPaintSecondaryColor</span>",
          "<span style='color:orange'>ChemistryMixPaintSecondaryColor</span>",
          "<span style='color:orange'>ChemistryMixPaintSecondaryColor</span>",
          "<span style='color:orange'>ChemistryMixPaintSecondaryColor</span>",
          "<span style='color:orange'>ChemistryMixPaintSecondaryColor</span>",
          "<span style='color:orange'>ChemistryMixPaintSecondaryColor</span>",
          "<span style='color:orange'>ChemistryMixPaintSecondaryColor</span>",
          "<span style='color:orange'>ChemistryMixPaintSecondaryColor</span>",
          "<span style='color:orange'>ChemistryMixPaintSecondaryColor</span>",
          "<span style='color:orange'>ChemistryMixPaintTertiaryColor</span>",
          "<span style='color:orange'>ChemistryMixPaintTertiaryColor</span>",
          "<span style='color:orange'>ChemistryMixPaintTertiaryColor</span>",
          "<span style='color:orange'>ChemistryMixPaintTertiaryColor</span>",
          "<span style='color:orange'>ChemistryMixPaintTertiaryColor</span>",
          "<span style='color:orange'>ChemistryMixPaintTertiaryColor</span>",
          "<span style='color:orange'>ChemistryMixPaintTertiaryColor</span>",
          "<span style='color:orange'>ChemistryMixPaintTertiaryColor</span>",
          "<span style='color:orange'>ChemistryMixPaintTertiaryColor</span>",
          "<span style='color:orange'>ChemistryMixPaintTertiaryColor</span>",
          "<span style='color:orange'>ChemistryMixPaintTertiaryColor</span>",
          "<span style='color:orange'>ChemistryMixPaintTertiaryColor</span>",
          "<span style='color:orange'>ChemistryMixPaintTertiaryColor</span>",
          "<span style='color:orange'>FindAnimal</span>",
          "<span style='color:orange'>FindAnimal</span>",
          "<span style='color:orange'>FindAnimal</span>",
          "<span style='color:orange'>FindAnimal</span>",
          "<span style='color:orange'>FindAnimal</span>",
          "<span style='color:orange'>FindAnimal</span>",
          "<span style='color:orange'>FindAnimal</span>",
          "<span style='color:orange'>FindAnimal</span>",
          "<span style='color:orange'>FindAnimal</span>",
          "<span style='color:orange'>FindAnimal</span>",
          "<span style='color:orange'>FindAnimal</span>",
          "<span style='color:orange'>FindAnimal</span>",
          "<span style='color:orange'>FindAnimal</span>",
          "<span style='color:orange'>FindLivingThing</span>",
          "<span style='color:orange'>FindLivingThing</span>",
          "<span style='color:orange'>FindLivingThing</span>",
          "<span style='color:orange'>FindLivingThing</span>",
          "<span style='color:orange'>FindLivingThing</span>",
          "<span style='color:orange'>FindLivingThing</span>",
          "<span style='color:orange'>FindLivingThing</span>",
          "<span style='color:orange'>FindLivingThing</span>",
          "<span style='color:orange'>FindLivingThing</span>",
          "<span style='color:orange'>FindLivingThing</span>",
          "<span style='color:orange'>FindLivingThing</span>",
          "<span style='color:orange'>FindLivingThing</span>",
          "<span style='color:orange'>FindLivingThing</span>",
          "<span style='color:orange'>FindNonLivingThing</span>",
          "<span style='color:orange'>FindNonLivingThing</span>",
          "<span style='color:orange'>FindNonLivingThing</span>",
          "<span style='color:orange'>FindNonLivingThing</span>",
          "<span style='color:orange'>FindNonLivingThing</span>",
          "<span style='color:orange'>FindNonLivingThing</span>",
          "<span style='color:orange'>FindNonLivingThing</span>",
          "<span style='color:orange'>FindNonLivingThing</span>",
          "<span style='color:orange'>FindNonLivingThing</span>",
          "<span style='color:orange'>FindNonLivingThing</span>",
          "<span style='color:orange'>FindNonLivingThing</span>",
          "<span style='color:orange'>FindNonLivingThing</span>",
          "<span style='color:orange'>FindNonLivingThing</span>",
          "<span style='color:orange'>FindPlant</span>",
          "<span style='color:orange'>FindPlant</span>",
          "<span style='color:orange'>FindPlant</span>",
          "<span style='color:orange'>FindPlant</span>",
          "<span style='color:orange'>FindPlant</span>",
          "<span style='color:orange'>FindPlant</span>",
          "<span style='color:orange'>FindPlant</span>",
          "<span style='color:orange'>FindPlant</span>",
          "<span style='color:orange'>FindPlant</span>",
          "<span style='color:orange'>FindPlant</span>",
          "<span style='color:orange'>FindPlant</span>",
          "<span style='color:orange'>FindPlant</span>",
          "<span style='color:orange'>FindPlant</span>",
          "<span style='color:orange'>Freeze</span>",
          "<span style='color:orange'>Freeze</span>",
          "<span style='color:orange'>Freeze</span>",
          "<span style='color:orange'>Freeze</span>",
          "<span style='color:orange'>Freeze</span>",
          "<span style='color:orange'>Freeze</span>",
          "<span style='color:orange'>Freeze</span>",
          "<span style='color:orange'>Freeze</span>",
          "<span style='color:orange'>Freeze</span>",
          "<span style='color:orange'>Freeze</span>",
          "<span style='color:orange'>Freeze</span>",
          "<span style='color:orange'>Freeze</span>",
          "<span style='color:orange'>Freeze</span>",
          "<span style='color:orange'>GrowFruit</span>",
          "<span style='color:orange'>GrowFruit</span>",
          "<span style='color:orange'>GrowFruit</span>",
          "<span style='color:orange'>GrowFruit</span>",
          "<span style='color:orange'>GrowFruit</span>",
          "<span style='color:orange'>GrowFruit</span>",
          "<span style='color:orange'>GrowFruit</span>",
          "<span style='color:orange'>GrowFruit</span>",
          "<span style='color:orange'>GrowFruit</span>",
          "<span style='color:orange'>GrowFruit</span>",
          "<span style='color:orange'>GrowFruit</span>",
          "<span style='color:orange'>GrowFruit</span>",
          "<span style='color:orange'>GrowFruit</span>",
          "<span style='color:orange'>GrowPlant</span>",
          "<span style='color:orange'>GrowPlant</span>",
          "<span style='color:orange'>GrowPlant</span>",
          "<span style='color:orange'>GrowPlant</span>",
          "<span style='color:orange'>GrowPlant</span>",
          "<span style='color:orange'>GrowPlant</span>",
          "<span style='color:orange'>GrowPlant</span>",
          "<span style='color:orange'>GrowPlant</span>",
          "<span style='color:orange'>GrowPlant</span>",
          "<span style='color:orange'>GrowPlant</span>",
          "<span style='color:orange'>GrowPlant</span>",
          "<span style='color:orange'>GrowPlant</span>",
          "<span style='color:orange'>GrowPlant</span>",
          "<span style='color:orange'>IdentifyLifeStages1</span>",
          "<span style='color:orange'>IdentifyLifeStages1</span>",
          "<span style='color:orange'>IdentifyLifeStages1</span>",
          "<span style='color:orange'>IdentifyLifeStages1</span>",
          "<span style='color:orange'>IdentifyLifeStages1</span>",
          "<span style='color:orange'>IdentifyLifeStages1</span>",
          "<span style='color:orange'>IdentifyLifeStages1</span>",
          "<span style='color:orange'>IdentifyLifeStages1</span>",
          "<span style='color:orange'>IdentifyLifeStages1</span>",
          "<span style='color:orange'>IdentifyLifeStages1</span>",
          "<span style='color:orange'>IdentifyLifeStages1</span>",
          "<span style='color:orange'>IdentifyLifeStages1</span>",
          "<span style='color:orange'>IdentifyLifeStages1</span>",
          "<span style='color:orange'>IdentifyLifeStages2</span>",
          "<span style='color:orange'>IdentifyLifeStages2</span>",
          "<span style='color:orange'>IdentifyLifeStages2</span>",
          "<span style='color:orange'>IdentifyLifeStages2</span>",
          "<span style='color:orange'>IdentifyLifeStages2</span>",
          "<span style='color:orange'>IdentifyLifeStages2</span>",
          "<span style='color:orange'>IdentifyLifeStages2</span>",
          "<span style='color:orange'>IdentifyLifeStages2</span>",
          "<span style='color:orange'>IdentifyLifeStages2</span>",
          "<span style='color:orange'>IdentifyLifeStages2</span>",
          "<span style='color:orange'>IdentifyLifeStages2</span>",
          "<span style='color:orange'>IdentifyLifeStages2</span>",
          "<span style='color:orange'>IdentifyLifeStages2</span>",
          "<span style='color:orange'>InclinedPlaneDetermineAngle</span>",
          "<span style='color:orange'>InclinedPlaneDetermineAngle</span>",
          "<span style='color:orange'>InclinedPlaneDetermineAngle</span>",
          "<span style='color:orange'>InclinedPlaneDetermineAngle</span>",
          "<span style='color:orange'>InclinedPlaneDetermineAngle</span>",
          "<span style='color:orange'>InclinedPlaneDetermineAngle</span>",
          "<span style='color:orange'>InclinedPlaneDetermineAngle</span>",
          "<span style='color:orange'>InclinedPlaneDetermineAngle</span>",
          "<span style='color:orange'>InclinedPlaneDetermineAngle</span>",
          "<span style='color:orange'>InclinedPlaneDetermineAngle</span>",
          "<span style='color:orange'>InclinedPlaneDetermineAngle</span>",
          "<span style='color:orange'>InclinedPlaneDetermineAngle</span>",
          "<span style='color:orange'>InclinedPlaneDetermineAngle</span>",
          "<span style='color:orange'>InclinedPlaneFrictionNamedSurfaces</span>",
          "<span style='color:orange'>InclinedPlaneFrictionNamedSurfaces</span>",
          "<span style='color:orange'>InclinedPlaneFrictionNamedSurfaces</span>",
          "<span style='color:orange'>InclinedPlaneFrictionNamedSurfaces</span>",
          "<span style='color:orange'>InclinedPlaneFrictionNamedSurfaces</span>",
          "<span style='color:orange'>InclinedPlaneFrictionNamedSurfaces</span>",
          "<span style='color:orange'>InclinedPlaneFrictionNamedSurfaces</span>",
          "<span style='color:orange'>InclinedPlaneFrictionNamedSurfaces</span>",
          "<span style='color:orange'>InclinedPlaneFrictionNamedSurfaces</span>",
          "<span style='color:orange'>InclinedPlaneFrictionNamedSurfaces</span>",
          "<span style='color:orange'>InclinedPlaneFrictionNamedSurfaces</span>",
          "<span style='color:orange'>InclinedPlaneFrictionNamedSurfaces</span>",
          "<span style='color:orange'>InclinedPlaneFrictionNamedSurfaces</span>",
          "<span style='color:orange'>InclinedPlaneFrictionUnnamedSurfaces</span>",
          "<span style='color:orange'>InclinedPlaneFrictionUnnamedSurfaces</span>",
          "<span style='color:orange'>InclinedPlaneFrictionUnnamedSurfaces</span>",
          "<span style='color:orange'>InclinedPlaneFrictionUnnamedSurfaces</span>",
          "<span style='color:orange'>InclinedPlaneFrictionUnnamedSurfaces</span>",
          "<span style='color:orange'>InclinedPlaneFrictionUnnamedSurfaces</span>",
          "<span style='color:orange'>InclinedPlaneFrictionUnnamedSurfaces</span>",
          "<span style='color:orange'>InclinedPlaneFrictionUnnamedSurfaces</span>",
          "<span style='color:orange'>InclinedPlaneFrictionUnnamedSurfaces</span>",
          "<span style='color:orange'>InclinedPlaneFrictionUnnamedSurfaces</span>",
          "<span style='color:orange'>InclinedPlaneFrictionUnnamedSurfaces</span>",
          "<span style='color:orange'>InclinedPlaneFrictionUnnamedSurfaces</span>",
          "<span style='color:orange'>InclinedPlaneFrictionUnnamedSurfaces</span>",
          "<span style='color:orange'>LifespanLongestLived</span>",
          "<span style='color:orange'>LifespanLongestLived</span>",
          "<span style='color:orange'>LifespanLongestLived</span>",
          "<span style='color:orange'>LifespanLongestLived</span>",
          "<span style='color:orange'>LifespanLongestLived</span>",
          "<span style='color:orange'>LifespanLongestLived</span>",
          "<span style='color:orange'>LifespanLongestLived</span>",
          "<span style='color:orange'>LifespanLongestLived</span>",
          "<span style='color:orange'>LifespanLongestLived</span>",
          "<span style='color:orange'>LifespanLongestLived</span>",
          "<span style='color:orange'>LifespanLongestLived</span>",
          "<span style='color:orange'>LifespanLongestLived</span>",
          "<span style='color:orange'>LifespanLongestLived</span>",
          "<span style='color:orange'>LifespanLongestLivedThenShortestLived</span>",
          "<span style='color:orange'>LifespanLongestLivedThenShortestLived</span>",
          "<span style='color:orange'>LifespanLongestLivedThenShortestLived</span>",
          "<span style='color:orange'>LifespanLongestLivedThenShortestLived</span>",
          "<span style='color:orange'>LifespanLongestLivedThenShortestLived</span>",
          "<span style='color:orange'>LifespanLongestLivedThenShortestLived</span>",
          "<span style='color:orange'>LifespanLongestLivedThenShortestLived</span>",
          "<span style='color:orange'>LifespanLongestLivedThenShortestLived</span>",
          "<span style='color:orange'>LifespanLongestLivedThenShortestLived</span>",
          "<span style='color:orange'>LifespanLongestLivedThenShortestLived</span>",
          "<span style='color:orange'>LifespanLongestLivedThenShortestLived</span>",
          "<span style='color:orange'>LifespanLongestLivedThenShortestLived</span>",
          "<span style='color:orange'>LifespanLongestLivedThenShortestLived</span>",
          "<span style='color:orange'>LifespanShortestLived</span>",
          "<span style='color:orange'>LifespanShortestLived</span>",
          "<span style='color:orange'>LifespanShortestLived</span>",
          "<span style='color:orange'>LifespanShortestLived</span>",
          "<span style='color:orange'>LifespanShortestLived</span>",
          "<span style='color:orange'>LifespanShortestLived</span>",
          "<span style='color:orange'>LifespanShortestLived</span>",
          "<span style='color:orange'>LifespanShortestLived</span>",
          "<span style='color:orange'>LifespanShortestLived</span>",
          "<span style='color:orange'>LifespanShortestLived</span>",
          "<span style='color:orange'>LifespanShortestLived</span>",
          "<span style='color:orange'>LifespanShortestLived</span>",
          "<span style='color:orange'>LifespanShortestLived</span>",
          "<span style='color:orange'>MeasureMeltingPointKnownSubstance</span>",
          "<span style='color:orange'>MeasureMeltingPointKnownSubstance</span>",
          "<span style='color:orange'>MeasureMeltingPointKnownSubstance</span>",
          "<span style='color:orange'>MeasureMeltingPointKnownSubstance</span>",
          "<span style='color:orange'>MeasureMeltingPointKnownSubstance</span>",
          "<span style='color:orange'>MeasureMeltingPointKnownSubstance</span>",
          "<span style='color:orange'>MeasureMeltingPointKnownSubstance</span>",
          "<span style='color:orange'>MeasureMeltingPointKnownSubstance</span>",
          "<span style='color:orange'>MeasureMeltingPointKnownSubstance</span>",
          "<span style='color:orange'>MeasureMeltingPointKnownSubstance</span>",
          "<span style='color:orange'>MeasureMeltingPointKnownSubstance</span>",
          "<span style='color:orange'>MeasureMeltingPointKnownSubstance</span>",
          "<span style='color:orange'>MeasureMeltingPointKnownSubstance</span>",
          "<span style='color:orange'>MeasureMeltingPointUnknownSubstance</span>",
          "<span style='color:orange'>MeasureMeltingPointUnknownSubstance</span>",
          "<span style='color:orange'>MeasureMeltingPointUnknownSubstance</span>",
          "<span style='color:orange'>MeasureMeltingPointUnknownSubstance</span>",
          "<span style='color:orange'>MeasureMeltingPointUnknownSubstance</span>",
          "<span style='color:orange'>MeasureMeltingPointUnknownSubstance</span>",
          "<span style='color:orange'>MeasureMeltingPointUnknownSubstance</span>",
          "<span style='color:orange'>MeasureMeltingPointUnknownSubstance</span>",
          "<span style='color:orange'>MeasureMeltingPointUnknownSubstance</span>",
          "<span style='color:orange'>MeasureMeltingPointUnknownSubstance</span>",
          "<span style='color:orange'>MeasureMeltingPointUnknownSubstance</span>",
          "<span style='color:orange'>MeasureMeltingPointUnknownSubstance</span>",
          "<span style='color:orange'>MeasureMeltingPointUnknownSubstance</span>",
          "<span style='color:orange'>Melt</span>",
          "<span style='color:orange'>Melt</span>",
          "<span style='color:orange'>Melt</span>",
          "<span style='color:orange'>Melt</span>",
          "<span style='color:orange'>Melt</span>",
          "<span style='color:orange'>Melt</span>",
          "<span style='color:orange'>Melt</span>",
          "<span style='color:orange'>Melt</span>",
          "<span style='color:orange'>Melt</span>",
          "<span style='color:orange'>Melt</span>",
          "<span style='color:orange'>Melt</span>",
          "<span style='color:orange'>Melt</span>",
          "<span style='color:orange'>Melt</span>",
          "<span style='color:orange'>MendelianGeneticsKnownPlant</span>",
          "<span style='color:orange'>MendelianGeneticsKnownPlant</span>",
          "<span style='color:orange'>MendelianGeneticsKnownPlant</span>",
          "<span style='color:orange'>MendelianGeneticsKnownPlant</span>",
          "<span style='color:orange'>MendelianGeneticsKnownPlant</span>",
          "<span style='color:orange'>MendelianGeneticsKnownPlant</span>",
          "<span style='color:orange'>MendelianGeneticsKnownPlant</span>",
          "<span style='color:orange'>MendelianGeneticsKnownPlant</span>",
          "<span style='color:orange'>MendelianGeneticsKnownPlant</span>",
          "<span style='color:orange'>MendelianGeneticsKnownPlant</span>",
          "<span style='color:orange'>MendelianGeneticsKnownPlant</span>",
          "<span style='color:orange'>MendelianGeneticsKnownPlant</span>",
          "<span style='color:orange'>MendelianGeneticsKnownPlant</span>",
          "<span style='color:orange'>MendelianGeneticsUnknownPlant</span>",
          "<span style='color:orange'>MendelianGeneticsUnknownPlant</span>",
          "<span style='color:orange'>MendelianGeneticsUnknownPlant</span>",
          "<span style='color:orange'>MendelianGeneticsUnknownPlant</span>",
          "<span style='color:orange'>MendelianGeneticsUnknownPlant</span>",
          "<span style='color:orange'>MendelianGeneticsUnknownPlant</span>",
          "<span style='color:orange'>MendelianGeneticsUnknownPlant</span>",
          "<span style='color:orange'>MendelianGeneticsUnknownPlant</span>",
          "<span style='color:orange'>MendelianGeneticsUnknownPlant</span>",
          "<span style='color:orange'>MendelianGeneticsUnknownPlant</span>",
          "<span style='color:orange'>MendelianGeneticsUnknownPlant</span>",
          "<span style='color:orange'>MendelianGeneticsUnknownPlant</span>",
          "<span style='color:orange'>MendelianGeneticsUnknownPlant</span>",
          "<span style='color:orange'>PowerComponent</span>",
          "<span style='color:orange'>PowerComponent</span>",
          "<span style='color:orange'>PowerComponent</span>",
          "<span style='color:orange'>PowerComponent</span>",
          "<span style='color:orange'>PowerComponent</span>",
          "<span style='color:orange'>PowerComponent</span>",
          "<span style='color:orange'>PowerComponent</span>",
          "<span style='color:orange'>PowerComponent</span>",
          "<span style='color:orange'>PowerComponent</span>",
          "<span style='color:orange'>PowerComponent</span>",
          "<span style='color:orange'>PowerComponent</span>",
          "<span style='color:orange'>PowerComponent</span>",
          "<span style='color:orange'>PowerComponent</span>",
          "<span style='color:orange'>PowerComponentRenewableVsNonrenewableEnergy</span>",
          "<span style='color:orange'>PowerComponentRenewableVsNonrenewableEnergy</span>",
          "<span style='color:orange'>PowerComponentRenewableVsNonrenewableEnergy</span>",
          "<span style='color:orange'>PowerComponentRenewableVsNonrenewableEnergy</span>",
          "<span style='color:orange'>PowerComponentRenewableVsNonrenewableEnergy</span>",
          "<span style='color:orange'>PowerComponentRenewableVsNonrenewableEnergy</span>",
          "<span style='color:orange'>PowerComponentRenewableVsNonrenewableEnergy</span>",
          "<span style='color:orange'>PowerComponentRenewableVsNonrenewableEnergy</span>",
          "<span style='color:orange'>PowerComponentRenewableVsNonrenewableEnergy</span>",
          "<span style='color:orange'>PowerComponentRenewableVsNonrenewableEnergy</span>",
          "<span style='color:orange'>PowerComponentRenewableVsNonrenewableEnergy</span>",
          "<span style='color:orange'>PowerComponentRenewableVsNonrenewableEnergy</span>",
          "<span style='color:orange'>PowerComponentRenewableVsNonrenewableEnergy</span>",
          "<span style='color:orange'>TestConductivity</span>",
          "<span style='color:orange'>TestConductivity</span>",
          "<span style='color:orange'>TestConductivity</span>",
          "<span style='color:orange'>TestConductivity</span>",
          "<span style='color:orange'>TestConductivity</span>",
          "<span style='color:orange'>TestConductivity</span>",
          "<span style='color:orange'>TestConductivity</span>",
          "<span style='color:orange'>TestConductivity</span>",
          "<span style='color:orange'>TestConductivity</span>",
          "<span style='color:orange'>TestConductivity</span>",
          "<span style='color:orange'>TestConductivity</span>",
          "<span style='color:orange'>TestConductivity</span>",
          "<span style='color:orange'>TestConductivity</span>",
          "<span style='color:orange'>TestConductivityOfUnknownSubstances</span>",
          "<span style='color:orange'>TestConductivityOfUnknownSubstances</span>",
          "<span style='color:orange'>TestConductivityOfUnknownSubstances</span>",
          "<span style='color:orange'>TestConductivityOfUnknownSubstances</span>",
          "<span style='color:orange'>TestConductivityOfUnknownSubstances</span>",
          "<span style='color:orange'>TestConductivityOfUnknownSubstances</span>",
          "<span style='color:orange'>TestConductivityOfUnknownSubstances</span>",
          "<span style='color:orange'>TestConductivityOfUnknownSubstances</span>",
          "<span style='color:orange'>TestConductivityOfUnknownSubstances</span>",
          "<span style='color:orange'>TestConductivityOfUnknownSubstances</span>",
          "<span style='color:orange'>TestConductivityOfUnknownSubstances</span>",
          "<span style='color:orange'>TestConductivityOfUnknownSubstances</span>",
          "<span style='color:orange'>TestConductivityOfUnknownSubstances</span>",
          "<span style='color:orange'>UseThermometer</span>",
          "<span style='color:orange'>UseThermometer</span>",
          "<span style='color:orange'>UseThermometer</span>",
          "<span style='color:orange'>UseThermometer</span>",
          "<span style='color:orange'>UseThermometer</span>",
          "<span style='color:orange'>UseThermometer</span>",
          "<span style='color:orange'>UseThermometer</span>",
          "<span style='color:orange'>UseThermometer</span>",
          "<span style='color:orange'>UseThermometer</span>",
          "<span style='color:orange'>UseThermometer</span>",
          "<span style='color:orange'>UseThermometer</span>",
          "<span style='color:orange'>UseThermometer</span>",
          "<span style='color:orange'>UseThermometer</span>"
         ],
         "tickvals": [
          "Boil",
          "Boil",
          "Boil",
          "Boil",
          "Boil",
          "Boil",
          "Boil",
          "Boil",
          "Boil",
          "Boil",
          "Boil",
          "Boil",
          "Boil",
          "ChangeTheStateOfMatterOf",
          "ChangeTheStateOfMatterOf",
          "ChangeTheStateOfMatterOf",
          "ChangeTheStateOfMatterOf",
          "ChangeTheStateOfMatterOf",
          "ChangeTheStateOfMatterOf",
          "ChangeTheStateOfMatterOf",
          "ChangeTheStateOfMatterOf",
          "ChangeTheStateOfMatterOf",
          "ChangeTheStateOfMatterOf",
          "ChangeTheStateOfMatterOf",
          "ChangeTheStateOfMatterOf",
          "ChangeTheStateOfMatterOf",
          "ChemistryMix",
          "ChemistryMix",
          "ChemistryMix",
          "ChemistryMix",
          "ChemistryMix",
          "ChemistryMix",
          "ChemistryMix",
          "ChemistryMix",
          "ChemistryMix",
          "ChemistryMix",
          "ChemistryMix",
          "ChemistryMix",
          "ChemistryMix",
          "ChemistryMixPaintSecondaryColor",
          "ChemistryMixPaintSecondaryColor",
          "ChemistryMixPaintSecondaryColor",
          "ChemistryMixPaintSecondaryColor",
          "ChemistryMixPaintSecondaryColor",
          "ChemistryMixPaintSecondaryColor",
          "ChemistryMixPaintSecondaryColor",
          "ChemistryMixPaintSecondaryColor",
          "ChemistryMixPaintSecondaryColor",
          "ChemistryMixPaintSecondaryColor",
          "ChemistryMixPaintSecondaryColor",
          "ChemistryMixPaintSecondaryColor",
          "ChemistryMixPaintSecondaryColor",
          "ChemistryMixPaintTertiaryColor",
          "ChemistryMixPaintTertiaryColor",
          "ChemistryMixPaintTertiaryColor",
          "ChemistryMixPaintTertiaryColor",
          "ChemistryMixPaintTertiaryColor",
          "ChemistryMixPaintTertiaryColor",
          "ChemistryMixPaintTertiaryColor",
          "ChemistryMixPaintTertiaryColor",
          "ChemistryMixPaintTertiaryColor",
          "ChemistryMixPaintTertiaryColor",
          "ChemistryMixPaintTertiaryColor",
          "ChemistryMixPaintTertiaryColor",
          "ChemistryMixPaintTertiaryColor",
          "FindAnimal",
          "FindAnimal",
          "FindAnimal",
          "FindAnimal",
          "FindAnimal",
          "FindAnimal",
          "FindAnimal",
          "FindAnimal",
          "FindAnimal",
          "FindAnimal",
          "FindAnimal",
          "FindAnimal",
          "FindAnimal",
          "FindLivingThing",
          "FindLivingThing",
          "FindLivingThing",
          "FindLivingThing",
          "FindLivingThing",
          "FindLivingThing",
          "FindLivingThing",
          "FindLivingThing",
          "FindLivingThing",
          "FindLivingThing",
          "FindLivingThing",
          "FindLivingThing",
          "FindLivingThing",
          "FindNonLivingThing",
          "FindNonLivingThing",
          "FindNonLivingThing",
          "FindNonLivingThing",
          "FindNonLivingThing",
          "FindNonLivingThing",
          "FindNonLivingThing",
          "FindNonLivingThing",
          "FindNonLivingThing",
          "FindNonLivingThing",
          "FindNonLivingThing",
          "FindNonLivingThing",
          "FindNonLivingThing",
          "FindPlant",
          "FindPlant",
          "FindPlant",
          "FindPlant",
          "FindPlant",
          "FindPlant",
          "FindPlant",
          "FindPlant",
          "FindPlant",
          "FindPlant",
          "FindPlant",
          "FindPlant",
          "FindPlant",
          "Freeze",
          "Freeze",
          "Freeze",
          "Freeze",
          "Freeze",
          "Freeze",
          "Freeze",
          "Freeze",
          "Freeze",
          "Freeze",
          "Freeze",
          "Freeze",
          "Freeze",
          "GrowFruit",
          "GrowFruit",
          "GrowFruit",
          "GrowFruit",
          "GrowFruit",
          "GrowFruit",
          "GrowFruit",
          "GrowFruit",
          "GrowFruit",
          "GrowFruit",
          "GrowFruit",
          "GrowFruit",
          "GrowFruit",
          "GrowPlant",
          "GrowPlant",
          "GrowPlant",
          "GrowPlant",
          "GrowPlant",
          "GrowPlant",
          "GrowPlant",
          "GrowPlant",
          "GrowPlant",
          "GrowPlant",
          "GrowPlant",
          "GrowPlant",
          "GrowPlant",
          "IdentifyLifeStages1",
          "IdentifyLifeStages1",
          "IdentifyLifeStages1",
          "IdentifyLifeStages1",
          "IdentifyLifeStages1",
          "IdentifyLifeStages1",
          "IdentifyLifeStages1",
          "IdentifyLifeStages1",
          "IdentifyLifeStages1",
          "IdentifyLifeStages1",
          "IdentifyLifeStages1",
          "IdentifyLifeStages1",
          "IdentifyLifeStages1",
          "IdentifyLifeStages2",
          "IdentifyLifeStages2",
          "IdentifyLifeStages2",
          "IdentifyLifeStages2",
          "IdentifyLifeStages2",
          "IdentifyLifeStages2",
          "IdentifyLifeStages2",
          "IdentifyLifeStages2",
          "IdentifyLifeStages2",
          "IdentifyLifeStages2",
          "IdentifyLifeStages2",
          "IdentifyLifeStages2",
          "IdentifyLifeStages2",
          "InclinedPlaneDetermineAngle",
          "InclinedPlaneDetermineAngle",
          "InclinedPlaneDetermineAngle",
          "InclinedPlaneDetermineAngle",
          "InclinedPlaneDetermineAngle",
          "InclinedPlaneDetermineAngle",
          "InclinedPlaneDetermineAngle",
          "InclinedPlaneDetermineAngle",
          "InclinedPlaneDetermineAngle",
          "InclinedPlaneDetermineAngle",
          "InclinedPlaneDetermineAngle",
          "InclinedPlaneDetermineAngle",
          "InclinedPlaneDetermineAngle",
          "InclinedPlaneFrictionNamedSurfaces",
          "InclinedPlaneFrictionNamedSurfaces",
          "InclinedPlaneFrictionNamedSurfaces",
          "InclinedPlaneFrictionNamedSurfaces",
          "InclinedPlaneFrictionNamedSurfaces",
          "InclinedPlaneFrictionNamedSurfaces",
          "InclinedPlaneFrictionNamedSurfaces",
          "InclinedPlaneFrictionNamedSurfaces",
          "InclinedPlaneFrictionNamedSurfaces",
          "InclinedPlaneFrictionNamedSurfaces",
          "InclinedPlaneFrictionNamedSurfaces",
          "InclinedPlaneFrictionNamedSurfaces",
          "InclinedPlaneFrictionNamedSurfaces",
          "InclinedPlaneFrictionUnnamedSurfaces",
          "InclinedPlaneFrictionUnnamedSurfaces",
          "InclinedPlaneFrictionUnnamedSurfaces",
          "InclinedPlaneFrictionUnnamedSurfaces",
          "InclinedPlaneFrictionUnnamedSurfaces",
          "InclinedPlaneFrictionUnnamedSurfaces",
          "InclinedPlaneFrictionUnnamedSurfaces",
          "InclinedPlaneFrictionUnnamedSurfaces",
          "InclinedPlaneFrictionUnnamedSurfaces",
          "InclinedPlaneFrictionUnnamedSurfaces",
          "InclinedPlaneFrictionUnnamedSurfaces",
          "InclinedPlaneFrictionUnnamedSurfaces",
          "InclinedPlaneFrictionUnnamedSurfaces",
          "LifespanLongestLived",
          "LifespanLongestLived",
          "LifespanLongestLived",
          "LifespanLongestLived",
          "LifespanLongestLived",
          "LifespanLongestLived",
          "LifespanLongestLived",
          "LifespanLongestLived",
          "LifespanLongestLived",
          "LifespanLongestLived",
          "LifespanLongestLived",
          "LifespanLongestLived",
          "LifespanLongestLived",
          "LifespanLongestLivedThenShortestLived",
          "LifespanLongestLivedThenShortestLived",
          "LifespanLongestLivedThenShortestLived",
          "LifespanLongestLivedThenShortestLived",
          "LifespanLongestLivedThenShortestLived",
          "LifespanLongestLivedThenShortestLived",
          "LifespanLongestLivedThenShortestLived",
          "LifespanLongestLivedThenShortestLived",
          "LifespanLongestLivedThenShortestLived",
          "LifespanLongestLivedThenShortestLived",
          "LifespanLongestLivedThenShortestLived",
          "LifespanLongestLivedThenShortestLived",
          "LifespanLongestLivedThenShortestLived",
          "LifespanShortestLived",
          "LifespanShortestLived",
          "LifespanShortestLived",
          "LifespanShortestLived",
          "LifespanShortestLived",
          "LifespanShortestLived",
          "LifespanShortestLived",
          "LifespanShortestLived",
          "LifespanShortestLived",
          "LifespanShortestLived",
          "LifespanShortestLived",
          "LifespanShortestLived",
          "LifespanShortestLived",
          "MeasureMeltingPointKnownSubstance",
          "MeasureMeltingPointKnownSubstance",
          "MeasureMeltingPointKnownSubstance",
          "MeasureMeltingPointKnownSubstance",
          "MeasureMeltingPointKnownSubstance",
          "MeasureMeltingPointKnownSubstance",
          "MeasureMeltingPointKnownSubstance",
          "MeasureMeltingPointKnownSubstance",
          "MeasureMeltingPointKnownSubstance",
          "MeasureMeltingPointKnownSubstance",
          "MeasureMeltingPointKnownSubstance",
          "MeasureMeltingPointKnownSubstance",
          "MeasureMeltingPointKnownSubstance",
          "MeasureMeltingPointUnknownSubstance",
          "MeasureMeltingPointUnknownSubstance",
          "MeasureMeltingPointUnknownSubstance",
          "MeasureMeltingPointUnknownSubstance",
          "MeasureMeltingPointUnknownSubstance",
          "MeasureMeltingPointUnknownSubstance",
          "MeasureMeltingPointUnknownSubstance",
          "MeasureMeltingPointUnknownSubstance",
          "MeasureMeltingPointUnknownSubstance",
          "MeasureMeltingPointUnknownSubstance",
          "MeasureMeltingPointUnknownSubstance",
          "MeasureMeltingPointUnknownSubstance",
          "MeasureMeltingPointUnknownSubstance",
          "Melt",
          "Melt",
          "Melt",
          "Melt",
          "Melt",
          "Melt",
          "Melt",
          "Melt",
          "Melt",
          "Melt",
          "Melt",
          "Melt",
          "Melt",
          "MendelianGeneticsKnownPlant",
          "MendelianGeneticsKnownPlant",
          "MendelianGeneticsKnownPlant",
          "MendelianGeneticsKnownPlant",
          "MendelianGeneticsKnownPlant",
          "MendelianGeneticsKnownPlant",
          "MendelianGeneticsKnownPlant",
          "MendelianGeneticsKnownPlant",
          "MendelianGeneticsKnownPlant",
          "MendelianGeneticsKnownPlant",
          "MendelianGeneticsKnownPlant",
          "MendelianGeneticsKnownPlant",
          "MendelianGeneticsKnownPlant",
          "MendelianGeneticsUnknownPlant",
          "MendelianGeneticsUnknownPlant",
          "MendelianGeneticsUnknownPlant",
          "MendelianGeneticsUnknownPlant",
          "MendelianGeneticsUnknownPlant",
          "MendelianGeneticsUnknownPlant",
          "MendelianGeneticsUnknownPlant",
          "MendelianGeneticsUnknownPlant",
          "MendelianGeneticsUnknownPlant",
          "MendelianGeneticsUnknownPlant",
          "MendelianGeneticsUnknownPlant",
          "MendelianGeneticsUnknownPlant",
          "MendelianGeneticsUnknownPlant",
          "PowerComponent",
          "PowerComponent",
          "PowerComponent",
          "PowerComponent",
          "PowerComponent",
          "PowerComponent",
          "PowerComponent",
          "PowerComponent",
          "PowerComponent",
          "PowerComponent",
          "PowerComponent",
          "PowerComponent",
          "PowerComponent",
          "PowerComponentRenewableVsNonrenewableEnergy",
          "PowerComponentRenewableVsNonrenewableEnergy",
          "PowerComponentRenewableVsNonrenewableEnergy",
          "PowerComponentRenewableVsNonrenewableEnergy",
          "PowerComponentRenewableVsNonrenewableEnergy",
          "PowerComponentRenewableVsNonrenewableEnergy",
          "PowerComponentRenewableVsNonrenewableEnergy",
          "PowerComponentRenewableVsNonrenewableEnergy",
          "PowerComponentRenewableVsNonrenewableEnergy",
          "PowerComponentRenewableVsNonrenewableEnergy",
          "PowerComponentRenewableVsNonrenewableEnergy",
          "PowerComponentRenewableVsNonrenewableEnergy",
          "PowerComponentRenewableVsNonrenewableEnergy",
          "TestConductivity",
          "TestConductivity",
          "TestConductivity",
          "TestConductivity",
          "TestConductivity",
          "TestConductivity",
          "TestConductivity",
          "TestConductivity",
          "TestConductivity",
          "TestConductivity",
          "TestConductivity",
          "TestConductivity",
          "TestConductivity",
          "TestConductivityOfUnknownSubstances",
          "TestConductivityOfUnknownSubstances",
          "TestConductivityOfUnknownSubstances",
          "TestConductivityOfUnknownSubstances",
          "TestConductivityOfUnknownSubstances",
          "TestConductivityOfUnknownSubstances",
          "TestConductivityOfUnknownSubstances",
          "TestConductivityOfUnknownSubstances",
          "TestConductivityOfUnknownSubstances",
          "TestConductivityOfUnknownSubstances",
          "TestConductivityOfUnknownSubstances",
          "TestConductivityOfUnknownSubstances",
          "TestConductivityOfUnknownSubstances",
          "UseThermometer",
          "UseThermometer",
          "UseThermometer",
          "UseThermometer",
          "UseThermometer",
          "UseThermometer",
          "UseThermometer",
          "UseThermometer",
          "UseThermometer",
          "UseThermometer",
          "UseThermometer",
          "UseThermometer",
          "UseThermometer"
         ],
         "title": {
          "text": "game"
         }
        }
       }
      }
     },
     "metadata": {},
     "output_type": "display_data"
    }
   ],
   "source": [
    "#df = fetch_data(\"scienceworld\")\n",
    "\n",
    "# filter out the llama-31-70b-instruct\n",
    "tmp = data[~data[\"llm\"].str.contains(\"llama-31-70b-instruct\")]\n",
    "\n",
    "# Keep only LLM agent and conversation mode.\n",
    "tmp = tmp[tmp[\"agent\"].str.contains(\"LLMAgent\")]\n",
    "tmp = tmp[tmp[\"conversation\"]]\n",
    "\n",
    "tmp[\"llm_short\"] = tmp[\"llm\"].str.replace(\"meta-llama/\", \"\")\n",
    "tmp[\"llm_short\"] = tmp[\"llm_short\"].str.replace(\"mistralai/\", \"\")\n",
    "tmp[\"llm_short\"] = tmp[\"llm_short\"].str.replace(\"Qwen/\", \"\")\n",
    "tmp[\"llm_short\"] = tmp[\"llm_short\"].str.replace(\"-Instruct\", \"\")\n",
    "tmp.groupby([\"llm\"])[\"final/Normalized Score\"].describe().reset_index()\n",
    "\n",
    "fig = make_grouped_bar_chart(tmp, groupby=\"llm_short\")\n",
    "fig.show()"
   ]
  }
 ],
 "metadata": {
  "kernelspec": {
   "display_name": "twbench",
   "language": "python",
   "name": "python3"
  },
  "language_info": {
   "codemirror_mode": {
    "name": "ipython",
    "version": 3
   },
   "file_extension": ".py",
   "mimetype": "text/x-python",
   "name": "python",
   "nbconvert_exporter": "python",
   "pygments_lexer": "ipython3",
   "version": "3.10.14"
  }
 },
 "nbformat": 4,
 "nbformat_minor": 2
}
